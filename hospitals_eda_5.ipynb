{
 "cells": [
  {
   "cell_type": "markdown",
   "metadata": {},
   "source": [
    "## Working notebook for Python data analysis project"
   ]
  },
  {
   "cell_type": "code",
   "execution_count": 69,
   "metadata": {},
   "outputs": [],
   "source": [
    "import numpy as np\n",
    "import pandas as pd\n",
    "import re\n",
    "import matplotlib.pyplot as plt\n",
    "import statsmodels.api as sm\n",
    "import seaborn as sns\n",
    "import itertools"
   ]
  },
  {
   "cell_type": "code",
   "execution_count": 61,
   "metadata": {},
   "outputs": [],
   "source": [
    "sns.set_palette('viridis')"
   ]
  },
  {
   "cell_type": "code",
   "execution_count": 2,
   "metadata": {},
   "outputs": [],
   "source": [
    "surveys_dtypes = {'Facility ID':'string',\n",
    " 'Facility Name':'string',\n",
    " 'Address':'string',\n",
    " 'City':'string',\n",
    " 'State':'string',\n",
    " 'ZIP Code':'string',\n",
    " 'County Name':'string',\n",
    " 'Phone Number':'string',\n",
    " 'HCAHPS Measure ID':'string',\n",
    " 'HCAHPS Question':'string',\n",
    " 'HCAHPS Answer Description':'string',\n",
    " 'Patient Survey Star Rating':'Int32',\n",
    " 'Patient Survey Star Rating Footnote':'string',\n",
    " 'HCAHPS Answer Percent':'Int32',\n",
    " 'HCAHPS Answer Percent Footnote':'string',\n",
    " 'HCAHPS Linear Mean Value':'Int32',\n",
    " 'Number of Completed Surveys':'Int32',\n",
    " 'Number of Completed Surveys Footnote':'string',\n",
    " 'Survey Response Rate Percent':'Int32',\n",
    " 'Survey Response Rate Percent Footnote':'string',\n",
    " 'Start Date':'string',\n",
    " 'End Date':'string'}"
   ]
  },
  {
   "cell_type": "code",
   "execution_count": 3,
   "metadata": {},
   "outputs": [],
   "source": [
    "surveys = pd.read_csv('HCAHPS-Hospital.csv', low_memory = False, \n",
    "                      dtype = surveys_dtypes, na_values = ['Not Available', 'Not Applicable'])"
   ]
  },
  {
   "cell_type": "code",
   "execution_count": 4,
   "metadata": {},
   "outputs": [],
   "source": [
    "unpland_dtypes = {'Facility ID':'string',\n",
    " 'Facility Name':'string',\n",
    " 'Address':'string',\n",
    " 'City':'string',\n",
    " 'State':'string',\n",
    " 'ZIP Code':'string',\n",
    " 'County Name':'string',\n",
    " 'Phone Number':'string',\n",
    " 'Measure ID':'string',\n",
    " 'Measure Name':'string',\n",
    " 'Compared to National':'string',\n",
    " 'Denominator':'float',\n",
    " 'Score':'float',\n",
    " 'Lower Estimate':'float',\n",
    " 'Higher Estimate':'float',\n",
    " 'Number of Patients':'Int32',\n",
    " 'Number of Patients Returned':'Int32',\n",
    " 'Footnote':'string',\n",
    " 'Start Date':'string',\n",
    " 'End Date':'string'}"
   ]
  },
  {
   "cell_type": "code",
   "execution_count": 5,
   "metadata": {},
   "outputs": [],
   "source": [
    "unpland = pd.read_csv('Unplanned_Hospital_Visits-Hospital.csv', \n",
    "                      low_memory = False, \n",
    "                      dtype = unpland_dtypes, na_values = ['Not Available', 'Not Applicable'])"
   ]
  },
  {
   "cell_type": "code",
   "execution_count": 6,
   "metadata": {},
   "outputs": [
    {
     "name": "stdout",
     "output_type": "stream",
     "text": [
      "(452538, 22)\n",
      "4866\n",
      "1\n",
      "1\n",
      "01/01/2019\n",
      "12/31/2019\n"
     ]
    }
   ],
   "source": [
    "print(surveys.shape)\n",
    "print(surveys['Facility ID'].unique().size)\n",
    "print(surveys['Start Date'].unique().size)\n",
    "print(surveys['End Date'].unique().size)\n",
    "print(surveys['Start Date'].unique()[0])\n",
    "print(surveys['End Date'].unique()[0])"
   ]
  },
  {
   "cell_type": "code",
   "execution_count": 7,
   "metadata": {},
   "outputs": [
    {
     "name": "stdout",
     "output_type": "stream",
     "text": [
      "(68124, 20)\n",
      "4866\n",
      "4\n",
      "2\n",
      "['07/01/2017', '01/01/2017', '01/01/2019', '07/01/2019']\n",
      "['12/01/2019', '12/24/2019']\n"
     ]
    }
   ],
   "source": [
    "print(unpland.shape)\n",
    "print(unpland['Facility ID'].unique().size)\n",
    "print(unpland['Start Date'].unique().size)\n",
    "print(unpland['End Date'].unique().size)\n",
    "print(list(unpland['Start Date'].unique()))\n",
    "print(list(unpland['End Date'].unique()))"
   ]
  },
  {
   "cell_type": "markdown",
   "metadata": {},
   "source": [
    "#### Note that the survey data is for 2019 only, whereas the unplanned visits data can span periods beginning in 2017. It is impossible (or at least problematic) to extract only 2019 data from unplanned visits because a single measure (single row) can have a start date in 2017 and an end date in 2019. We will continue with the analysis but this is certainly an issue to be aware of and communicated along with the results."
   ]
  },
  {
   "cell_type": "code",
   "execution_count": 8,
   "metadata": {
    "scrolled": true
   },
   "outputs": [
    {
     "data": {
      "text/plain": [
       "[(0, 'Facility ID'),\n",
       " (1, 'Facility Name'),\n",
       " (2, 'Address'),\n",
       " (3, 'City'),\n",
       " (4, 'State'),\n",
       " (5, 'ZIP Code'),\n",
       " (6, 'County Name'),\n",
       " (7, 'Phone Number'),\n",
       " (8, 'HCAHPS Measure ID'),\n",
       " (9, 'HCAHPS Question'),\n",
       " (10, 'HCAHPS Answer Description'),\n",
       " (11, 'Patient Survey Star Rating'),\n",
       " (12, 'Patient Survey Star Rating Footnote'),\n",
       " (13, 'HCAHPS Answer Percent'),\n",
       " (14, 'HCAHPS Answer Percent Footnote'),\n",
       " (15, 'HCAHPS Linear Mean Value'),\n",
       " (16, 'Number of Completed Surveys'),\n",
       " (17, 'Number of Completed Surveys Footnote'),\n",
       " (18, 'Survey Response Rate Percent'),\n",
       " (19, 'Survey Response Rate Percent Footnote'),\n",
       " (20, 'Start Date'),\n",
       " (21, 'End Date')]"
      ]
     },
     "execution_count": 8,
     "metadata": {},
     "output_type": "execute_result"
    }
   ],
   "source": [
    "list(enumerate(surveys.columns.tolist()))"
   ]
  },
  {
   "cell_type": "markdown",
   "metadata": {},
   "source": [
    "#### For the most part footnotes explain why a value is missing, or give information on a restriction that applies to a measure. At this time they are deemed unimportant. "
   ]
  },
  {
   "cell_type": "code",
   "execution_count": 9,
   "metadata": {},
   "outputs": [],
   "source": [
    "star_ratings = surveys.iloc[:, [0, 8, 11]][surveys['HCAHPS Measure ID'].apply(lambda x: re.search('STAR_RATING$', x) != None)]\n",
    "star_ratings['HCAHPS Measure ID'] = star_ratings['HCAHPS Measure ID'].apply(lambda x: x[:-12])"
   ]
  },
  {
   "cell_type": "code",
   "execution_count": 52,
   "metadata": {},
   "outputs": [
    {
     "data": {
      "image/png": "[encoded data removed]",
      "text/plain": [
       "<Figure size 432x288 with 1 Axes>"
      ]
     },
     "metadata": {
      "needs_background": "light"
     },
     "output_type": "display_data"
    }
   ],
   "source": [
    "_ = star_ratings[star_ratings['HCAHPS Measure ID']=='H'].dropna()\n",
    "_ = sns.countplot(x='Patient Survey Star Rating', data=_)\n",
    "plt.show()"
   ]
  },
  {
   "cell_type": "code",
   "execution_count": 10,
   "metadata": {},
   "outputs": [],
   "source": [
    "linear_scores = surveys.iloc[:, [0, 8, 15]][surveys['HCAHPS Measure ID'].apply(lambda x: re.search('LINEAR_SCORE$', x) != None)]\n",
    "linear_scores['HCAHPS Measure ID'] = linear_scores['HCAHPS Measure ID'].apply(lambda x: x[:-13])"
   ]
  },
  {
   "cell_type": "code",
   "execution_count": 11,
   "metadata": {
    "scrolled": true
   },
   "outputs": [],
   "source": [
    "star_linear = pd.merge(star_ratings, linear_scores, on=['Facility ID','HCAHPS Measure ID'])"
   ]
  },
  {
   "cell_type": "code",
   "execution_count": 49,
   "metadata": {},
   "outputs": [
    {
     "data": {
      "image/png": "[encoded data removed]",
      "text/plain": [
       "<Figure size 432x288 with 1 Axes>"
      ]
     },
     "metadata": {
      "needs_background": "light"
     },
     "output_type": "display_data"
    }
   ],
   "source": [
    "_ = sns.stripplot(x='Patient Survey Star Rating', y='HCAHPS Linear Mean Value', data=star_linear.dropna())\n",
    "_.set_title('Star Rating vs Linear Score')\n",
    "plt.show()"
   ]
  },
  {
   "cell_type": "markdown",
   "metadata": {},
   "source": [
    "#### Because of the increased amount of information available we will concentrate on linear scores, except possibly in the case where there is a star rating but no linear score for a measure. There is a case to be made for star ratings, but this can be investigated at a future date."
   ]
  },
  {
   "cell_type": "code",
   "execution_count": 13,
   "metadata": {},
   "outputs": [
    {
     "data": {
      "text/plain": [
       "[(0, 'Facility ID'),\n",
       " (1, 'Facility Name'),\n",
       " (2, 'Address'),\n",
       " (3, 'City'),\n",
       " (4, 'State'),\n",
       " (5, 'ZIP Code'),\n",
       " (6, 'County Name'),\n",
       " (7, 'Phone Number'),\n",
       " (8, 'Measure ID'),\n",
       " (9, 'Measure Name'),\n",
       " (10, 'Compared to National'),\n",
       " (11, 'Denominator'),\n",
       " (12, 'Score'),\n",
       " (13, 'Lower Estimate'),\n",
       " (14, 'Higher Estimate'),\n",
       " (15, 'Number of Patients'),\n",
       " (16, 'Number of Patients Returned'),\n",
       " (17, 'Footnote'),\n",
       " (18, 'Start Date'),\n",
       " (19, 'End Date')]"
      ]
     },
     "execution_count": 13,
     "metadata": {},
     "output_type": "execute_result"
    }
   ],
   "source": [
    "list(enumerate(unpland.columns.tolist()))"
   ]
  },
  {
   "cell_type": "code",
   "execution_count": 14,
   "metadata": {},
   "outputs": [
    {
     "name": "stdout",
     "output_type": "stream",
     "text": [
      "['07/01/2019']\n",
      "['12/01/2019']\n"
     ]
    }
   ],
   "source": [
    "print(list(unpland[unpland['Measure ID']=='READM_30_HOSP_WIDE']['Start Date'].unique()))\n",
    "print(list(unpland[unpland['Measure ID']=='READM_30_HOSP_WIDE']['End Date'].unique()))"
   ]
  },
  {
   "cell_type": "markdown",
   "metadata": {},
   "source": [
    "#### It seems by focussing on the measure 'READM_30_HOSP_WIDE' we eliminate the previous concern over dates, though they still do not match precisely so can be considered to only modify the issue. "
   ]
  },
  {
   "cell_type": "code",
   "execution_count": 15,
   "metadata": {
    "scrolled": true
   },
   "outputs": [],
   "source": [
    "readm_hw = unpland[unpland['Measure ID']=='READM_30_HOSP_WIDE'].iloc[:, [0, 12]].dropna()\n",
    "readm_hw = readm_hw.rename(columns={'Score':'READM_RATE'}).set_index('Facility ID')"
   ]
  },
  {
   "cell_type": "code",
   "execution_count": 16,
   "metadata": {
    "scrolled": true
   },
   "outputs": [
    {
     "data": {
      "text/plain": [
       "(4131, 1)"
      ]
     },
     "execution_count": 16,
     "metadata": {},
     "output_type": "execute_result"
    }
   ],
   "source": [
    "readm_hw.shape"
   ]
  },
  {
   "cell_type": "code",
   "execution_count": 17,
   "metadata": {
    "scrolled": true
   },
   "outputs": [
    {
     "data": {
      "text/html": [
       "<div>\n",
       "<style scoped>\n",
       "    .dataframe tbody tr th:only-of-type {\n",
       "        vertical-align: middle;\n",
       "    }\n",
       "\n",
       "    .dataframe tbody tr th {\n",
       "        vertical-align: top;\n",
       "    }\n",
       "\n",
       "    .dataframe thead th {\n",
       "        text-align: right;\n",
       "    }\n",
       "</style>\n",
       "<table border=\"1\" class=\"dataframe\">\n",
       "  <thead>\n",
       "    <tr style=\"text-align: right;\">\n",
       "      <th>HCAHPS Measure ID</th>\n",
       "      <th>H_CLEAN</th>\n",
       "      <th>H_COMP_1</th>\n",
       "      <th>H_COMP_2</th>\n",
       "      <th>H_COMP_3</th>\n",
       "      <th>H_COMP_5</th>\n",
       "      <th>H_COMP_6</th>\n",
       "      <th>H_COMP_7</th>\n",
       "      <th>H_HSP_RATING</th>\n",
       "      <th>H_QUIET</th>\n",
       "      <th>H_RECMND</th>\n",
       "    </tr>\n",
       "    <tr>\n",
       "      <th>Facility ID</th>\n",
       "      <th></th>\n",
       "      <th></th>\n",
       "      <th></th>\n",
       "      <th></th>\n",
       "      <th></th>\n",
       "      <th></th>\n",
       "      <th></th>\n",
       "      <th></th>\n",
       "      <th></th>\n",
       "      <th></th>\n",
       "    </tr>\n",
       "  </thead>\n",
       "  <tbody>\n",
       "    <tr>\n",
       "      <th>010001</th>\n",
       "      <td>87</td>\n",
       "      <td>90</td>\n",
       "      <td>91</td>\n",
       "      <td>84</td>\n",
       "      <td>80</td>\n",
       "      <td>90</td>\n",
       "      <td>82</td>\n",
       "      <td>88</td>\n",
       "      <td>86</td>\n",
       "      <td>90</td>\n",
       "    </tr>\n",
       "    <tr>\n",
       "      <th>010005</th>\n",
       "      <td>85</td>\n",
       "      <td>91</td>\n",
       "      <td>93</td>\n",
       "      <td>83</td>\n",
       "      <td>80</td>\n",
       "      <td>90</td>\n",
       "      <td>81</td>\n",
       "      <td>88</td>\n",
       "      <td>85</td>\n",
       "      <td>88</td>\n",
       "    </tr>\n",
       "    <tr>\n",
       "      <th>010006</th>\n",
       "      <td>86</td>\n",
       "      <td>90</td>\n",
       "      <td>92</td>\n",
       "      <td>78</td>\n",
       "      <td>76</td>\n",
       "      <td>84</td>\n",
       "      <td>80</td>\n",
       "      <td>86</td>\n",
       "      <td>87</td>\n",
       "      <td>87</td>\n",
       "    </tr>\n",
       "    <tr>\n",
       "      <th>010007</th>\n",
       "      <td>88</td>\n",
       "      <td>91</td>\n",
       "      <td>92</td>\n",
       "      <td>86</td>\n",
       "      <td>83</td>\n",
       "      <td>90</td>\n",
       "      <td>83</td>\n",
       "      <td>88</td>\n",
       "      <td>88</td>\n",
       "      <td>88</td>\n",
       "    </tr>\n",
       "    <tr>\n",
       "      <th>010008</th>\n",
       "      <td>&lt;NA&gt;</td>\n",
       "      <td>&lt;NA&gt;</td>\n",
       "      <td>&lt;NA&gt;</td>\n",
       "      <td>&lt;NA&gt;</td>\n",
       "      <td>&lt;NA&gt;</td>\n",
       "      <td>&lt;NA&gt;</td>\n",
       "      <td>&lt;NA&gt;</td>\n",
       "      <td>&lt;NA&gt;</td>\n",
       "      <td>&lt;NA&gt;</td>\n",
       "      <td>&lt;NA&gt;</td>\n",
       "    </tr>\n",
       "    <tr>\n",
       "      <th>...</th>\n",
       "      <td>...</td>\n",
       "      <td>...</td>\n",
       "      <td>...</td>\n",
       "      <td>...</td>\n",
       "      <td>...</td>\n",
       "      <td>...</td>\n",
       "      <td>...</td>\n",
       "      <td>...</td>\n",
       "      <td>...</td>\n",
       "      <td>...</td>\n",
       "    </tr>\n",
       "    <tr>\n",
       "      <th>670260</th>\n",
       "      <td>&lt;NA&gt;</td>\n",
       "      <td>&lt;NA&gt;</td>\n",
       "      <td>&lt;NA&gt;</td>\n",
       "      <td>&lt;NA&gt;</td>\n",
       "      <td>&lt;NA&gt;</td>\n",
       "      <td>&lt;NA&gt;</td>\n",
       "      <td>&lt;NA&gt;</td>\n",
       "      <td>&lt;NA&gt;</td>\n",
       "      <td>&lt;NA&gt;</td>\n",
       "      <td>&lt;NA&gt;</td>\n",
       "    </tr>\n",
       "    <tr>\n",
       "      <th>670266</th>\n",
       "      <td>&lt;NA&gt;</td>\n",
       "      <td>&lt;NA&gt;</td>\n",
       "      <td>&lt;NA&gt;</td>\n",
       "      <td>&lt;NA&gt;</td>\n",
       "      <td>&lt;NA&gt;</td>\n",
       "      <td>&lt;NA&gt;</td>\n",
       "      <td>&lt;NA&gt;</td>\n",
       "      <td>&lt;NA&gt;</td>\n",
       "      <td>&lt;NA&gt;</td>\n",
       "      <td>&lt;NA&gt;</td>\n",
       "    </tr>\n",
       "    <tr>\n",
       "      <th>670267</th>\n",
       "      <td>&lt;NA&gt;</td>\n",
       "      <td>&lt;NA&gt;</td>\n",
       "      <td>&lt;NA&gt;</td>\n",
       "      <td>&lt;NA&gt;</td>\n",
       "      <td>&lt;NA&gt;</td>\n",
       "      <td>&lt;NA&gt;</td>\n",
       "      <td>&lt;NA&gt;</td>\n",
       "      <td>&lt;NA&gt;</td>\n",
       "      <td>&lt;NA&gt;</td>\n",
       "      <td>&lt;NA&gt;</td>\n",
       "    </tr>\n",
       "    <tr>\n",
       "      <th>670280</th>\n",
       "      <td>&lt;NA&gt;</td>\n",
       "      <td>&lt;NA&gt;</td>\n",
       "      <td>&lt;NA&gt;</td>\n",
       "      <td>&lt;NA&gt;</td>\n",
       "      <td>&lt;NA&gt;</td>\n",
       "      <td>&lt;NA&gt;</td>\n",
       "      <td>&lt;NA&gt;</td>\n",
       "      <td>&lt;NA&gt;</td>\n",
       "      <td>&lt;NA&gt;</td>\n",
       "      <td>&lt;NA&gt;</td>\n",
       "    </tr>\n",
       "    <tr>\n",
       "      <th>670285</th>\n",
       "      <td>&lt;NA&gt;</td>\n",
       "      <td>&lt;NA&gt;</td>\n",
       "      <td>&lt;NA&gt;</td>\n",
       "      <td>&lt;NA&gt;</td>\n",
       "      <td>&lt;NA&gt;</td>\n",
       "      <td>&lt;NA&gt;</td>\n",
       "      <td>&lt;NA&gt;</td>\n",
       "      <td>&lt;NA&gt;</td>\n",
       "      <td>&lt;NA&gt;</td>\n",
       "      <td>&lt;NA&gt;</td>\n",
       "    </tr>\n",
       "  </tbody>\n",
       "</table>\n",
       "<p>4866 rows × 10 columns</p>\n",
       "</div>"
      ],
      "text/plain": [
       "HCAHPS Measure ID  H_CLEAN  H_COMP_1  H_COMP_2  H_COMP_3  H_COMP_5  H_COMP_6  \\\n",
       "Facility ID                                                                    \n",
       "010001                  87        90        91        84        80        90   \n",
       "010005                  85        91        93        83        80        90   \n",
       "010006                  86        90        92        78        76        84   \n",
       "010007                  88        91        92        86        83        90   \n",
       "010008                <NA>      <NA>      <NA>      <NA>      <NA>      <NA>   \n",
       "...                    ...       ...       ...       ...       ...       ...   \n",
       "670260                <NA>      <NA>      <NA>      <NA>      <NA>      <NA>   \n",
       "670266                <NA>      <NA>      <NA>      <NA>      <NA>      <NA>   \n",
       "670267                <NA>      <NA>      <NA>      <NA>      <NA>      <NA>   \n",
       "670280                <NA>      <NA>      <NA>      <NA>      <NA>      <NA>   \n",
       "670285                <NA>      <NA>      <NA>      <NA>      <NA>      <NA>   \n",
       "\n",
       "HCAHPS Measure ID  H_COMP_7  H_HSP_RATING  H_QUIET  H_RECMND  \n",
       "Facility ID                                                   \n",
       "010001                   82            88       86        90  \n",
       "010005                   81            88       85        88  \n",
       "010006                   80            86       87        87  \n",
       "010007                   83            88       88        88  \n",
       "010008                 <NA>          <NA>     <NA>      <NA>  \n",
       "...                     ...           ...      ...       ...  \n",
       "670260                 <NA>          <NA>     <NA>      <NA>  \n",
       "670266                 <NA>          <NA>     <NA>      <NA>  \n",
       "670267                 <NA>          <NA>     <NA>      <NA>  \n",
       "670280                 <NA>          <NA>     <NA>      <NA>  \n",
       "670285                 <NA>          <NA>     <NA>      <NA>  \n",
       "\n",
       "[4866 rows x 10 columns]"
      ]
     },
     "execution_count": 17,
     "metadata": {},
     "output_type": "execute_result"
    }
   ],
   "source": [
    "linear_scores = linear_scores.set_index(['Facility ID', 'HCAHPS Measure ID'])\n",
    "linear_pv = linear_scores.unstack().droplevel(0, axis = 1)\n",
    "linear_pv"
   ]
  },
  {
   "cell_type": "code",
   "execution_count": 18,
   "metadata": {},
   "outputs": [
    {
     "data": {
      "text/plain": [
       "(3445, 10)"
      ]
     },
     "execution_count": 18,
     "metadata": {},
     "output_type": "execute_result"
    }
   ],
   "source": [
    "linear_pv.dropna().shape"
   ]
  },
  {
   "cell_type": "code",
   "execution_count": 19,
   "metadata": {},
   "outputs": [
    {
     "data": {
      "text/html": [
       "<div>\n",
       "<style scoped>\n",
       "    .dataframe tbody tr th:only-of-type {\n",
       "        vertical-align: middle;\n",
       "    }\n",
       "\n",
       "    .dataframe tbody tr th {\n",
       "        vertical-align: top;\n",
       "    }\n",
       "\n",
       "    .dataframe thead th {\n",
       "        text-align: right;\n",
       "    }\n",
       "</style>\n",
       "<table border=\"1\" class=\"dataframe\">\n",
       "  <thead>\n",
       "    <tr style=\"text-align: right;\">\n",
       "      <th></th>\n",
       "      <th>H_CLEAN</th>\n",
       "      <th>H_COMP_1</th>\n",
       "      <th>H_COMP_2</th>\n",
       "      <th>H_COMP_3</th>\n",
       "      <th>H_COMP_5</th>\n",
       "      <th>H_COMP_6</th>\n",
       "      <th>H_COMP_7</th>\n",
       "      <th>H_HSP_RATING</th>\n",
       "      <th>H_QUIET</th>\n",
       "      <th>H_RECMND</th>\n",
       "      <th>READM_RATE</th>\n",
       "    </tr>\n",
       "    <tr>\n",
       "      <th>Facility ID</th>\n",
       "      <th></th>\n",
       "      <th></th>\n",
       "      <th></th>\n",
       "      <th></th>\n",
       "      <th></th>\n",
       "      <th></th>\n",
       "      <th></th>\n",
       "      <th></th>\n",
       "      <th></th>\n",
       "      <th></th>\n",
       "      <th></th>\n",
       "    </tr>\n",
       "  </thead>\n",
       "  <tbody>\n",
       "    <tr>\n",
       "      <th>010001</th>\n",
       "      <td>87</td>\n",
       "      <td>90</td>\n",
       "      <td>91</td>\n",
       "      <td>84</td>\n",
       "      <td>80</td>\n",
       "      <td>90</td>\n",
       "      <td>82</td>\n",
       "      <td>88</td>\n",
       "      <td>86</td>\n",
       "      <td>90</td>\n",
       "      <td>15.5</td>\n",
       "    </tr>\n",
       "    <tr>\n",
       "      <th>010005</th>\n",
       "      <td>85</td>\n",
       "      <td>91</td>\n",
       "      <td>93</td>\n",
       "      <td>83</td>\n",
       "      <td>80</td>\n",
       "      <td>90</td>\n",
       "      <td>81</td>\n",
       "      <td>88</td>\n",
       "      <td>85</td>\n",
       "      <td>88</td>\n",
       "      <td>14.7</td>\n",
       "    </tr>\n",
       "    <tr>\n",
       "      <th>010006</th>\n",
       "      <td>86</td>\n",
       "      <td>90</td>\n",
       "      <td>92</td>\n",
       "      <td>78</td>\n",
       "      <td>76</td>\n",
       "      <td>84</td>\n",
       "      <td>80</td>\n",
       "      <td>86</td>\n",
       "      <td>87</td>\n",
       "      <td>87</td>\n",
       "      <td>15.7</td>\n",
       "    </tr>\n",
       "    <tr>\n",
       "      <th>010007</th>\n",
       "      <td>88</td>\n",
       "      <td>91</td>\n",
       "      <td>92</td>\n",
       "      <td>86</td>\n",
       "      <td>83</td>\n",
       "      <td>90</td>\n",
       "      <td>83</td>\n",
       "      <td>88</td>\n",
       "      <td>88</td>\n",
       "      <td>88</td>\n",
       "      <td>15.7</td>\n",
       "    </tr>\n",
       "    <tr>\n",
       "      <th>010008</th>\n",
       "      <td>&lt;NA&gt;</td>\n",
       "      <td>&lt;NA&gt;</td>\n",
       "      <td>&lt;NA&gt;</td>\n",
       "      <td>&lt;NA&gt;</td>\n",
       "      <td>&lt;NA&gt;</td>\n",
       "      <td>&lt;NA&gt;</td>\n",
       "      <td>&lt;NA&gt;</td>\n",
       "      <td>&lt;NA&gt;</td>\n",
       "      <td>&lt;NA&gt;</td>\n",
       "      <td>&lt;NA&gt;</td>\n",
       "      <td>15.3</td>\n",
       "    </tr>\n",
       "    <tr>\n",
       "      <th>...</th>\n",
       "      <td>...</td>\n",
       "      <td>...</td>\n",
       "      <td>...</td>\n",
       "      <td>...</td>\n",
       "      <td>...</td>\n",
       "      <td>...</td>\n",
       "      <td>...</td>\n",
       "      <td>...</td>\n",
       "      <td>...</td>\n",
       "      <td>...</td>\n",
       "      <td>...</td>\n",
       "    </tr>\n",
       "    <tr>\n",
       "      <th>670116</th>\n",
       "      <td>93</td>\n",
       "      <td>95</td>\n",
       "      <td>94</td>\n",
       "      <td>92</td>\n",
       "      <td>86</td>\n",
       "      <td>91</td>\n",
       "      <td>86</td>\n",
       "      <td>93</td>\n",
       "      <td>92</td>\n",
       "      <td>94</td>\n",
       "      <td>15.9</td>\n",
       "    </tr>\n",
       "    <tr>\n",
       "      <th>670120</th>\n",
       "      <td>89</td>\n",
       "      <td>89</td>\n",
       "      <td>89</td>\n",
       "      <td>83</td>\n",
       "      <td>78</td>\n",
       "      <td>84</td>\n",
       "      <td>80</td>\n",
       "      <td>87</td>\n",
       "      <td>85</td>\n",
       "      <td>87</td>\n",
       "      <td>16.5</td>\n",
       "    </tr>\n",
       "    <tr>\n",
       "      <th>670122</th>\n",
       "      <td>86</td>\n",
       "      <td>91</td>\n",
       "      <td>91</td>\n",
       "      <td>85</td>\n",
       "      <td>77</td>\n",
       "      <td>86</td>\n",
       "      <td>82</td>\n",
       "      <td>92</td>\n",
       "      <td>84</td>\n",
       "      <td>92</td>\n",
       "      <td>16.9</td>\n",
       "    </tr>\n",
       "    <tr>\n",
       "      <th>670124</th>\n",
       "      <td>&lt;NA&gt;</td>\n",
       "      <td>&lt;NA&gt;</td>\n",
       "      <td>&lt;NA&gt;</td>\n",
       "      <td>&lt;NA&gt;</td>\n",
       "      <td>&lt;NA&gt;</td>\n",
       "      <td>&lt;NA&gt;</td>\n",
       "      <td>&lt;NA&gt;</td>\n",
       "      <td>&lt;NA&gt;</td>\n",
       "      <td>&lt;NA&gt;</td>\n",
       "      <td>&lt;NA&gt;</td>\n",
       "      <td>15.5</td>\n",
       "    </tr>\n",
       "    <tr>\n",
       "      <th>670128</th>\n",
       "      <td>&lt;NA&gt;</td>\n",
       "      <td>&lt;NA&gt;</td>\n",
       "      <td>&lt;NA&gt;</td>\n",
       "      <td>&lt;NA&gt;</td>\n",
       "      <td>&lt;NA&gt;</td>\n",
       "      <td>&lt;NA&gt;</td>\n",
       "      <td>&lt;NA&gt;</td>\n",
       "      <td>&lt;NA&gt;</td>\n",
       "      <td>&lt;NA&gt;</td>\n",
       "      <td>&lt;NA&gt;</td>\n",
       "      <td>15.6</td>\n",
       "    </tr>\n",
       "  </tbody>\n",
       "</table>\n",
       "<p>4131 rows × 11 columns</p>\n",
       "</div>"
      ],
      "text/plain": [
       "             H_CLEAN  H_COMP_1  H_COMP_2  H_COMP_3  H_COMP_5  H_COMP_6  \\\n",
       "Facility ID                                                              \n",
       "010001            87        90        91        84        80        90   \n",
       "010005            85        91        93        83        80        90   \n",
       "010006            86        90        92        78        76        84   \n",
       "010007            88        91        92        86        83        90   \n",
       "010008          <NA>      <NA>      <NA>      <NA>      <NA>      <NA>   \n",
       "...              ...       ...       ...       ...       ...       ...   \n",
       "670116            93        95        94        92        86        91   \n",
       "670120            89        89        89        83        78        84   \n",
       "670122            86        91        91        85        77        86   \n",
       "670124          <NA>      <NA>      <NA>      <NA>      <NA>      <NA>   \n",
       "670128          <NA>      <NA>      <NA>      <NA>      <NA>      <NA>   \n",
       "\n",
       "             H_COMP_7  H_HSP_RATING  H_QUIET  H_RECMND  READM_RATE  \n",
       "Facility ID                                                         \n",
       "010001             82            88       86        90        15.5  \n",
       "010005             81            88       85        88        14.7  \n",
       "010006             80            86       87        87        15.7  \n",
       "010007             83            88       88        88        15.7  \n",
       "010008           <NA>          <NA>     <NA>      <NA>        15.3  \n",
       "...               ...           ...      ...       ...         ...  \n",
       "670116             86            93       92        94        15.9  \n",
       "670120             80            87       85        87        16.5  \n",
       "670122             82            92       84        92        16.9  \n",
       "670124           <NA>          <NA>     <NA>      <NA>        15.5  \n",
       "670128           <NA>          <NA>     <NA>      <NA>        15.6  \n",
       "\n",
       "[4131 rows x 11 columns]"
      ]
     },
     "execution_count": 19,
     "metadata": {},
     "output_type": "execute_result"
    }
   ],
   "source": [
    "lin_readm = pd.merge(linear_pv, readm_hw, on='Facility ID')\n",
    "lin_readm"
   ]
  },
  {
   "cell_type": "code",
   "execution_count": 20,
   "metadata": {},
   "outputs": [
    {
     "data": {
      "text/plain": [
       "H_COMP_6       -0.262240\n",
       "H_RECMND       -0.232840\n",
       "H_COMP_1       -0.226153\n",
       "H_HSP_RATING   -0.225432\n",
       "H_COMP_3       -0.212882\n",
       "H_COMP_7       -0.203613\n",
       "H_COMP_2       -0.197653\n",
       "H_CLEAN        -0.193883\n",
       "H_COMP_5       -0.167898\n",
       "H_QUIET        -0.157066\n",
       "Name: READM_RATE, dtype: float64"
      ]
     },
     "execution_count": 20,
     "metadata": {},
     "output_type": "execute_result"
    }
   ],
   "source": [
    "readm_corr = lin_readm.corr()[:-1]['READM_RATE'].sort_values()\n",
    "readm_corr"
   ]
  },
  {
   "cell_type": "code",
   "execution_count": 97,
   "metadata": {},
   "outputs": [],
   "source": [
    "X_ = np.array(lin_readm[['H_COMP_6', 'READM_RATE']].dropna()['H_COMP_6']).astype('float')\n",
    "X2 = sm.add_constant(X_)\n",
    "y = np.array(lin_readm[['H_COMP_6', 'READM_RATE']].dropna()['READM_RATE']).astype('float')\n",
    "model = sm.OLS(y, X2)\n",
    "reg2_COMP_6 = model.fit()"
   ]
  },
  {
   "cell_type": "code",
   "execution_count": 98,
   "metadata": {
    "scrolled": true
   },
   "outputs": [
    {
     "name": "stdout",
     "output_type": "stream",
     "text": [
      "                            OLS Regression Results                            \n",
      "==============================================================================\n",
      "Dep. Variable:                      y   R-squared:                       0.069\n",
      "Model:                            OLS   Adj. R-squared:                  0.068\n",
      "Method:                 Least Squares   F-statistic:                     249.8\n",
      "Date:                Sat, 24 Jul 2021   Prob (F-statistic):           2.47e-54\n",
      "Time:                        00:36:51   Log-Likelihood:                -3652.0\n",
      "No. Observations:                3384   AIC:                             7308.\n",
      "Df Residuals:                    3382   BIC:                             7320.\n",
      "Df Model:                           1                                         \n",
      "Covariance Type:            nonrobust                                         \n",
      "==============================================================================\n",
      "                 coef    std err          t      P>|t|      [0.025      0.975]\n",
      "------------------------------------------------------------------------------\n",
      "const         20.0842      0.290     69.149      0.000      19.515      20.654\n",
      "x1            -0.0527      0.003    -15.804      0.000      -0.059      -0.046\n",
      "==============================================================================\n",
      "Omnibus:                      612.622   Durbin-Watson:                   1.813\n",
      "Prob(Omnibus):                  0.000   Jarque-Bera (JB):             3096.156\n",
      "Skew:                           0.774   Prob(JB):                         0.00\n",
      "Kurtosis:                       7.423   Cond. No.                     2.07e+03\n",
      "==============================================================================\n",
      "\n",
      "Notes:\n",
      "[1] Standard Errors assume that the covariance matrix of the errors is correctly specified.\n",
      "[2] The condition number is large, 2.07e+03. This might indicate that there are\n",
      "strong multicollinearity or other numerical problems.\n"
     ]
    }
   ],
   "source": [
    "print(reg2_COMP_6.summary())"
   ]
  },
  {
   "cell_type": "code",
   "execution_count": 99,
   "metadata": {},
   "outputs": [
    {
     "data": {
      "image/png": "[encoded data removed]",
      "text/plain": [
       "<Figure size 432x288 with 1 Axes>"
      ]
     },
     "metadata": {
      "needs_background": "light"
     },
     "output_type": "display_data"
    }
   ],
   "source": [
    "_ = sns.regplot(x = X_, y = y, scatter_kws={'alpha':0.25})\n",
    "_.set_title('Readmittance Rate vs Discharge Information')\n",
    "_.set_xlabel('Discharge Information Linear Score')\n",
    "_.set_ylabel('30 Day Readmittance Rate')\n",
    "plt.show()"
   ]
  },
  {
   "cell_type": "code",
   "execution_count": 102,
   "metadata": {},
   "outputs": [
    {
     "data": {
      "image/png": "[encoded data removed]",
      "text/plain": [
       "<Figure size 432x288 with 1 Axes>"
      ]
     },
     "metadata": {
      "needs_background": "light"
     },
     "output_type": "display_data"
    }
   ],
   "source": [
    "data = lin_readm[['H_COMP_7', 'READM_RATE']].dropna().astype(float)\n",
    "_ = sns.regplot(x='H_COMP_7', y='READM_RATE', data=data, scatter_kws={'alpha':0.25})\n",
    "_.set_title('Readmittance Rate vs Care Transition')\n",
    "_.set_xlabel('Care Transition Linear Score')\n",
    "_.set_ylabel('30 Day Readmittance Rate')\n",
    "plt.show()"
   ]
  },
  {
   "cell_type": "code",
   "execution_count": 24,
   "metadata": {},
   "outputs": [
    {
     "data": {
      "text/plain": [
       "[(0, 'H_CLEAN'),\n",
       " (1, 'H_COMP_1'),\n",
       " (2, 'H_COMP_2'),\n",
       " (3, 'H_COMP_3'),\n",
       " (4, 'H_COMP_5'),\n",
       " (5, 'H_COMP_6'),\n",
       " (6, 'H_COMP_7'),\n",
       " (7, 'H_HSP_RATING'),\n",
       " (8, 'H_QUIET'),\n",
       " (9, 'H_RECMND'),\n",
       " (10, 'READM_RATE')]"
      ]
     },
     "execution_count": 24,
     "metadata": {},
     "output_type": "execute_result"
    }
   ],
   "source": [
    "list(enumerate(lin_readm.columns.tolist()))"
   ]
  },
  {
   "cell_type": "code",
   "execution_count": 95,
   "metadata": {},
   "outputs": [
    {
     "name": "stdout",
     "output_type": "stream",
     "text": [
      "                            OLS Regression Results                            \n",
      "==============================================================================\n",
      "Dep. Variable:                      y   R-squared:                       0.091\n",
      "Model:                            OLS   Adj. R-squared:                  0.088\n",
      "Method:                 Least Squares   F-statistic:                     33.81\n",
      "Date:                Sat, 24 Jul 2021   Prob (F-statistic):           2.58e-63\n",
      "Time:                        00:08:29   Log-Likelihood:                -3610.9\n",
      "No. Observations:                3384   AIC:                             7244.\n",
      "Df Residuals:                    3373   BIC:                             7311.\n",
      "Df Model:                          10                                         \n",
      "Covariance Type:            nonrobust                                         \n",
      "==============================================================================\n",
      "                 coef    std err          t      P>|t|      [0.025      0.975]\n",
      "------------------------------------------------------------------------------\n",
      "const         20.6760      0.617     33.484      0.000      19.465      21.887\n",
      "x1            -0.0150      0.005     -3.141      0.002      -0.024      -0.006\n",
      "x2            -0.0090      0.012     -0.734      0.463      -0.033       0.015\n",
      "x3            -0.0164      0.009     -1.743      0.081      -0.035       0.002\n",
      "x4            -0.0126      0.006     -2.181      0.029      -0.024      -0.001\n",
      "x5             0.0206      0.005      3.818      0.000       0.010       0.031\n",
      "x6            -0.0469      0.005     -8.998      0.000      -0.057      -0.037\n",
      "x7             0.0407      0.011      3.763      0.000       0.019       0.062\n",
      "x8             0.0392      0.015      2.539      0.011       0.009       0.069\n",
      "x9            -0.0079      0.003     -2.309      0.021      -0.015      -0.001\n",
      "x10           -0.0470      0.009     -5.009      0.000      -0.065      -0.029\n",
      "==============================================================================\n",
      "Omnibus:                      537.283   Durbin-Watson:                   1.803\n",
      "Prob(Omnibus):                  0.000   Jarque-Bera (JB):             2526.924\n",
      "Skew:                           0.688   Prob(JB):                         0.00\n",
      "Kurtosis:                       7.004   Cond. No.                     1.39e+04\n",
      "==============================================================================\n",
      "\n",
      "Notes:\n",
      "[1] Standard Errors assume that the covariance matrix of the errors is correctly specified.\n",
      "[2] The condition number is large, 1.39e+04. This might indicate that there are\n",
      "strong multicollinearity or other numerical problems.\n"
     ]
    }
   ],
   "source": [
    "_ = lin_readm.dropna().iloc[:, range(10)]\n",
    "__ = np.array(lin_readm.dropna()['READM_RATE']).astype(float)\n",
    "readm_best_subset = best_subset(__, _)\n",
    "print(readm_best_subset.summary())"
   ]
  },
  {
   "cell_type": "code",
   "execution_count": 25,
   "metadata": {
    "scrolled": false
   },
   "outputs": [
    {
     "name": "stdout",
     "output_type": "stream",
     "text": [
      "                            OLS Regression Results                            \n",
      "==============================================================================\n",
      "Dep. Variable:                      y   R-squared:                       0.091\n",
      "Model:                            OLS   Adj. R-squared:                  0.088\n",
      "Method:                 Least Squares   F-statistic:                     33.81\n",
      "Date:                Fri, 23 Jul 2021   Prob (F-statistic):           2.58e-63\n",
      "Time:                        21:36:39   Log-Likelihood:                -3610.9\n",
      "No. Observations:                3384   AIC:                             7244.\n",
      "Df Residuals:                    3373   BIC:                             7311.\n",
      "Df Model:                          10                                         \n",
      "Covariance Type:            nonrobust                                         \n",
      "==============================================================================\n",
      "                 coef    std err          t      P>|t|      [0.025      0.975]\n",
      "------------------------------------------------------------------------------\n",
      "const         20.6760      0.617     33.484      0.000      19.465      21.887\n",
      "x1            -0.0150      0.005     -3.141      0.002      -0.024      -0.006\n",
      "x2            -0.0090      0.012     -0.734      0.463      -0.033       0.015\n",
      "x3            -0.0164      0.009     -1.743      0.081      -0.035       0.002\n",
      "x4            -0.0126      0.006     -2.181      0.029      -0.024      -0.001\n",
      "x5             0.0206      0.005      3.818      0.000       0.010       0.031\n",
      "x6            -0.0469      0.005     -8.998      0.000      -0.057      -0.037\n",
      "x7             0.0407      0.011      3.763      0.000       0.019       0.062\n",
      "x8             0.0392      0.015      2.539      0.011       0.009       0.069\n",
      "x9            -0.0079      0.003     -2.309      0.021      -0.015      -0.001\n",
      "x10           -0.0470      0.009     -5.009      0.000      -0.065      -0.029\n",
      "==============================================================================\n",
      "Omnibus:                      537.283   Durbin-Watson:                   1.803\n",
      "Prob(Omnibus):                  0.000   Jarque-Bera (JB):             2526.924\n",
      "Skew:                           0.688   Prob(JB):                         0.00\n",
      "Kurtosis:                       7.004   Cond. No.                     1.39e+04\n",
      "==============================================================================\n",
      "\n",
      "Notes:\n",
      "[1] Standard Errors assume that the covariance matrix of the errors is correctly specified.\n",
      "[2] The condition number is large, 1.39e+04. This might indicate that there are\n",
      "strong multicollinearity or other numerical problems.\n"
     ]
    }
   ],
   "source": [
    "X_all = np.array(lin_readm.dropna().iloc[:, range(10)]).astype(float)\n",
    "X_all = sm.add_constant(X_all)\n",
    "y_all = np.array(lin_readm.dropna()['READM_RATE']).astype(float)\n",
    "model_all = sm.OLS(y_all, X_all)\n",
    "reg_all = model_all.fit()\n",
    "print(reg_all.summary())"
   ]
  },
  {
   "cell_type": "markdown",
   "metadata": {},
   "source": [
    "Predictor variable dictionary: {\n",
    "'x1':'H_CLEAN', \n",
    "'x2':'H_COMP_1', \n",
    "'x3:'H_COMP_2', \n",
    "'x4':'H_COMP_3', \n",
    "'x5':'H_COMP_5', \n",
    "'x6':'H_COMP_6', \n",
    "'x7':'H_COMP_7', \n",
    "'x8':'H_HSP_RATING', \n",
    "'x9':'H_QUIET', \n",
    "'x10':'H_RECMND'\n",
    "}"
   ]
  },
  {
   "cell_type": "markdown",
   "metadata": {},
   "source": [
    "Measure Id dictionary: {\n",
    "'H_CLEAN':'Cleanliness'\n",
    "'H_COMP_1':'Nurse communication', \n",
    "'H_COMP_2':'Doctor communication', \n",
    "'H_COMP_3':'Staff responsiveness', \n",
    "'H_COMP_5':'Communication about medicine', \n",
    "'H_COMP_6':'Discharge information', \n",
    "'H_COMP_7':'Care transition', \n",
    "'H_HSP_RATING':'Overall hospital rating', \n",
    "'H_QUIET':'Quietness', \n",
    "'H_RECMND':'Recommend hospital'\n",
    "}"
   ]
  },
  {
   "cell_type": "code",
   "execution_count": 26,
   "metadata": {},
   "outputs": [],
   "source": [
    "hac = pd.read_csv('FY_2021_HAC_Reduction_Program_Hospital.csv', low_memory = False, usecols = [1, 20, 22], \\\n",
    "                  dtype = {'Facility ID':'string', 'Total HAC Score':'float', 'Payment Reduction':'string'}).set_index('Facility ID')"
   ]
  },
  {
   "cell_type": "code",
   "execution_count": 27,
   "metadata": {
    "scrolled": true
   },
   "outputs": [
    {
     "data": {
      "text/html": [
       "<div>\n",
       "<style scoped>\n",
       "    .dataframe tbody tr th:only-of-type {\n",
       "        vertical-align: middle;\n",
       "    }\n",
       "\n",
       "    .dataframe tbody tr th {\n",
       "        vertical-align: top;\n",
       "    }\n",
       "\n",
       "    .dataframe thead th {\n",
       "        text-align: right;\n",
       "    }\n",
       "</style>\n",
       "<table border=\"1\" class=\"dataframe\">\n",
       "  <thead>\n",
       "    <tr style=\"text-align: right;\">\n",
       "      <th></th>\n",
       "      <th>Total HAC Score</th>\n",
       "      <th>Payment Reduction</th>\n",
       "    </tr>\n",
       "    <tr>\n",
       "      <th>Facility ID</th>\n",
       "      <th></th>\n",
       "      <th></th>\n",
       "    </tr>\n",
       "  </thead>\n",
       "  <tbody>\n",
       "    <tr>\n",
       "      <th>010001</th>\n",
       "      <td>-0.3958</td>\n",
       "      <td>No</td>\n",
       "    </tr>\n",
       "    <tr>\n",
       "      <th>010005</th>\n",
       "      <td>0.5547</td>\n",
       "      <td>Yes</td>\n",
       "    </tr>\n",
       "    <tr>\n",
       "      <th>010006</th>\n",
       "      <td>-0.0853</td>\n",
       "      <td>No</td>\n",
       "    </tr>\n",
       "    <tr>\n",
       "      <th>010007</th>\n",
       "      <td>-0.7965</td>\n",
       "      <td>No</td>\n",
       "    </tr>\n",
       "    <tr>\n",
       "      <th>010008</th>\n",
       "      <td>0.0247</td>\n",
       "      <td>No</td>\n",
       "    </tr>\n",
       "    <tr>\n",
       "      <th>...</th>\n",
       "      <td>...</td>\n",
       "      <td>...</td>\n",
       "    </tr>\n",
       "    <tr>\n",
       "      <th>670133</th>\n",
       "      <td>NaN</td>\n",
       "      <td>No</td>\n",
       "    </tr>\n",
       "    <tr>\n",
       "      <th>670134</th>\n",
       "      <td>NaN</td>\n",
       "      <td>No</td>\n",
       "    </tr>\n",
       "    <tr>\n",
       "      <th>670135</th>\n",
       "      <td>NaN</td>\n",
       "      <td>No</td>\n",
       "    </tr>\n",
       "    <tr>\n",
       "      <th>670136</th>\n",
       "      <td>NaN</td>\n",
       "      <td>No</td>\n",
       "    </tr>\n",
       "    <tr>\n",
       "      <th>670143</th>\n",
       "      <td>NaN</td>\n",
       "      <td>No</td>\n",
       "    </tr>\n",
       "  </tbody>\n",
       "</table>\n",
       "<p>3204 rows × 2 columns</p>\n",
       "</div>"
      ],
      "text/plain": [
       "             Total HAC Score Payment Reduction\n",
       "Facility ID                                   \n",
       "010001               -0.3958                No\n",
       "010005                0.5547               Yes\n",
       "010006               -0.0853                No\n",
       "010007               -0.7965                No\n",
       "010008                0.0247                No\n",
       "...                      ...               ...\n",
       "670133                   NaN                No\n",
       "670134                   NaN                No\n",
       "670135                   NaN                No\n",
       "670136                   NaN                No\n",
       "670143                   NaN                No\n",
       "\n",
       "[3204 rows x 2 columns]"
      ]
     },
     "execution_count": 27,
     "metadata": {},
     "output_type": "execute_result"
    }
   ],
   "source": [
    "hac"
   ]
  },
  {
   "cell_type": "code",
   "execution_count": 53,
   "metadata": {
    "scrolled": true
   },
   "outputs": [
    {
     "data": {
      "image/png": "[encoded data removed]",
      "text/plain": [
       "<Figure size 432x288 with 1 Axes>"
      ]
     },
     "metadata": {
      "needs_background": "light"
     },
     "output_type": "display_data"
    }
   ],
   "source": [
    "_ = sns.boxplot(x='Payment Reduction', y='Total HAC Score', data=hac, width=0.38)\n",
    "_.set_title('Total HAC Score vs Payment Reduction')\n",
    "plt.show()"
   ]
  },
  {
   "cell_type": "code",
   "execution_count": 29,
   "metadata": {
    "scrolled": true
   },
   "outputs": [
    {
     "data": {
      "text/html": [
       "<div>\n",
       "<style scoped>\n",
       "    .dataframe tbody tr th:only-of-type {\n",
       "        vertical-align: middle;\n",
       "    }\n",
       "\n",
       "    .dataframe tbody tr th {\n",
       "        vertical-align: top;\n",
       "    }\n",
       "\n",
       "    .dataframe thead th {\n",
       "        text-align: right;\n",
       "    }\n",
       "</style>\n",
       "<table border=\"1\" class=\"dataframe\">\n",
       "  <thead>\n",
       "    <tr style=\"text-align: right;\">\n",
       "      <th></th>\n",
       "      <th>H_CLEAN</th>\n",
       "      <th>H_COMP_1</th>\n",
       "      <th>H_COMP_2</th>\n",
       "      <th>H_COMP_3</th>\n",
       "      <th>H_COMP_5</th>\n",
       "      <th>H_COMP_6</th>\n",
       "      <th>H_COMP_7</th>\n",
       "      <th>H_HSP_RATING</th>\n",
       "      <th>H_QUIET</th>\n",
       "      <th>H_RECMND</th>\n",
       "      <th>Total HAC Score</th>\n",
       "    </tr>\n",
       "    <tr>\n",
       "      <th>Facility ID</th>\n",
       "      <th></th>\n",
       "      <th></th>\n",
       "      <th></th>\n",
       "      <th></th>\n",
       "      <th></th>\n",
       "      <th></th>\n",
       "      <th></th>\n",
       "      <th></th>\n",
       "      <th></th>\n",
       "      <th></th>\n",
       "      <th></th>\n",
       "    </tr>\n",
       "  </thead>\n",
       "  <tbody>\n",
       "    <tr>\n",
       "      <th>010001</th>\n",
       "      <td>87</td>\n",
       "      <td>90</td>\n",
       "      <td>91</td>\n",
       "      <td>84</td>\n",
       "      <td>80</td>\n",
       "      <td>90</td>\n",
       "      <td>82</td>\n",
       "      <td>88</td>\n",
       "      <td>86</td>\n",
       "      <td>90</td>\n",
       "      <td>-0.3958</td>\n",
       "    </tr>\n",
       "    <tr>\n",
       "      <th>010005</th>\n",
       "      <td>85</td>\n",
       "      <td>91</td>\n",
       "      <td>93</td>\n",
       "      <td>83</td>\n",
       "      <td>80</td>\n",
       "      <td>90</td>\n",
       "      <td>81</td>\n",
       "      <td>88</td>\n",
       "      <td>85</td>\n",
       "      <td>88</td>\n",
       "      <td>0.5547</td>\n",
       "    </tr>\n",
       "    <tr>\n",
       "      <th>010006</th>\n",
       "      <td>86</td>\n",
       "      <td>90</td>\n",
       "      <td>92</td>\n",
       "      <td>78</td>\n",
       "      <td>76</td>\n",
       "      <td>84</td>\n",
       "      <td>80</td>\n",
       "      <td>86</td>\n",
       "      <td>87</td>\n",
       "      <td>87</td>\n",
       "      <td>-0.0853</td>\n",
       "    </tr>\n",
       "    <tr>\n",
       "      <th>010007</th>\n",
       "      <td>88</td>\n",
       "      <td>91</td>\n",
       "      <td>92</td>\n",
       "      <td>86</td>\n",
       "      <td>83</td>\n",
       "      <td>90</td>\n",
       "      <td>83</td>\n",
       "      <td>88</td>\n",
       "      <td>88</td>\n",
       "      <td>88</td>\n",
       "      <td>-0.7965</td>\n",
       "    </tr>\n",
       "    <tr>\n",
       "      <th>010008</th>\n",
       "      <td>&lt;NA&gt;</td>\n",
       "      <td>&lt;NA&gt;</td>\n",
       "      <td>&lt;NA&gt;</td>\n",
       "      <td>&lt;NA&gt;</td>\n",
       "      <td>&lt;NA&gt;</td>\n",
       "      <td>&lt;NA&gt;</td>\n",
       "      <td>&lt;NA&gt;</td>\n",
       "      <td>&lt;NA&gt;</td>\n",
       "      <td>&lt;NA&gt;</td>\n",
       "      <td>&lt;NA&gt;</td>\n",
       "      <td>0.0247</td>\n",
       "    </tr>\n",
       "    <tr>\n",
       "      <th>...</th>\n",
       "      <td>...</td>\n",
       "      <td>...</td>\n",
       "      <td>...</td>\n",
       "      <td>...</td>\n",
       "      <td>...</td>\n",
       "      <td>...</td>\n",
       "      <td>...</td>\n",
       "      <td>...</td>\n",
       "      <td>...</td>\n",
       "      <td>...</td>\n",
       "      <td>...</td>\n",
       "    </tr>\n",
       "    <tr>\n",
       "      <th>670133</th>\n",
       "      <td>&lt;NA&gt;</td>\n",
       "      <td>&lt;NA&gt;</td>\n",
       "      <td>&lt;NA&gt;</td>\n",
       "      <td>&lt;NA&gt;</td>\n",
       "      <td>&lt;NA&gt;</td>\n",
       "      <td>&lt;NA&gt;</td>\n",
       "      <td>&lt;NA&gt;</td>\n",
       "      <td>&lt;NA&gt;</td>\n",
       "      <td>&lt;NA&gt;</td>\n",
       "      <td>&lt;NA&gt;</td>\n",
       "      <td>NaN</td>\n",
       "    </tr>\n",
       "    <tr>\n",
       "      <th>670134</th>\n",
       "      <td>&lt;NA&gt;</td>\n",
       "      <td>&lt;NA&gt;</td>\n",
       "      <td>&lt;NA&gt;</td>\n",
       "      <td>&lt;NA&gt;</td>\n",
       "      <td>&lt;NA&gt;</td>\n",
       "      <td>&lt;NA&gt;</td>\n",
       "      <td>&lt;NA&gt;</td>\n",
       "      <td>&lt;NA&gt;</td>\n",
       "      <td>&lt;NA&gt;</td>\n",
       "      <td>&lt;NA&gt;</td>\n",
       "      <td>NaN</td>\n",
       "    </tr>\n",
       "    <tr>\n",
       "      <th>670135</th>\n",
       "      <td>&lt;NA&gt;</td>\n",
       "      <td>&lt;NA&gt;</td>\n",
       "      <td>&lt;NA&gt;</td>\n",
       "      <td>&lt;NA&gt;</td>\n",
       "      <td>&lt;NA&gt;</td>\n",
       "      <td>&lt;NA&gt;</td>\n",
       "      <td>&lt;NA&gt;</td>\n",
       "      <td>&lt;NA&gt;</td>\n",
       "      <td>&lt;NA&gt;</td>\n",
       "      <td>&lt;NA&gt;</td>\n",
       "      <td>NaN</td>\n",
       "    </tr>\n",
       "    <tr>\n",
       "      <th>670136</th>\n",
       "      <td>&lt;NA&gt;</td>\n",
       "      <td>&lt;NA&gt;</td>\n",
       "      <td>&lt;NA&gt;</td>\n",
       "      <td>&lt;NA&gt;</td>\n",
       "      <td>&lt;NA&gt;</td>\n",
       "      <td>&lt;NA&gt;</td>\n",
       "      <td>&lt;NA&gt;</td>\n",
       "      <td>&lt;NA&gt;</td>\n",
       "      <td>&lt;NA&gt;</td>\n",
       "      <td>&lt;NA&gt;</td>\n",
       "      <td>NaN</td>\n",
       "    </tr>\n",
       "    <tr>\n",
       "      <th>670143</th>\n",
       "      <td>&lt;NA&gt;</td>\n",
       "      <td>&lt;NA&gt;</td>\n",
       "      <td>&lt;NA&gt;</td>\n",
       "      <td>&lt;NA&gt;</td>\n",
       "      <td>&lt;NA&gt;</td>\n",
       "      <td>&lt;NA&gt;</td>\n",
       "      <td>&lt;NA&gt;</td>\n",
       "      <td>&lt;NA&gt;</td>\n",
       "      <td>&lt;NA&gt;</td>\n",
       "      <td>&lt;NA&gt;</td>\n",
       "      <td>NaN</td>\n",
       "    </tr>\n",
       "  </tbody>\n",
       "</table>\n",
       "<p>3171 rows × 11 columns</p>\n",
       "</div>"
      ],
      "text/plain": [
       "             H_CLEAN  H_COMP_1  H_COMP_2  H_COMP_3  H_COMP_5  H_COMP_6  \\\n",
       "Facility ID                                                              \n",
       "010001            87        90        91        84        80        90   \n",
       "010005            85        91        93        83        80        90   \n",
       "010006            86        90        92        78        76        84   \n",
       "010007            88        91        92        86        83        90   \n",
       "010008          <NA>      <NA>      <NA>      <NA>      <NA>      <NA>   \n",
       "...              ...       ...       ...       ...       ...       ...   \n",
       "670133          <NA>      <NA>      <NA>      <NA>      <NA>      <NA>   \n",
       "670134          <NA>      <NA>      <NA>      <NA>      <NA>      <NA>   \n",
       "670135          <NA>      <NA>      <NA>      <NA>      <NA>      <NA>   \n",
       "670136          <NA>      <NA>      <NA>      <NA>      <NA>      <NA>   \n",
       "670143          <NA>      <NA>      <NA>      <NA>      <NA>      <NA>   \n",
       "\n",
       "             H_COMP_7  H_HSP_RATING  H_QUIET  H_RECMND  Total HAC Score  \n",
       "Facility ID                                                              \n",
       "010001             82            88       86        90          -0.3958  \n",
       "010005             81            88       85        88           0.5547  \n",
       "010006             80            86       87        87          -0.0853  \n",
       "010007             83            88       88        88          -0.7965  \n",
       "010008           <NA>          <NA>     <NA>      <NA>           0.0247  \n",
       "...               ...           ...      ...       ...              ...  \n",
       "670133           <NA>          <NA>     <NA>      <NA>              NaN  \n",
       "670134           <NA>          <NA>     <NA>      <NA>              NaN  \n",
       "670135           <NA>          <NA>     <NA>      <NA>              NaN  \n",
       "670136           <NA>          <NA>     <NA>      <NA>              NaN  \n",
       "670143           <NA>          <NA>     <NA>      <NA>              NaN  \n",
       "\n",
       "[3171 rows x 11 columns]"
      ]
     },
     "execution_count": 29,
     "metadata": {},
     "output_type": "execute_result"
    }
   ],
   "source": [
    "lin_hac = pd.merge(linear_pv, hac, on='Facility ID').drop(columns='Payment Reduction')\n",
    "lin_hac"
   ]
  },
  {
   "cell_type": "code",
   "execution_count": 30,
   "metadata": {
    "scrolled": false
   },
   "outputs": [
    {
     "data": {
      "text/plain": [
       "H_COMP_3       -0.227254\n",
       "H_CLEAN        -0.211575\n",
       "H_QUIET        -0.202352\n",
       "H_COMP_5       -0.191847\n",
       "H_COMP_7       -0.180225\n",
       "H_COMP_1       -0.179704\n",
       "H_HSP_RATING   -0.173021\n",
       "H_COMP_2       -0.165452\n",
       "H_COMP_6       -0.143240\n",
       "H_RECMND       -0.138713\n",
       "Name: Total HAC Score, dtype: float64"
      ]
     },
     "execution_count": 30,
     "metadata": {},
     "output_type": "execute_result"
    }
   ],
   "source": [
    "hac_corr = lin_hac.corr()[:-1]['Total HAC Score'].sort_values()\n",
    "hac_corr"
   ]
  },
  {
   "cell_type": "code",
   "execution_count": 109,
   "metadata": {},
   "outputs": [
    {
     "data": {
      "text/html": [
       "<div>\n",
       "<style scoped>\n",
       "    .dataframe tbody tr th:only-of-type {\n",
       "        vertical-align: middle;\n",
       "    }\n",
       "\n",
       "    .dataframe tbody tr th {\n",
       "        vertical-align: top;\n",
       "    }\n",
       "\n",
       "    .dataframe thead th {\n",
       "        text-align: right;\n",
       "    }\n",
       "</style>\n",
       "<table border=\"1\" class=\"dataframe\">\n",
       "  <thead>\n",
       "    <tr style=\"text-align: right;\">\n",
       "      <th></th>\n",
       "      <th>H_CLEAN</th>\n",
       "      <th>H_COMP_1</th>\n",
       "      <th>H_COMP_2</th>\n",
       "      <th>H_COMP_3</th>\n",
       "      <th>H_COMP_5</th>\n",
       "      <th>H_COMP_6</th>\n",
       "      <th>H_COMP_7</th>\n",
       "      <th>H_HSP_RATING</th>\n",
       "      <th>H_QUIET</th>\n",
       "      <th>H_RECMND</th>\n",
       "      <th>Total HAC Score</th>\n",
       "    </tr>\n",
       "  </thead>\n",
       "  <tbody>\n",
       "    <tr>\n",
       "      <th>H_CLEAN</th>\n",
       "      <td>1.000000</td>\n",
       "      <td>0.624414</td>\n",
       "      <td>0.541822</td>\n",
       "      <td>0.652193</td>\n",
       "      <td>0.623219</td>\n",
       "      <td>0.485135</td>\n",
       "      <td>0.590377</td>\n",
       "      <td>0.627183</td>\n",
       "      <td>0.529373</td>\n",
       "      <td>0.534375</td>\n",
       "      <td>-0.211575</td>\n",
       "    </tr>\n",
       "    <tr>\n",
       "      <th>H_COMP_1</th>\n",
       "      <td>0.624414</td>\n",
       "      <td>1.000000</td>\n",
       "      <td>0.802121</td>\n",
       "      <td>0.820046</td>\n",
       "      <td>0.760248</td>\n",
       "      <td>0.712544</td>\n",
       "      <td>0.826934</td>\n",
       "      <td>0.838826</td>\n",
       "      <td>0.592077</td>\n",
       "      <td>0.760994</td>\n",
       "      <td>-0.179704</td>\n",
       "    </tr>\n",
       "    <tr>\n",
       "      <th>H_COMP_2</th>\n",
       "      <td>0.541822</td>\n",
       "      <td>0.802121</td>\n",
       "      <td>1.000000</td>\n",
       "      <td>0.675794</td>\n",
       "      <td>0.693295</td>\n",
       "      <td>0.600615</td>\n",
       "      <td>0.783002</td>\n",
       "      <td>0.754400</td>\n",
       "      <td>0.625894</td>\n",
       "      <td>0.684144</td>\n",
       "      <td>-0.165452</td>\n",
       "    </tr>\n",
       "    <tr>\n",
       "      <th>H_COMP_3</th>\n",
       "      <td>0.652193</td>\n",
       "      <td>0.820046</td>\n",
       "      <td>0.675794</td>\n",
       "      <td>1.000000</td>\n",
       "      <td>0.778974</td>\n",
       "      <td>0.654320</td>\n",
       "      <td>0.750868</td>\n",
       "      <td>0.749929</td>\n",
       "      <td>0.585377</td>\n",
       "      <td>0.656449</td>\n",
       "      <td>-0.227254</td>\n",
       "    </tr>\n",
       "    <tr>\n",
       "      <th>H_COMP_5</th>\n",
       "      <td>0.623219</td>\n",
       "      <td>0.760248</td>\n",
       "      <td>0.693295</td>\n",
       "      <td>0.778974</td>\n",
       "      <td>1.000000</td>\n",
       "      <td>0.667525</td>\n",
       "      <td>0.786417</td>\n",
       "      <td>0.755156</td>\n",
       "      <td>0.577493</td>\n",
       "      <td>0.679787</td>\n",
       "      <td>-0.191847</td>\n",
       "    </tr>\n",
       "    <tr>\n",
       "      <th>H_COMP_6</th>\n",
       "      <td>0.485135</td>\n",
       "      <td>0.712544</td>\n",
       "      <td>0.600615</td>\n",
       "      <td>0.654320</td>\n",
       "      <td>0.667525</td>\n",
       "      <td>1.000000</td>\n",
       "      <td>0.749790</td>\n",
       "      <td>0.681824</td>\n",
       "      <td>0.384323</td>\n",
       "      <td>0.653113</td>\n",
       "      <td>-0.143240</td>\n",
       "    </tr>\n",
       "    <tr>\n",
       "      <th>H_COMP_7</th>\n",
       "      <td>0.590377</td>\n",
       "      <td>0.826934</td>\n",
       "      <td>0.783002</td>\n",
       "      <td>0.750868</td>\n",
       "      <td>0.786417</td>\n",
       "      <td>0.749790</td>\n",
       "      <td>1.000000</td>\n",
       "      <td>0.874804</td>\n",
       "      <td>0.610437</td>\n",
       "      <td>0.843224</td>\n",
       "      <td>-0.180225</td>\n",
       "    </tr>\n",
       "    <tr>\n",
       "      <th>H_HSP_RATING</th>\n",
       "      <td>0.627183</td>\n",
       "      <td>0.838826</td>\n",
       "      <td>0.754400</td>\n",
       "      <td>0.749929</td>\n",
       "      <td>0.755156</td>\n",
       "      <td>0.681824</td>\n",
       "      <td>0.874804</td>\n",
       "      <td>1.000000</td>\n",
       "      <td>0.616248</td>\n",
       "      <td>0.949410</td>\n",
       "      <td>-0.173021</td>\n",
       "    </tr>\n",
       "    <tr>\n",
       "      <th>H_QUIET</th>\n",
       "      <td>0.529373</td>\n",
       "      <td>0.592077</td>\n",
       "      <td>0.625894</td>\n",
       "      <td>0.585377</td>\n",
       "      <td>0.577493</td>\n",
       "      <td>0.384323</td>\n",
       "      <td>0.610437</td>\n",
       "      <td>0.616248</td>\n",
       "      <td>1.000000</td>\n",
       "      <td>0.514566</td>\n",
       "      <td>-0.202352</td>\n",
       "    </tr>\n",
       "    <tr>\n",
       "      <th>H_RECMND</th>\n",
       "      <td>0.534375</td>\n",
       "      <td>0.760994</td>\n",
       "      <td>0.684144</td>\n",
       "      <td>0.656449</td>\n",
       "      <td>0.679787</td>\n",
       "      <td>0.653113</td>\n",
       "      <td>0.843224</td>\n",
       "      <td>0.949410</td>\n",
       "      <td>0.514566</td>\n",
       "      <td>1.000000</td>\n",
       "      <td>-0.138713</td>\n",
       "    </tr>\n",
       "    <tr>\n",
       "      <th>Total HAC Score</th>\n",
       "      <td>-0.211575</td>\n",
       "      <td>-0.179704</td>\n",
       "      <td>-0.165452</td>\n",
       "      <td>-0.227254</td>\n",
       "      <td>-0.191847</td>\n",
       "      <td>-0.143240</td>\n",
       "      <td>-0.180225</td>\n",
       "      <td>-0.173021</td>\n",
       "      <td>-0.202352</td>\n",
       "      <td>-0.138713</td>\n",
       "      <td>1.000000</td>\n",
       "    </tr>\n",
       "  </tbody>\n",
       "</table>\n",
       "</div>"
      ],
      "text/plain": [
       "                  H_CLEAN  H_COMP_1  H_COMP_2  H_COMP_3  H_COMP_5  H_COMP_6  \\\n",
       "H_CLEAN          1.000000  0.624414  0.541822  0.652193  0.623219  0.485135   \n",
       "H_COMP_1         0.624414  1.000000  0.802121  0.820046  0.760248  0.712544   \n",
       "H_COMP_2         0.541822  0.802121  1.000000  0.675794  0.693295  0.600615   \n",
       "H_COMP_3         0.652193  0.820046  0.675794  1.000000  0.778974  0.654320   \n",
       "H_COMP_5         0.623219  0.760248  0.693295  0.778974  1.000000  0.667525   \n",
       "H_COMP_6         0.485135  0.712544  0.600615  0.654320  0.667525  1.000000   \n",
       "H_COMP_7         0.590377  0.826934  0.783002  0.750868  0.786417  0.749790   \n",
       "H_HSP_RATING     0.627183  0.838826  0.754400  0.749929  0.755156  0.681824   \n",
       "H_QUIET          0.529373  0.592077  0.625894  0.585377  0.577493  0.384323   \n",
       "H_RECMND         0.534375  0.760994  0.684144  0.656449  0.679787  0.653113   \n",
       "Total HAC Score -0.211575 -0.179704 -0.165452 -0.227254 -0.191847 -0.143240   \n",
       "\n",
       "                 H_COMP_7  H_HSP_RATING   H_QUIET  H_RECMND  Total HAC Score  \n",
       "H_CLEAN          0.590377      0.627183  0.529373  0.534375        -0.211575  \n",
       "H_COMP_1         0.826934      0.838826  0.592077  0.760994        -0.179704  \n",
       "H_COMP_2         0.783002      0.754400  0.625894  0.684144        -0.165452  \n",
       "H_COMP_3         0.750868      0.749929  0.585377  0.656449        -0.227254  \n",
       "H_COMP_5         0.786417      0.755156  0.577493  0.679787        -0.191847  \n",
       "H_COMP_6         0.749790      0.681824  0.384323  0.653113        -0.143240  \n",
       "H_COMP_7         1.000000      0.874804  0.610437  0.843224        -0.180225  \n",
       "H_HSP_RATING     0.874804      1.000000  0.616248  0.949410        -0.173021  \n",
       "H_QUIET          0.610437      0.616248  1.000000  0.514566        -0.202352  \n",
       "H_RECMND         0.843224      0.949410  0.514566  1.000000        -0.138713  \n",
       "Total HAC Score -0.180225     -0.173021 -0.202352 -0.138713         1.000000  "
      ]
     },
     "execution_count": 109,
     "metadata": {},
     "output_type": "execute_result"
    }
   ],
   "source": [
    "lin_hac.corr()"
   ]
  },
  {
   "cell_type": "code",
   "execution_count": 31,
   "metadata": {
    "scrolled": false
   },
   "outputs": [
    {
     "name": "stdout",
     "output_type": "stream",
     "text": [
      "                            OLS Regression Results                            \n",
      "==============================================================================\n",
      "Dep. Variable:                      y   R-squared:                       0.052\n",
      "Model:                            OLS   Adj. R-squared:                  0.051\n",
      "Method:                 Least Squares   F-statistic:                     156.9\n",
      "Date:                Fri, 23 Jul 2021   Prob (F-statistic):           4.36e-35\n",
      "Time:                        21:36:42   Log-Likelihood:                -2365.6\n",
      "No. Observations:                2883   AIC:                             4735.\n",
      "Df Residuals:                    2881   BIC:                             4747.\n",
      "Df Model:                           1                                         \n",
      "Covariance Type:            nonrobust                                         \n",
      "==============================================================================\n",
      "                 coef    std err          t      P>|t|      [0.025      0.975]\n",
      "------------------------------------------------------------------------------\n",
      "const          2.6586      0.215     12.340      0.000       2.236       3.081\n",
      "x1            -0.0317      0.003    -12.526      0.000      -0.037      -0.027\n",
      "==============================================================================\n",
      "Omnibus:                       17.434   Durbin-Watson:                   1.967\n",
      "Prob(Omnibus):                  0.000   Jarque-Bera (JB):               18.943\n",
      "Skew:                           0.147   Prob(JB):                     7.70e-05\n",
      "Kurtosis:                       3.267   Cond. No.                     1.79e+03\n",
      "==============================================================================\n",
      "\n",
      "Notes:\n",
      "[1] Standard Errors assume that the covariance matrix of the errors is correctly specified.\n",
      "[2] The condition number is large, 1.79e+03. This might indicate that there are\n",
      "strong multicollinearity or other numerical problems.\n"
     ]
    }
   ],
   "source": [
    "hac_C3_X_ = np.array(lin_hac[['H_COMP_3', 'Total HAC Score']].dropna()['H_COMP_3']).astype('float')\n",
    "hac_C3_X = sm.add_constant(hac_C3_X_)\n",
    "hac_C3_y = np.array(lin_hac[['H_COMP_3', 'Total HAC Score']].dropna()['Total HAC Score']).astype('float')\n",
    "hac_C3_m = sm.OLS(hac_C3_y, hac_C3_X)\n",
    "hac_C3_reg = hac_C3_m.fit()\n",
    "print(hac_C3_reg.summary())"
   ]
  },
  {
   "cell_type": "code",
   "execution_count": 62,
   "metadata": {},
   "outputs": [
    {
     "data": {
      "image/png": "[encoded data removed]",
      "text/plain": [
       "<Figure size 432x288 with 1 Axes>"
      ]
     },
     "metadata": {
      "needs_background": "light"
     },
     "output_type": "display_data"
    }
   ],
   "source": [
    "_ = sns.regplot(x = hac_C3_X_, y = hac_C3_y, scatter_kws={'alpha':0.25})\n",
    "_.set_title('Total HAC Score vs Staff Responsiveness')\n",
    "_.set_xlabel('Staff Responsiveness Linear Score')\n",
    "_.set_ylabel('Total HAC Score')\n",
    "plt.show()"
   ]
  },
  {
   "cell_type": "code",
   "execution_count": 75,
   "metadata": {},
   "outputs": [
    {
     "data": {
      "text/plain": [
       "[('H_CLEAN', 'H_COMP_1', 'H_COMP_2', 'H_COMP_3'),\n",
       " ('H_CLEAN', 'H_COMP_1', 'H_COMP_2', 'H_COMP_5'),\n",
       " ('H_CLEAN', 'H_COMP_1', 'H_COMP_2', 'H_COMP_6'),\n",
       " ('H_CLEAN', 'H_COMP_1', 'H_COMP_2', 'H_COMP_7'),\n",
       " ('H_CLEAN', 'H_COMP_1', 'H_COMP_2', 'H_HSP_RATING'),\n",
       " ('H_CLEAN', 'H_COMP_1', 'H_COMP_2', 'H_QUIET'),\n",
       " ('H_CLEAN', 'H_COMP_1', 'H_COMP_2', 'H_RECMND'),\n",
       " ('H_CLEAN', 'H_COMP_1', 'H_COMP_3', 'H_COMP_5'),\n",
       " ('H_CLEAN', 'H_COMP_1', 'H_COMP_3', 'H_COMP_6'),\n",
       " ('H_CLEAN', 'H_COMP_1', 'H_COMP_3', 'H_COMP_7'),\n",
       " ('H_CLEAN', 'H_COMP_1', 'H_COMP_3', 'H_HSP_RATING'),\n",
       " ('H_CLEAN', 'H_COMP_1', 'H_COMP_3', 'H_QUIET'),\n",
       " ('H_CLEAN', 'H_COMP_1', 'H_COMP_3', 'H_RECMND'),\n",
       " ('H_CLEAN', 'H_COMP_1', 'H_COMP_5', 'H_COMP_6'),\n",
       " ('H_CLEAN', 'H_COMP_1', 'H_COMP_5', 'H_COMP_7'),\n",
       " ('H_CLEAN', 'H_COMP_1', 'H_COMP_5', 'H_HSP_RATING'),\n",
       " ('H_CLEAN', 'H_COMP_1', 'H_COMP_5', 'H_QUIET'),\n",
       " ('H_CLEAN', 'H_COMP_1', 'H_COMP_5', 'H_RECMND'),\n",
       " ('H_CLEAN', 'H_COMP_1', 'H_COMP_6', 'H_COMP_7'),\n",
       " ('H_CLEAN', 'H_COMP_1', 'H_COMP_6', 'H_HSP_RATING'),\n",
       " ('H_CLEAN', 'H_COMP_1', 'H_COMP_6', 'H_QUIET'),\n",
       " ('H_CLEAN', 'H_COMP_1', 'H_COMP_6', 'H_RECMND'),\n",
       " ('H_CLEAN', 'H_COMP_1', 'H_COMP_7', 'H_HSP_RATING'),\n",
       " ('H_CLEAN', 'H_COMP_1', 'H_COMP_7', 'H_QUIET'),\n",
       " ('H_CLEAN', 'H_COMP_1', 'H_COMP_7', 'H_RECMND'),\n",
       " ('H_CLEAN', 'H_COMP_1', 'H_HSP_RATING', 'H_QUIET'),\n",
       " ('H_CLEAN', 'H_COMP_1', 'H_HSP_RATING', 'H_RECMND'),\n",
       " ('H_CLEAN', 'H_COMP_1', 'H_QUIET', 'H_RECMND'),\n",
       " ('H_CLEAN', 'H_COMP_2', 'H_COMP_3', 'H_COMP_5'),\n",
       " ('H_CLEAN', 'H_COMP_2', 'H_COMP_3', 'H_COMP_6'),\n",
       " ('H_CLEAN', 'H_COMP_2', 'H_COMP_3', 'H_COMP_7'),\n",
       " ('H_CLEAN', 'H_COMP_2', 'H_COMP_3', 'H_HSP_RATING'),\n",
       " ('H_CLEAN', 'H_COMP_2', 'H_COMP_3', 'H_QUIET'),\n",
       " ('H_CLEAN', 'H_COMP_2', 'H_COMP_3', 'H_RECMND'),\n",
       " ('H_CLEAN', 'H_COMP_2', 'H_COMP_5', 'H_COMP_6'),\n",
       " ('H_CLEAN', 'H_COMP_2', 'H_COMP_5', 'H_COMP_7'),\n",
       " ('H_CLEAN', 'H_COMP_2', 'H_COMP_5', 'H_HSP_RATING'),\n",
       " ('H_CLEAN', 'H_COMP_2', 'H_COMP_5', 'H_QUIET'),\n",
       " ('H_CLEAN', 'H_COMP_2', 'H_COMP_5', 'H_RECMND'),\n",
       " ('H_CLEAN', 'H_COMP_2', 'H_COMP_6', 'H_COMP_7'),\n",
       " ('H_CLEAN', 'H_COMP_2', 'H_COMP_6', 'H_HSP_RATING'),\n",
       " ('H_CLEAN', 'H_COMP_2', 'H_COMP_6', 'H_QUIET'),\n",
       " ('H_CLEAN', 'H_COMP_2', 'H_COMP_6', 'H_RECMND'),\n",
       " ('H_CLEAN', 'H_COMP_2', 'H_COMP_7', 'H_HSP_RATING'),\n",
       " ('H_CLEAN', 'H_COMP_2', 'H_COMP_7', 'H_QUIET'),\n",
       " ('H_CLEAN', 'H_COMP_2', 'H_COMP_7', 'H_RECMND'),\n",
       " ('H_CLEAN', 'H_COMP_2', 'H_HSP_RATING', 'H_QUIET'),\n",
       " ('H_CLEAN', 'H_COMP_2', 'H_HSP_RATING', 'H_RECMND'),\n",
       " ('H_CLEAN', 'H_COMP_2', 'H_QUIET', 'H_RECMND'),\n",
       " ('H_CLEAN', 'H_COMP_3', 'H_COMP_5', 'H_COMP_6'),\n",
       " ('H_CLEAN', 'H_COMP_3', 'H_COMP_5', 'H_COMP_7'),\n",
       " ('H_CLEAN', 'H_COMP_3', 'H_COMP_5', 'H_HSP_RATING'),\n",
       " ('H_CLEAN', 'H_COMP_3', 'H_COMP_5', 'H_QUIET'),\n",
       " ('H_CLEAN', 'H_COMP_3', 'H_COMP_5', 'H_RECMND'),\n",
       " ('H_CLEAN', 'H_COMP_3', 'H_COMP_6', 'H_COMP_7'),\n",
       " ('H_CLEAN', 'H_COMP_3', 'H_COMP_6', 'H_HSP_RATING'),\n",
       " ('H_CLEAN', 'H_COMP_3', 'H_COMP_6', 'H_QUIET'),\n",
       " ('H_CLEAN', 'H_COMP_3', 'H_COMP_6', 'H_RECMND'),\n",
       " ('H_CLEAN', 'H_COMP_3', 'H_COMP_7', 'H_HSP_RATING'),\n",
       " ('H_CLEAN', 'H_COMP_3', 'H_COMP_7', 'H_QUIET'),\n",
       " ('H_CLEAN', 'H_COMP_3', 'H_COMP_7', 'H_RECMND'),\n",
       " ('H_CLEAN', 'H_COMP_3', 'H_HSP_RATING', 'H_QUIET'),\n",
       " ('H_CLEAN', 'H_COMP_3', 'H_HSP_RATING', 'H_RECMND'),\n",
       " ('H_CLEAN', 'H_COMP_3', 'H_QUIET', 'H_RECMND'),\n",
       " ('H_CLEAN', 'H_COMP_5', 'H_COMP_6', 'H_COMP_7'),\n",
       " ('H_CLEAN', 'H_COMP_5', 'H_COMP_6', 'H_HSP_RATING'),\n",
       " ('H_CLEAN', 'H_COMP_5', 'H_COMP_6', 'H_QUIET'),\n",
       " ('H_CLEAN', 'H_COMP_5', 'H_COMP_6', 'H_RECMND'),\n",
       " ('H_CLEAN', 'H_COMP_5', 'H_COMP_7', 'H_HSP_RATING'),\n",
       " ('H_CLEAN', 'H_COMP_5', 'H_COMP_7', 'H_QUIET'),\n",
       " ('H_CLEAN', 'H_COMP_5', 'H_COMP_7', 'H_RECMND'),\n",
       " ('H_CLEAN', 'H_COMP_5', 'H_HSP_RATING', 'H_QUIET'),\n",
       " ('H_CLEAN', 'H_COMP_5', 'H_HSP_RATING', 'H_RECMND'),\n",
       " ('H_CLEAN', 'H_COMP_5', 'H_QUIET', 'H_RECMND'),\n",
       " ('H_CLEAN', 'H_COMP_6', 'H_COMP_7', 'H_HSP_RATING'),\n",
       " ('H_CLEAN', 'H_COMP_6', 'H_COMP_7', 'H_QUIET'),\n",
       " ('H_CLEAN', 'H_COMP_6', 'H_COMP_7', 'H_RECMND'),\n",
       " ('H_CLEAN', 'H_COMP_6', 'H_HSP_RATING', 'H_QUIET'),\n",
       " ('H_CLEAN', 'H_COMP_6', 'H_HSP_RATING', 'H_RECMND'),\n",
       " ('H_CLEAN', 'H_COMP_6', 'H_QUIET', 'H_RECMND'),\n",
       " ('H_CLEAN', 'H_COMP_7', 'H_HSP_RATING', 'H_QUIET'),\n",
       " ('H_CLEAN', 'H_COMP_7', 'H_HSP_RATING', 'H_RECMND'),\n",
       " ('H_CLEAN', 'H_COMP_7', 'H_QUIET', 'H_RECMND'),\n",
       " ('H_CLEAN', 'H_HSP_RATING', 'H_QUIET', 'H_RECMND'),\n",
       " ('H_COMP_1', 'H_COMP_2', 'H_COMP_3', 'H_COMP_5'),\n",
       " ('H_COMP_1', 'H_COMP_2', 'H_COMP_3', 'H_COMP_6'),\n",
       " ('H_COMP_1', 'H_COMP_2', 'H_COMP_3', 'H_COMP_7'),\n",
       " ('H_COMP_1', 'H_COMP_2', 'H_COMP_3', 'H_HSP_RATING'),\n",
       " ('H_COMP_1', 'H_COMP_2', 'H_COMP_3', 'H_QUIET'),\n",
       " ('H_COMP_1', 'H_COMP_2', 'H_COMP_3', 'H_RECMND'),\n",
       " ('H_COMP_1', 'H_COMP_2', 'H_COMP_5', 'H_COMP_6'),\n",
       " ('H_COMP_1', 'H_COMP_2', 'H_COMP_5', 'H_COMP_7'),\n",
       " ('H_COMP_1', 'H_COMP_2', 'H_COMP_5', 'H_HSP_RATING'),\n",
       " ('H_COMP_1', 'H_COMP_2', 'H_COMP_5', 'H_QUIET'),\n",
       " ('H_COMP_1', 'H_COMP_2', 'H_COMP_5', 'H_RECMND'),\n",
       " ('H_COMP_1', 'H_COMP_2', 'H_COMP_6', 'H_COMP_7'),\n",
       " ('H_COMP_1', 'H_COMP_2', 'H_COMP_6', 'H_HSP_RATING'),\n",
       " ('H_COMP_1', 'H_COMP_2', 'H_COMP_6', 'H_QUIET'),\n",
       " ('H_COMP_1', 'H_COMP_2', 'H_COMP_6', 'H_RECMND'),\n",
       " ('H_COMP_1', 'H_COMP_2', 'H_COMP_7', 'H_HSP_RATING'),\n",
       " ('H_COMP_1', 'H_COMP_2', 'H_COMP_7', 'H_QUIET'),\n",
       " ('H_COMP_1', 'H_COMP_2', 'H_COMP_7', 'H_RECMND'),\n",
       " ('H_COMP_1', 'H_COMP_2', 'H_HSP_RATING', 'H_QUIET'),\n",
       " ('H_COMP_1', 'H_COMP_2', 'H_HSP_RATING', 'H_RECMND'),\n",
       " ('H_COMP_1', 'H_COMP_2', 'H_QUIET', 'H_RECMND'),\n",
       " ('H_COMP_1', 'H_COMP_3', 'H_COMP_5', 'H_COMP_6'),\n",
       " ('H_COMP_1', 'H_COMP_3', 'H_COMP_5', 'H_COMP_7'),\n",
       " ('H_COMP_1', 'H_COMP_3', 'H_COMP_5', 'H_HSP_RATING'),\n",
       " ('H_COMP_1', 'H_COMP_3', 'H_COMP_5', 'H_QUIET'),\n",
       " ('H_COMP_1', 'H_COMP_3', 'H_COMP_5', 'H_RECMND'),\n",
       " ('H_COMP_1', 'H_COMP_3', 'H_COMP_6', 'H_COMP_7'),\n",
       " ('H_COMP_1', 'H_COMP_3', 'H_COMP_6', 'H_HSP_RATING'),\n",
       " ('H_COMP_1', 'H_COMP_3', 'H_COMP_6', 'H_QUIET'),\n",
       " ('H_COMP_1', 'H_COMP_3', 'H_COMP_6', 'H_RECMND'),\n",
       " ('H_COMP_1', 'H_COMP_3', 'H_COMP_7', 'H_HSP_RATING'),\n",
       " ('H_COMP_1', 'H_COMP_3', 'H_COMP_7', 'H_QUIET'),\n",
       " ('H_COMP_1', 'H_COMP_3', 'H_COMP_7', 'H_RECMND'),\n",
       " ('H_COMP_1', 'H_COMP_3', 'H_HSP_RATING', 'H_QUIET'),\n",
       " ('H_COMP_1', 'H_COMP_3', 'H_HSP_RATING', 'H_RECMND'),\n",
       " ('H_COMP_1', 'H_COMP_3', 'H_QUIET', 'H_RECMND'),\n",
       " ('H_COMP_1', 'H_COMP_5', 'H_COMP_6', 'H_COMP_7'),\n",
       " ('H_COMP_1', 'H_COMP_5', 'H_COMP_6', 'H_HSP_RATING'),\n",
       " ('H_COMP_1', 'H_COMP_5', 'H_COMP_6', 'H_QUIET'),\n",
       " ('H_COMP_1', 'H_COMP_5', 'H_COMP_6', 'H_RECMND'),\n",
       " ('H_COMP_1', 'H_COMP_5', 'H_COMP_7', 'H_HSP_RATING'),\n",
       " ('H_COMP_1', 'H_COMP_5', 'H_COMP_7', 'H_QUIET'),\n",
       " ('H_COMP_1', 'H_COMP_5', 'H_COMP_7', 'H_RECMND'),\n",
       " ('H_COMP_1', 'H_COMP_5', 'H_HSP_RATING', 'H_QUIET'),\n",
       " ('H_COMP_1', 'H_COMP_5', 'H_HSP_RATING', 'H_RECMND'),\n",
       " ('H_COMP_1', 'H_COMP_5', 'H_QUIET', 'H_RECMND'),\n",
       " ('H_COMP_1', 'H_COMP_6', 'H_COMP_7', 'H_HSP_RATING'),\n",
       " ('H_COMP_1', 'H_COMP_6', 'H_COMP_7', 'H_QUIET'),\n",
       " ('H_COMP_1', 'H_COMP_6', 'H_COMP_7', 'H_RECMND'),\n",
       " ('H_COMP_1', 'H_COMP_6', 'H_HSP_RATING', 'H_QUIET'),\n",
       " ('H_COMP_1', 'H_COMP_6', 'H_HSP_RATING', 'H_RECMND'),\n",
       " ('H_COMP_1', 'H_COMP_6', 'H_QUIET', 'H_RECMND'),\n",
       " ('H_COMP_1', 'H_COMP_7', 'H_HSP_RATING', 'H_QUIET'),\n",
       " ('H_COMP_1', 'H_COMP_7', 'H_HSP_RATING', 'H_RECMND'),\n",
       " ('H_COMP_1', 'H_COMP_7', 'H_QUIET', 'H_RECMND'),\n",
       " ('H_COMP_1', 'H_HSP_RATING', 'H_QUIET', 'H_RECMND'),\n",
       " ('H_COMP_2', 'H_COMP_3', 'H_COMP_5', 'H_COMP_6'),\n",
       " ('H_COMP_2', 'H_COMP_3', 'H_COMP_5', 'H_COMP_7'),\n",
       " ('H_COMP_2', 'H_COMP_3', 'H_COMP_5', 'H_HSP_RATING'),\n",
       " ('H_COMP_2', 'H_COMP_3', 'H_COMP_5', 'H_QUIET'),\n",
       " ('H_COMP_2', 'H_COMP_3', 'H_COMP_5', 'H_RECMND'),\n",
       " ('H_COMP_2', 'H_COMP_3', 'H_COMP_6', 'H_COMP_7'),\n",
       " ('H_COMP_2', 'H_COMP_3', 'H_COMP_6', 'H_HSP_RATING'),\n",
       " ('H_COMP_2', 'H_COMP_3', 'H_COMP_6', 'H_QUIET'),\n",
       " ('H_COMP_2', 'H_COMP_3', 'H_COMP_6', 'H_RECMND'),\n",
       " ('H_COMP_2', 'H_COMP_3', 'H_COMP_7', 'H_HSP_RATING'),\n",
       " ('H_COMP_2', 'H_COMP_3', 'H_COMP_7', 'H_QUIET'),\n",
       " ('H_COMP_2', 'H_COMP_3', 'H_COMP_7', 'H_RECMND'),\n",
       " ('H_COMP_2', 'H_COMP_3', 'H_HSP_RATING', 'H_QUIET'),\n",
       " ('H_COMP_2', 'H_COMP_3', 'H_HSP_RATING', 'H_RECMND'),\n",
       " ('H_COMP_2', 'H_COMP_3', 'H_QUIET', 'H_RECMND'),\n",
       " ('H_COMP_2', 'H_COMP_5', 'H_COMP_6', 'H_COMP_7'),\n",
       " ('H_COMP_2', 'H_COMP_5', 'H_COMP_6', 'H_HSP_RATING'),\n",
       " ('H_COMP_2', 'H_COMP_5', 'H_COMP_6', 'H_QUIET'),\n",
       " ('H_COMP_2', 'H_COMP_5', 'H_COMP_6', 'H_RECMND'),\n",
       " ('H_COMP_2', 'H_COMP_5', 'H_COMP_7', 'H_HSP_RATING'),\n",
       " ('H_COMP_2', 'H_COMP_5', 'H_COMP_7', 'H_QUIET'),\n",
       " ('H_COMP_2', 'H_COMP_5', 'H_COMP_7', 'H_RECMND'),\n",
       " ('H_COMP_2', 'H_COMP_5', 'H_HSP_RATING', 'H_QUIET'),\n",
       " ('H_COMP_2', 'H_COMP_5', 'H_HSP_RATING', 'H_RECMND'),\n",
       " ('H_COMP_2', 'H_COMP_5', 'H_QUIET', 'H_RECMND'),\n",
       " ('H_COMP_2', 'H_COMP_6', 'H_COMP_7', 'H_HSP_RATING'),\n",
       " ('H_COMP_2', 'H_COMP_6', 'H_COMP_7', 'H_QUIET'),\n",
       " ('H_COMP_2', 'H_COMP_6', 'H_COMP_7', 'H_RECMND'),\n",
       " ('H_COMP_2', 'H_COMP_6', 'H_HSP_RATING', 'H_QUIET'),\n",
       " ('H_COMP_2', 'H_COMP_6', 'H_HSP_RATING', 'H_RECMND'),\n",
       " ('H_COMP_2', 'H_COMP_6', 'H_QUIET', 'H_RECMND'),\n",
       " ('H_COMP_2', 'H_COMP_7', 'H_HSP_RATING', 'H_QUIET'),\n",
       " ('H_COMP_2', 'H_COMP_7', 'H_HSP_RATING', 'H_RECMND'),\n",
       " ('H_COMP_2', 'H_COMP_7', 'H_QUIET', 'H_RECMND'),\n",
       " ('H_COMP_2', 'H_HSP_RATING', 'H_QUIET', 'H_RECMND'),\n",
       " ('H_COMP_3', 'H_COMP_5', 'H_COMP_6', 'H_COMP_7'),\n",
       " ('H_COMP_3', 'H_COMP_5', 'H_COMP_6', 'H_HSP_RATING'),\n",
       " ('H_COMP_3', 'H_COMP_5', 'H_COMP_6', 'H_QUIET'),\n",
       " ('H_COMP_3', 'H_COMP_5', 'H_COMP_6', 'H_RECMND'),\n",
       " ('H_COMP_3', 'H_COMP_5', 'H_COMP_7', 'H_HSP_RATING'),\n",
       " ('H_COMP_3', 'H_COMP_5', 'H_COMP_7', 'H_QUIET'),\n",
       " ('H_COMP_3', 'H_COMP_5', 'H_COMP_7', 'H_RECMND'),\n",
       " ('H_COMP_3', 'H_COMP_5', 'H_HSP_RATING', 'H_QUIET'),\n",
       " ('H_COMP_3', 'H_COMP_5', 'H_HSP_RATING', 'H_RECMND'),\n",
       " ('H_COMP_3', 'H_COMP_5', 'H_QUIET', 'H_RECMND'),\n",
       " ('H_COMP_3', 'H_COMP_6', 'H_COMP_7', 'H_HSP_RATING'),\n",
       " ('H_COMP_3', 'H_COMP_6', 'H_COMP_7', 'H_QUIET'),\n",
       " ('H_COMP_3', 'H_COMP_6', 'H_COMP_7', 'H_RECMND'),\n",
       " ('H_COMP_3', 'H_COMP_6', 'H_HSP_RATING', 'H_QUIET'),\n",
       " ('H_COMP_3', 'H_COMP_6', 'H_HSP_RATING', 'H_RECMND'),\n",
       " ('H_COMP_3', 'H_COMP_6', 'H_QUIET', 'H_RECMND'),\n",
       " ('H_COMP_3', 'H_COMP_7', 'H_HSP_RATING', 'H_QUIET'),\n",
       " ('H_COMP_3', 'H_COMP_7', 'H_HSP_RATING', 'H_RECMND'),\n",
       " ('H_COMP_3', 'H_COMP_7', 'H_QUIET', 'H_RECMND'),\n",
       " ('H_COMP_3', 'H_HSP_RATING', 'H_QUIET', 'H_RECMND'),\n",
       " ('H_COMP_5', 'H_COMP_6', 'H_COMP_7', 'H_HSP_RATING'),\n",
       " ('H_COMP_5', 'H_COMP_6', 'H_COMP_7', 'H_QUIET'),\n",
       " ('H_COMP_5', 'H_COMP_6', 'H_COMP_7', 'H_RECMND'),\n",
       " ('H_COMP_5', 'H_COMP_6', 'H_HSP_RATING', 'H_QUIET'),\n",
       " ('H_COMP_5', 'H_COMP_6', 'H_HSP_RATING', 'H_RECMND'),\n",
       " ('H_COMP_5', 'H_COMP_6', 'H_QUIET', 'H_RECMND'),\n",
       " ('H_COMP_5', 'H_COMP_7', 'H_HSP_RATING', 'H_QUIET'),\n",
       " ('H_COMP_5', 'H_COMP_7', 'H_HSP_RATING', 'H_RECMND'),\n",
       " ('H_COMP_5', 'H_COMP_7', 'H_QUIET', 'H_RECMND'),\n",
       " ('H_COMP_5', 'H_HSP_RATING', 'H_QUIET', 'H_RECMND'),\n",
       " ('H_COMP_6', 'H_COMP_7', 'H_HSP_RATING', 'H_QUIET'),\n",
       " ('H_COMP_6', 'H_COMP_7', 'H_HSP_RATING', 'H_RECMND'),\n",
       " ('H_COMP_6', 'H_COMP_7', 'H_QUIET', 'H_RECMND'),\n",
       " ('H_COMP_6', 'H_HSP_RATING', 'H_QUIET', 'H_RECMND'),\n",
       " ('H_COMP_7', 'H_HSP_RATING', 'H_QUIET', 'H_RECMND')]"
      ]
     },
     "execution_count": 75,
     "metadata": {},
     "output_type": "execute_result"
    }
   ],
   "source": [
    "list(itertools.combinations(lin_hac.dropna().iloc[:, range(10)].columns, 4))"
   ]
  },
  {
   "cell_type": "code",
   "execution_count": 78,
   "metadata": {},
   "outputs": [
    {
     "data": {
      "text/plain": [
       "10"
      ]
     },
     "execution_count": 78,
     "metadata": {},
     "output_type": "execute_result"
    }
   ],
   "source": [
    "len(lin_hac.dropna().iloc[:, range(10)].columns)"
   ]
  },
  {
   "cell_type": "code",
   "execution_count": 83,
   "metadata": {},
   "outputs": [],
   "source": [
    "def reg_on_subset(ary_y, df_X, subset):\n",
    "    X = np.array(df_X[list(subset)]).astype(float)\n",
    "    X = sm.add_constant(X)\n",
    "    model = sm.OLS(ary_y, X)\n",
    "    \n",
    "    return model.fit()    "
   ]
  },
  {
   "cell_type": "code",
   "execution_count": 92,
   "metadata": {},
   "outputs": [],
   "source": [
    "def best_reg(ary_y, df_X, k):\n",
    "    R2 = 0\n",
    "    for subset in itertools.combinations(df_X.columns, k):\n",
    "        fit = reg_on_subset(ary_y, df_X, subset)\n",
    "        if fit.rsquared_adj > R2:\n",
    "            best_yet = fit\n",
    "    \n",
    "    return best_yet   "
   ]
  },
  {
   "cell_type": "code",
   "execution_count": 93,
   "metadata": {},
   "outputs": [],
   "source": [
    "def best_subset(ary_y, df_X):\n",
    "    R2 = 0\n",
    "    n = len(df_X.columns)\n",
    "    for k in range(1,n+1):\n",
    "        fit = best_reg(ary_y, df_X, k)\n",
    "        if fit.rsquared_adj > R2:\n",
    "            best_yet = fit\n",
    "            \n",
    "    return best_yet"
   ]
  },
  {
   "cell_type": "code",
   "execution_count": 94,
   "metadata": {},
   "outputs": [
    {
     "name": "stdout",
     "output_type": "stream",
     "text": [
      "                            OLS Regression Results                            \n",
      "==============================================================================\n",
      "Dep. Variable:                      y   R-squared:                       0.066\n",
      "Model:                            OLS   Adj. R-squared:                  0.063\n",
      "Method:                 Least Squares   F-statistic:                     20.31\n",
      "Date:                Sat, 24 Jul 2021   Prob (F-statistic):           8.51e-37\n",
      "Time:                        00:07:44   Log-Likelihood:                -2343.5\n",
      "No. Observations:                2883   AIC:                             4709.\n",
      "Df Residuals:                    2872   BIC:                             4775.\n",
      "Df Model:                          10                                         \n",
      "Covariance Type:            nonrobust                                         \n",
      "==============================================================================\n",
      "                 coef    std err          t      P>|t|      [0.025      0.975]\n",
      "------------------------------------------------------------------------------\n",
      "const          2.7579      0.528      5.222      0.000       1.722       3.793\n",
      "x1            -0.0154      0.004     -3.857      0.000      -0.023      -0.008\n",
      "x2             0.0162      0.010      1.565      0.118      -0.004       0.037\n",
      "x3             0.0009      0.008      0.106      0.915      -0.015       0.017\n",
      "x4            -0.0231      0.005     -4.575      0.000      -0.033      -0.013\n",
      "x5            -0.0005      0.005     -0.106      0.916      -0.010       0.009\n",
      "x6            -0.0011      0.005     -0.242      0.808      -0.010       0.008\n",
      "x7            -0.0072      0.010     -0.754      0.451      -0.026       0.012\n",
      "x8            -0.0019      0.013     -0.146      0.884      -0.028       0.024\n",
      "x9            -0.0107      0.003     -3.704      0.000      -0.016      -0.005\n",
      "x10            0.0082      0.008      1.015      0.310      -0.008       0.024\n",
      "==============================================================================\n",
      "Omnibus:                       27.979   Durbin-Watson:                   1.977\n",
      "Prob(Omnibus):                  0.000   Jarque-Bera (JB):               30.612\n",
      "Skew:                           0.199   Prob(JB):                     2.25e-07\n",
      "Kurtosis:                       3.311   Cond. No.                     1.41e+04\n",
      "==============================================================================\n",
      "\n",
      "Notes:\n",
      "[1] Standard Errors assume that the covariance matrix of the errors is correctly specified.\n",
      "[2] The condition number is large, 1.41e+04. This might indicate that there are\n",
      "strong multicollinearity or other numerical problems.\n"
     ]
    }
   ],
   "source": [
    "hac_all_X_df = lin_hac.dropna().iloc[:, range(10)]\n",
    "hac_all_y_ary = np.array(lin_hac.dropna()['Total HAC Score']).astype(float)\n",
    "hac_best_subset = best_subset(hac_all_y_ary, hac_all_X_df)\n",
    "print(hac_best_subset.summary())"
   ]
  },
  {
   "cell_type": "code",
   "execution_count": 33,
   "metadata": {
    "scrolled": false
   },
   "outputs": [
    {
     "name": "stdout",
     "output_type": "stream",
     "text": [
      "                            OLS Regression Results                            \n",
      "==============================================================================\n",
      "Dep. Variable:                      y   R-squared:                       0.066\n",
      "Model:                            OLS   Adj. R-squared:                  0.063\n",
      "Method:                 Least Squares   F-statistic:                     20.31\n",
      "Date:                Fri, 23 Jul 2021   Prob (F-statistic):           8.51e-37\n",
      "Time:                        21:36:43   Log-Likelihood:                -2343.5\n",
      "No. Observations:                2883   AIC:                             4709.\n",
      "Df Residuals:                    2872   BIC:                             4775.\n",
      "Df Model:                          10                                         \n",
      "Covariance Type:            nonrobust                                         \n",
      "==============================================================================\n",
      "                 coef    std err          t      P>|t|      [0.025      0.975]\n",
      "------------------------------------------------------------------------------\n",
      "const          2.7579      0.528      5.222      0.000       1.722       3.793\n",
      "x1            -0.0154      0.004     -3.857      0.000      -0.023      -0.008\n",
      "x2             0.0162      0.010      1.565      0.118      -0.004       0.037\n",
      "x3             0.0009      0.008      0.106      0.915      -0.015       0.017\n",
      "x4            -0.0231      0.005     -4.575      0.000      -0.033      -0.013\n",
      "x5            -0.0005      0.005     -0.106      0.916      -0.010       0.009\n",
      "x6            -0.0011      0.005     -0.242      0.808      -0.010       0.008\n",
      "x7            -0.0072      0.010     -0.754      0.451      -0.026       0.012\n",
      "x8            -0.0019      0.013     -0.146      0.884      -0.028       0.024\n",
      "x9            -0.0107      0.003     -3.704      0.000      -0.016      -0.005\n",
      "x10            0.0082      0.008      1.015      0.310      -0.008       0.024\n",
      "==============================================================================\n",
      "Omnibus:                       27.979   Durbin-Watson:                   1.977\n",
      "Prob(Omnibus):                  0.000   Jarque-Bera (JB):               30.612\n",
      "Skew:                           0.199   Prob(JB):                     2.25e-07\n",
      "Kurtosis:                       3.311   Cond. No.                     1.41e+04\n",
      "==============================================================================\n",
      "\n",
      "Notes:\n",
      "[1] Standard Errors assume that the covariance matrix of the errors is correctly specified.\n",
      "[2] The condition number is large, 1.41e+04. This might indicate that there are\n",
      "strong multicollinearity or other numerical problems.\n"
     ]
    }
   ],
   "source": [
    "hac_all_X = np.array(lin_hac.dropna().iloc[:, range(10)]).astype(float)\n",
    "hac_all_X = sm.add_constant(hac_all_X)\n",
    "hac_all_y = np.array(lin_hac.dropna()['Total HAC Score']).astype(float)\n",
    "hac_all_m = sm.OLS(hac_all_y, hac_all_X)\n",
    "hac_all_reg = hac_all_m.fit()\n",
    "print(hac_all_reg.summary())"
   ]
  },
  {
   "cell_type": "code",
   "execution_count": 63,
   "metadata": {
    "scrolled": true
   },
   "outputs": [
    {
     "data": {
      "text/plain": [
       "<seaborn.axisgrid.FacetGrid at 0x1fa9f889df0>"
      ]
     },
     "execution_count": 63,
     "metadata": {},
     "output_type": "execute_result"
    },
    {
     "data": {
      "image/png": "[encoded data removed]",
      "text/plain": [
       "<Figure size 360x360 with 1 Axes>"
      ]
     },
     "metadata": {
      "needs_background": "light"
     },
     "output_type": "display_data"
    }
   ],
   "source": [
    "sns.displot(x=readm_hw['READM_RATE'], kde=True, stat='density', bins=24)"
   ]
  },
  {
   "cell_type": "code",
   "execution_count": 55,
   "metadata": {
    "scrolled": false
   },
   "outputs": [
    {
     "data": {
      "text/plain": [
       "<seaborn.axisgrid.FacetGrid at 0x1faa412b040>"
      ]
     },
     "execution_count": 55,
     "metadata": {},
     "output_type": "execute_result"
    },
    {
     "data": {
      "image/png": "[encoded data removed]",
      "text/plain": [
       "<Figure size 360x360 with 1 Axes>"
      ]
     },
     "metadata": {
      "needs_background": "light"
     },
     "output_type": "display_data"
    }
   ],
   "source": [
    "sns.displot(x=hac['Total HAC Score'], kde=True, stat='density', bins=24)"
   ]
  },
  {
   "cell_type": "code",
   "execution_count": 36,
   "metadata": {
    "scrolled": true
   },
   "outputs": [
    {
     "data": {
      "text/html": [
       "<div>\n",
       "<style scoped>\n",
       "    .dataframe tbody tr th:only-of-type {\n",
       "        vertical-align: middle;\n",
       "    }\n",
       "\n",
       "    .dataframe tbody tr th {\n",
       "        vertical-align: top;\n",
       "    }\n",
       "\n",
       "    .dataframe thead th {\n",
       "        text-align: right;\n",
       "    }\n",
       "</style>\n",
       "<table border=\"1\" class=\"dataframe\">\n",
       "  <thead>\n",
       "    <tr style=\"text-align: right;\">\n",
       "      <th></th>\n",
       "      <th>READM_RATE</th>\n",
       "      <th>Total HAC Score</th>\n",
       "    </tr>\n",
       "    <tr>\n",
       "      <th>Facility ID</th>\n",
       "      <th></th>\n",
       "      <th></th>\n",
       "    </tr>\n",
       "  </thead>\n",
       "  <tbody>\n",
       "    <tr>\n",
       "      <th>010001</th>\n",
       "      <td>15.5</td>\n",
       "      <td>-0.3958</td>\n",
       "    </tr>\n",
       "    <tr>\n",
       "      <th>010005</th>\n",
       "      <td>14.7</td>\n",
       "      <td>0.5547</td>\n",
       "    </tr>\n",
       "    <tr>\n",
       "      <th>010006</th>\n",
       "      <td>15.7</td>\n",
       "      <td>-0.0853</td>\n",
       "    </tr>\n",
       "    <tr>\n",
       "      <th>010007</th>\n",
       "      <td>15.7</td>\n",
       "      <td>-0.7965</td>\n",
       "    </tr>\n",
       "    <tr>\n",
       "      <th>010008</th>\n",
       "      <td>15.3</td>\n",
       "      <td>0.0247</td>\n",
       "    </tr>\n",
       "    <tr>\n",
       "      <th>...</th>\n",
       "      <td>...</td>\n",
       "      <td>...</td>\n",
       "    </tr>\n",
       "    <tr>\n",
       "      <th>670112</th>\n",
       "      <td>14.5</td>\n",
       "      <td>-0.0149</td>\n",
       "    </tr>\n",
       "    <tr>\n",
       "      <th>670116</th>\n",
       "      <td>15.9</td>\n",
       "      <td>-0.3018</td>\n",
       "    </tr>\n",
       "    <tr>\n",
       "      <th>670120</th>\n",
       "      <td>16.5</td>\n",
       "      <td>-0.6383</td>\n",
       "    </tr>\n",
       "    <tr>\n",
       "      <th>670122</th>\n",
       "      <td>16.9</td>\n",
       "      <td>-1.1071</td>\n",
       "    </tr>\n",
       "    <tr>\n",
       "      <th>670124</th>\n",
       "      <td>15.5</td>\n",
       "      <td>0.1084</td>\n",
       "    </tr>\n",
       "  </tbody>\n",
       "</table>\n",
       "<p>3032 rows × 2 columns</p>\n",
       "</div>"
      ],
      "text/plain": [
       "             READM_RATE  Total HAC Score\n",
       "Facility ID                             \n",
       "010001             15.5          -0.3958\n",
       "010005             14.7           0.5547\n",
       "010006             15.7          -0.0853\n",
       "010007             15.7          -0.7965\n",
       "010008             15.3           0.0247\n",
       "...                 ...              ...\n",
       "670112             14.5          -0.0149\n",
       "670116             15.9          -0.3018\n",
       "670120             16.5          -0.6383\n",
       "670122             16.9          -1.1071\n",
       "670124             15.5           0.1084\n",
       "\n",
       "[3032 rows x 2 columns]"
      ]
     },
     "execution_count": 36,
     "metadata": {},
     "output_type": "execute_result"
    }
   ],
   "source": [
    "readm_hac = pd.merge(readm_hw, hac, on='Facility ID').drop(columns='Payment Reduction').dropna()\n",
    "readm_hac"
   ]
  },
  {
   "cell_type": "code",
   "execution_count": 66,
   "metadata": {},
   "outputs": [
    {
     "data": {
      "image/png": "[encoded data removed]",
      "text/plain": [
       "<Figure size 360x360 with 1 Axes>"
      ]
     },
     "metadata": {
      "needs_background": "light"
     },
     "output_type": "display_data"
    }
   ],
   "source": [
    "sns.displot(data=readm_hac, x='READM_RATE', y='Total HAC Score')\n",
    "plt.show()"
   ]
  },
  {
   "cell_type": "code",
   "execution_count": 68,
   "metadata": {},
   "outputs": [
    {
     "data": {
      "image/png": "[encoded data removed]",
      "text/plain": [
       "<Figure size 432x288 with 1 Axes>"
      ]
     },
     "metadata": {
      "needs_background": "light"
     },
     "output_type": "display_data"
    }
   ],
   "source": [
    "sns.scatterplot(data=readm_hac, x='READM_RATE', y='Total HAC Score')\n",
    "plt.show()"
   ]
  }
 ],
 "metadata": {
  "kernelspec": {
   "display_name": "Python 3",
   "language": "python",
   "name": "python3"
  },
  "language_info": {
   "codemirror_mode": {
    "name": "ipython",
    "version": 3
   },
   "file_extension": ".py",
   "mimetype": "text/x-python",
   "name": "python",
   "nbconvert_exporter": "python",
   "pygments_lexer": "ipython3",
   "version": "3.8.5"
  }
 },
 "nbformat": 4,
 "nbformat_minor": 4
}
