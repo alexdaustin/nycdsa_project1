{
 "cells": [
  {
   "cell_type": "markdown",
   "metadata": {},
   "source": [
    "## Working notebook for Python data analysis project"
   ]
  },
  {
   "cell_type": "code",
   "execution_count": 1,
   "metadata": {},
   "outputs": [],
   "source": [
    "import numpy as np\n",
    "import pandas as pd\n",
    "import re"
   ]
  },
  {
   "cell_type": "code",
   "execution_count": 2,
   "metadata": {},
   "outputs": [],
   "source": [
    "surveys_dtypes = {'Facility ID':'string',\n",
    " 'Facility Name':'string',\n",
    " 'Address':'string',\n",
    " 'City':'string',\n",
    " 'State':'string',\n",
    " 'ZIP Code':'string',\n",
    " 'County Name':'string',\n",
    " 'Phone Number':'string',\n",
    " 'HCAHPS Measure ID':'string',\n",
    " 'HCAHPS Question':'string',\n",
    " 'HCAHPS Answer Description':'string',\n",
    " 'Patient Survey Star Rating':'Int32',\n",
    " 'Patient Survey Star Rating Footnote':'string',\n",
    " 'HCAHPS Answer Percent':'Int32',\n",
    " 'HCAHPS Answer Percent Footnote':'string',\n",
    " 'HCAHPS Linear Mean Value':'Int32',\n",
    " 'Number of Completed Surveys':'Int32',\n",
    " 'Number of Completed Surveys Footnote':'string',\n",
    " 'Survey Response Rate Percent':'Int32',\n",
    " 'Survey Response Rate Percent Footnote':'string',\n",
    " 'Start Date':'string',\n",
    " 'End Date':'string'}"
   ]
  },
  {
   "cell_type": "code",
   "execution_count": 3,
   "metadata": {},
   "outputs": [],
   "source": [
    "surveys = pd.read_csv('HCAHPS-Hospital.csv', low_memory = False, \n",
    "                      dtype = surveys_dtypes, na_values = ['Not Available', 'Not Applicable'])"
   ]
  },
  {
   "cell_type": "code",
   "execution_count": 4,
   "metadata": {},
   "outputs": [],
   "source": [
    "unpland_dtypes = {'Facility ID':'string',\n",
    " 'Facility Name':'string',\n",
    " 'Address':'string',\n",
    " 'City':'string',\n",
    " 'State':'string',\n",
    " 'ZIP Code':'string',\n",
    " 'County Name':'string',\n",
    " 'Phone Number':'string',\n",
    " 'Measure ID':'string',\n",
    " 'Measure Name':'string',\n",
    " 'Compared to National':'string',\n",
    " 'Denominator':'float',\n",
    " 'Score':'float',\n",
    " 'Lower Estimate':'float',\n",
    " 'Higher Estimate':'float',\n",
    " 'Number of Patients':'Int32',\n",
    " 'Number of Patients Returned':'Int32',\n",
    " 'Footnote':'string',\n",
    " 'Start Date':'string',\n",
    " 'End Date':'string'}"
   ]
  },
  {
   "cell_type": "code",
   "execution_count": 5,
   "metadata": {},
   "outputs": [],
   "source": [
    "unpland = pd.read_csv('Unplanned_Hospital_Visits-Hospital.csv', \n",
    "                      low_memory = False, \n",
    "                      dtype = unpland_dtypes, na_values = ['Not Available', 'Not Applicable'])"
   ]
  },
  {
   "cell_type": "code",
   "execution_count": 6,
   "metadata": {},
   "outputs": [
    {
     "name": "stdout",
     "output_type": "stream",
     "text": [
      "(452538, 22)\n",
      "4866\n",
      "1\n",
      "1\n",
      "01/01/2019\n",
      "12/31/2019\n"
     ]
    }
   ],
   "source": [
    "print(surveys.shape)\n",
    "print(surveys['Facility ID'].unique().size)\n",
    "print(surveys['Start Date'].unique().size)\n",
    "print(surveys['End Date'].unique().size)\n",
    "print(surveys['Start Date'].unique()[0])\n",
    "print(surveys['End Date'].unique()[0])"
   ]
  },
  {
   "cell_type": "code",
   "execution_count": 10,
   "metadata": {},
   "outputs": [
    {
     "name": "stdout",
     "output_type": "stream",
     "text": [
      "(68124, 20)\n",
      "4866\n",
      "4\n",
      "2\n",
      "['07/01/2017', '01/01/2017', '01/01/2019', '07/01/2019']\n",
      "['12/01/2019', '12/24/2019']\n"
     ]
    }
   ],
   "source": [
    "print(unpland.shape)\n",
    "print(unpland['Facility ID'].unique().size)\n",
    "print(unpland['Start Date'].unique().size)\n",
    "print(unpland['End Date'].unique().size)\n",
    "print(list(unpland['Start Date'].unique()))\n",
    "print(list(unpland['End Date'].unique()))"
   ]
  },
  {
   "cell_type": "markdown",
   "metadata": {},
   "source": [
    "#### Note that the survey data is for 2019 only, whereas the unplanned visits data can span periods beginning in 2017. It is impossible (or at least problematic) to extract only 2019 data from unplanned visits because a single measure (single row) can have a start date in 2017 and an end date in 2019. We will continue with the analysis but this is certainly an issue to be aware of and communicated along with the results."
   ]
  },
  {
   "cell_type": "code",
   "execution_count": 11,
   "metadata": {
    "scrolled": false
   },
   "outputs": [
    {
     "data": {
      "text/plain": [
       "[(0, 'Facility ID'),\n",
       " (1, 'Facility Name'),\n",
       " (2, 'Address'),\n",
       " (3, 'City'),\n",
       " (4, 'State'),\n",
       " (5, 'ZIP Code'),\n",
       " (6, 'County Name'),\n",
       " (7, 'Phone Number'),\n",
       " (8, 'HCAHPS Measure ID'),\n",
       " (9, 'HCAHPS Question'),\n",
       " (10, 'HCAHPS Answer Description'),\n",
       " (11, 'Patient Survey Star Rating'),\n",
       " (12, 'Patient Survey Star Rating Footnote'),\n",
       " (13, 'HCAHPS Answer Percent'),\n",
       " (14, 'HCAHPS Answer Percent Footnote'),\n",
       " (15, 'HCAHPS Linear Mean Value'),\n",
       " (16, 'Number of Completed Surveys'),\n",
       " (17, 'Number of Completed Surveys Footnote'),\n",
       " (18, 'Survey Response Rate Percent'),\n",
       " (19, 'Survey Response Rate Percent Footnote'),\n",
       " (20, 'Start Date'),\n",
       " (21, 'End Date')]"
      ]
     },
     "execution_count": 11,
     "metadata": {},
     "output_type": "execute_result"
    }
   ],
   "source": [
    "list(enumerate(surveys.columns.tolist()))"
   ]
  },
  {
   "cell_type": "code",
   "execution_count": 14,
   "metadata": {},
   "outputs": [],
   "source": [
    "star_ratings = surveys.iloc[:, [0, 8, 11]][surveys['HCAHPS Measure ID'].apply(lambda x: re.search('STAR_RATING$', x) != None)]"
   ]
  },
  {
   "cell_type": "code",
   "execution_count": 16,
   "metadata": {},
   "outputs": [],
   "source": [
    "linear_scores = surveys.iloc[:, [0, 8, 15]][surveys['HCAHPS Measure ID'].apply(lambda x: re.search('LINEAR_SCORE$', x) != None)]"
   ]
  },
  {
   "cell_type": "code",
   "execution_count": 18,
   "metadata": {
    "scrolled": true
   },
   "outputs": [
    {
     "data": {
      "text/plain": [
       "[(0, 'Facility ID'),\n",
       " (1, 'Facility Name'),\n",
       " (2, 'Address'),\n",
       " (3, 'City'),\n",
       " (4, 'State'),\n",
       " (5, 'ZIP Code'),\n",
       " (6, 'County Name'),\n",
       " (7, 'Phone Number'),\n",
       " (8, 'Measure ID'),\n",
       " (9, 'Measure Name'),\n",
       " (10, 'Compared to National'),\n",
       " (11, 'Denominator'),\n",
       " (12, 'Score'),\n",
       " (13, 'Lower Estimate'),\n",
       " (14, 'Higher Estimate'),\n",
       " (15, 'Number of Patients'),\n",
       " (16, 'Number of Patients Returned'),\n",
       " (17, 'Footnote'),\n",
       " (18, 'Start Date'),\n",
       " (19, 'End Date')]"
      ]
     },
     "execution_count": 18,
     "metadata": {},
     "output_type": "execute_result"
    }
   ],
   "source": [
    "list(enumerate(unpland.columns.tolist()))"
   ]
  },
  {
   "cell_type": "markdown",
   "metadata": {},
   "source": [
    "#### For the most part footnotes explain why a value is missing, or give information on a restriction that applies to a measure. At this time they are deemed unimportant. "
   ]
  }
 ],
 "metadata": {
  "kernelspec": {
   "display_name": "Python 3",
   "language": "python",
   "name": "python3"
  },
  "language_info": {
   "codemirror_mode": {
    "name": "ipython",
    "version": 3
   },
   "file_extension": ".py",
   "mimetype": "text/x-python",
   "name": "python",
   "nbconvert_exporter": "python",
   "pygments_lexer": "ipython3",
   "version": "3.8.5"
  }
 },
 "nbformat": 4,
 "nbformat_minor": 4
}
