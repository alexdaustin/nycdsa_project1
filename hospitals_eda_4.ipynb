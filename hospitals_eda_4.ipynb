{
 "cells": [
  {
   "cell_type": "markdown",
   "metadata": {},
   "source": [
    "## Working notebook for Python data analysis project"
   ]
  },
  {
   "cell_type": "code",
   "execution_count": 32,
   "metadata": {},
   "outputs": [],
   "source": [
    "import numpy as np\n",
    "import pandas as pd\n",
    "import re\n",
    "from sklearn.linear_model import LinearRegression\n",
    "import matplotlib.pyplot as plt\n",
    "import statsmodels.api as sm\n",
    "import seaborn as sns"
   ]
  },
  {
   "cell_type": "code",
   "execution_count": 2,
   "metadata": {},
   "outputs": [
    {
     "data": {
      "text/html": [
       "        <script type=\"text/javascript\">\n",
       "        window.PlotlyConfig = {MathJaxConfig: 'local'};\n",
       "        if (window.MathJax) {MathJax.Hub.Config({SVG: {font: \"STIX-Web\"}});}\n",
       "        if (typeof require !== 'undefined') {\n",
       "        require.undef(\"plotly\");\n",
       "        requirejs.config({\n",
       "            paths: {\n",
       "                'plotly': ['https://cdn.plot.ly/plotly-latest.min']\n",
       "            }\n",
       "        });\n",
       "        require(['plotly'], function(Plotly) {\n",
       "            window._Plotly = Plotly;\n",
       "        });\n",
       "        }\n",
       "        </script>\n",
       "        "
      ]
     },
     "metadata": {},
     "output_type": "display_data"
    }
   ],
   "source": [
    "import plotly\n",
    "plotly.offline.init_notebook_mode(connected = True)\n",
    "from plotly.graph_objs import Figure, Histogram, Layout, Scatter"
   ]
  },
  {
   "cell_type": "code",
   "execution_count": 3,
   "metadata": {},
   "outputs": [],
   "source": [
    "surveys_dtypes = {'Facility ID':'string',\n",
    " 'Facility Name':'string',\n",
    " 'Address':'string',\n",
    " 'City':'string',\n",
    " 'State':'string',\n",
    " 'ZIP Code':'string',\n",
    " 'County Name':'string',\n",
    " 'Phone Number':'string',\n",
    " 'HCAHPS Measure ID':'string',\n",
    " 'HCAHPS Question':'string',\n",
    " 'HCAHPS Answer Description':'string',\n",
    " 'Patient Survey Star Rating':'Int32',\n",
    " 'Patient Survey Star Rating Footnote':'string',\n",
    " 'HCAHPS Answer Percent':'Int32',\n",
    " 'HCAHPS Answer Percent Footnote':'string',\n",
    " 'HCAHPS Linear Mean Value':'Int32',\n",
    " 'Number of Completed Surveys':'Int32',\n",
    " 'Number of Completed Surveys Footnote':'string',\n",
    " 'Survey Response Rate Percent':'Int32',\n",
    " 'Survey Response Rate Percent Footnote':'string',\n",
    " 'Start Date':'string',\n",
    " 'End Date':'string'}"
   ]
  },
  {
   "cell_type": "code",
   "execution_count": 4,
   "metadata": {},
   "outputs": [],
   "source": [
    "surveys = pd.read_csv('HCAHPS-Hospital.csv', low_memory = False, \n",
    "                      dtype = surveys_dtypes, na_values = ['Not Available', 'Not Applicable'])"
   ]
  },
  {
   "cell_type": "code",
   "execution_count": 5,
   "metadata": {},
   "outputs": [],
   "source": [
    "unpland_dtypes = {'Facility ID':'string',\n",
    " 'Facility Name':'string',\n",
    " 'Address':'string',\n",
    " 'City':'string',\n",
    " 'State':'string',\n",
    " 'ZIP Code':'string',\n",
    " 'County Name':'string',\n",
    " 'Phone Number':'string',\n",
    " 'Measure ID':'string',\n",
    " 'Measure Name':'string',\n",
    " 'Compared to National':'string',\n",
    " 'Denominator':'float',\n",
    " 'Score':'float',\n",
    " 'Lower Estimate':'float',\n",
    " 'Higher Estimate':'float',\n",
    " 'Number of Patients':'Int32',\n",
    " 'Number of Patients Returned':'Int32',\n",
    " 'Footnote':'string',\n",
    " 'Start Date':'string',\n",
    " 'End Date':'string'}"
   ]
  },
  {
   "cell_type": "code",
   "execution_count": 6,
   "metadata": {},
   "outputs": [],
   "source": [
    "unpland = pd.read_csv('Unplanned_Hospital_Visits-Hospital.csv', \n",
    "                      low_memory = False, \n",
    "                      dtype = unpland_dtypes, na_values = ['Not Available', 'Not Applicable'])"
   ]
  },
  {
   "cell_type": "code",
   "execution_count": 7,
   "metadata": {},
   "outputs": [
    {
     "name": "stdout",
     "output_type": "stream",
     "text": [
      "(452538, 22)\n",
      "4866\n",
      "1\n",
      "1\n",
      "01/01/2019\n",
      "12/31/2019\n"
     ]
    }
   ],
   "source": [
    "print(surveys.shape)\n",
    "print(surveys['Facility ID'].unique().size)\n",
    "print(surveys['Start Date'].unique().size)\n",
    "print(surveys['End Date'].unique().size)\n",
    "print(surveys['Start Date'].unique()[0])\n",
    "print(surveys['End Date'].unique()[0])"
   ]
  },
  {
   "cell_type": "code",
   "execution_count": 8,
   "metadata": {},
   "outputs": [
    {
     "name": "stdout",
     "output_type": "stream",
     "text": [
      "(68124, 20)\n",
      "4866\n",
      "4\n",
      "2\n",
      "['07/01/2017', '01/01/2017', '01/01/2019', '07/01/2019']\n",
      "['12/01/2019', '12/24/2019']\n"
     ]
    }
   ],
   "source": [
    "print(unpland.shape)\n",
    "print(unpland['Facility ID'].unique().size)\n",
    "print(unpland['Start Date'].unique().size)\n",
    "print(unpland['End Date'].unique().size)\n",
    "print(list(unpland['Start Date'].unique()))\n",
    "print(list(unpland['End Date'].unique()))"
   ]
  },
  {
   "cell_type": "markdown",
   "metadata": {},
   "source": [
    "#### Note that the survey data is for 2019 only, whereas the unplanned visits data can span periods beginning in 2017. It is impossible (or at least problematic) to extract only 2019 data from unplanned visits because a single measure (single row) can have a start date in 2017 and an end date in 2019. We will continue with the analysis but this is certainly an issue to be aware of and communicated along with the results."
   ]
  },
  {
   "cell_type": "code",
   "execution_count": 9,
   "metadata": {
    "scrolled": true
   },
   "outputs": [
    {
     "data": {
      "text/plain": [
       "[(0, 'Facility ID'),\n",
       " (1, 'Facility Name'),\n",
       " (2, 'Address'),\n",
       " (3, 'City'),\n",
       " (4, 'State'),\n",
       " (5, 'ZIP Code'),\n",
       " (6, 'County Name'),\n",
       " (7, 'Phone Number'),\n",
       " (8, 'HCAHPS Measure ID'),\n",
       " (9, 'HCAHPS Question'),\n",
       " (10, 'HCAHPS Answer Description'),\n",
       " (11, 'Patient Survey Star Rating'),\n",
       " (12, 'Patient Survey Star Rating Footnote'),\n",
       " (13, 'HCAHPS Answer Percent'),\n",
       " (14, 'HCAHPS Answer Percent Footnote'),\n",
       " (15, 'HCAHPS Linear Mean Value'),\n",
       " (16, 'Number of Completed Surveys'),\n",
       " (17, 'Number of Completed Surveys Footnote'),\n",
       " (18, 'Survey Response Rate Percent'),\n",
       " (19, 'Survey Response Rate Percent Footnote'),\n",
       " (20, 'Start Date'),\n",
       " (21, 'End Date')]"
      ]
     },
     "execution_count": 9,
     "metadata": {},
     "output_type": "execute_result"
    }
   ],
   "source": [
    "list(enumerate(surveys.columns.tolist()))"
   ]
  },
  {
   "cell_type": "markdown",
   "metadata": {},
   "source": [
    "#### For the most part footnotes explain why a value is missing, or give information on a restriction that applies to a measure. At this time they are deemed unimportant. "
   ]
  },
  {
   "cell_type": "code",
   "execution_count": 10,
   "metadata": {},
   "outputs": [],
   "source": [
    "star_ratings = surveys.iloc[:, [0, 8, 11]][surveys['HCAHPS Measure ID'].apply(lambda x: re.search('STAR_RATING$', x) != None)]\n",
    "star_ratings['HCAHPS Measure ID'] = star_ratings['HCAHPS Measure ID'].apply(lambda x: x[:-12])"
   ]
  },
  {
   "cell_type": "code",
   "execution_count": 11,
   "metadata": {},
   "outputs": [],
   "source": [
    "linear_scores = surveys.iloc[:, [0, 8, 15]][surveys['HCAHPS Measure ID'].apply(lambda x: re.search('LINEAR_SCORE$', x) != None)]\n",
    "linear_scores['HCAHPS Measure ID'] = linear_scores['HCAHPS Measure ID'].apply(lambda x: x[:-13])"
   ]
  },
  {
   "cell_type": "code",
   "execution_count": 12,
   "metadata": {
    "scrolled": true
   },
   "outputs": [],
   "source": [
    "star_linear = pd.merge(star_ratings, linear_scores, on=['Facility ID','HCAHPS Measure ID'])"
   ]
  },
  {
   "cell_type": "code",
   "execution_count": 51,
   "metadata": {},
   "outputs": [
    {
     "data": {
      "image/png": "[encoded data removed]",
      "text/plain": [
       "<Figure size 432x288 with 1 Axes>"
      ]
     },
     "metadata": {
      "needs_background": "light"
     },
     "output_type": "display_data"
    }
   ],
   "source": [
    "_ = sns.stripplot(x='Patient Survey Star Rating', y='HCAHPS Linear Mean Value', data=star_linear.dropna(), palette='viridis')\n",
    "_.set_title('Star Rating vs Linear Score')\n",
    "plt.show()"
   ]
  },
  {
   "cell_type": "markdown",
   "metadata": {},
   "source": [
    "#### Because of the increased amount of information available we will concentrate on linear scores, except possibly in the case where there is a star rating but no linear score for a measure. There is a case to be made for star ratings, but this can be investigated at a future date."
   ]
  },
  {
   "cell_type": "code",
   "execution_count": 14,
   "metadata": {},
   "outputs": [
    {
     "data": {
      "text/plain": [
       "[(0, 'Facility ID'),\n",
       " (1, 'Facility Name'),\n",
       " (2, 'Address'),\n",
       " (3, 'City'),\n",
       " (4, 'State'),\n",
       " (5, 'ZIP Code'),\n",
       " (6, 'County Name'),\n",
       " (7, 'Phone Number'),\n",
       " (8, 'Measure ID'),\n",
       " (9, 'Measure Name'),\n",
       " (10, 'Compared to National'),\n",
       " (11, 'Denominator'),\n",
       " (12, 'Score'),\n",
       " (13, 'Lower Estimate'),\n",
       " (14, 'Higher Estimate'),\n",
       " (15, 'Number of Patients'),\n",
       " (16, 'Number of Patients Returned'),\n",
       " (17, 'Footnote'),\n",
       " (18, 'Start Date'),\n",
       " (19, 'End Date')]"
      ]
     },
     "execution_count": 14,
     "metadata": {},
     "output_type": "execute_result"
    }
   ],
   "source": [
    "list(enumerate(unpland.columns.tolist()))"
   ]
  },
  {
   "cell_type": "code",
   "execution_count": 15,
   "metadata": {},
   "outputs": [
    {
     "name": "stdout",
     "output_type": "stream",
     "text": [
      "['07/01/2019']\n",
      "['12/01/2019']\n"
     ]
    }
   ],
   "source": [
    "print(list(unpland[unpland['Measure ID']=='READM_30_HOSP_WIDE']['Start Date'].unique()))\n",
    "print(list(unpland[unpland['Measure ID']=='READM_30_HOSP_WIDE']['End Date'].unique()))"
   ]
  },
  {
   "cell_type": "markdown",
   "metadata": {},
   "source": [
    "#### It seems by focussing on the measure 'READM_30_HOSP_WIDE' we eliminate the previous concern over dates, though they still do not match precisely so can be considered to only modify the issue. "
   ]
  },
  {
   "cell_type": "code",
   "execution_count": 16,
   "metadata": {
    "scrolled": true
   },
   "outputs": [],
   "source": [
    "readm_hw = unpland[unpland['Measure ID']=='READM_30_HOSP_WIDE'].iloc[:, [0, 12]].dropna()\n",
    "readm_hw = readm_hw.rename(columns={'Score':'READM_RATE'}).set_index('Facility ID')"
   ]
  },
  {
   "cell_type": "code",
   "execution_count": 17,
   "metadata": {
    "scrolled": true
   },
   "outputs": [
    {
     "data": {
      "text/plain": [
       "(4131, 1)"
      ]
     },
     "execution_count": 17,
     "metadata": {},
     "output_type": "execute_result"
    }
   ],
   "source": [
    "readm_hw.shape"
   ]
  },
  {
   "cell_type": "code",
   "execution_count": 18,
   "metadata": {
    "scrolled": true
   },
   "outputs": [
    {
     "data": {
      "text/html": [
       "<div>\n",
       "<style scoped>\n",
       "    .dataframe tbody tr th:only-of-type {\n",
       "        vertical-align: middle;\n",
       "    }\n",
       "\n",
       "    .dataframe tbody tr th {\n",
       "        vertical-align: top;\n",
       "    }\n",
       "\n",
       "    .dataframe thead th {\n",
       "        text-align: right;\n",
       "    }\n",
       "</style>\n",
       "<table border=\"1\" class=\"dataframe\">\n",
       "  <thead>\n",
       "    <tr style=\"text-align: right;\">\n",
       "      <th>HCAHPS Measure ID</th>\n",
       "      <th>H_CLEAN</th>\n",
       "      <th>H_COMP_1</th>\n",
       "      <th>H_COMP_2</th>\n",
       "      <th>H_COMP_3</th>\n",
       "      <th>H_COMP_5</th>\n",
       "      <th>H_COMP_6</th>\n",
       "      <th>H_COMP_7</th>\n",
       "      <th>H_HSP_RATING</th>\n",
       "      <th>H_QUIET</th>\n",
       "      <th>H_RECMND</th>\n",
       "    </tr>\n",
       "    <tr>\n",
       "      <th>Facility ID</th>\n",
       "      <th></th>\n",
       "      <th></th>\n",
       "      <th></th>\n",
       "      <th></th>\n",
       "      <th></th>\n",
       "      <th></th>\n",
       "      <th></th>\n",
       "      <th></th>\n",
       "      <th></th>\n",
       "      <th></th>\n",
       "    </tr>\n",
       "  </thead>\n",
       "  <tbody>\n",
       "    <tr>\n",
       "      <th>010001</th>\n",
       "      <td>87</td>\n",
       "      <td>90</td>\n",
       "      <td>91</td>\n",
       "      <td>84</td>\n",
       "      <td>80</td>\n",
       "      <td>90</td>\n",
       "      <td>82</td>\n",
       "      <td>88</td>\n",
       "      <td>86</td>\n",
       "      <td>90</td>\n",
       "    </tr>\n",
       "    <tr>\n",
       "      <th>010005</th>\n",
       "      <td>85</td>\n",
       "      <td>91</td>\n",
       "      <td>93</td>\n",
       "      <td>83</td>\n",
       "      <td>80</td>\n",
       "      <td>90</td>\n",
       "      <td>81</td>\n",
       "      <td>88</td>\n",
       "      <td>85</td>\n",
       "      <td>88</td>\n",
       "    </tr>\n",
       "    <tr>\n",
       "      <th>010006</th>\n",
       "      <td>86</td>\n",
       "      <td>90</td>\n",
       "      <td>92</td>\n",
       "      <td>78</td>\n",
       "      <td>76</td>\n",
       "      <td>84</td>\n",
       "      <td>80</td>\n",
       "      <td>86</td>\n",
       "      <td>87</td>\n",
       "      <td>87</td>\n",
       "    </tr>\n",
       "    <tr>\n",
       "      <th>010007</th>\n",
       "      <td>88</td>\n",
       "      <td>91</td>\n",
       "      <td>92</td>\n",
       "      <td>86</td>\n",
       "      <td>83</td>\n",
       "      <td>90</td>\n",
       "      <td>83</td>\n",
       "      <td>88</td>\n",
       "      <td>88</td>\n",
       "      <td>88</td>\n",
       "    </tr>\n",
       "    <tr>\n",
       "      <th>010008</th>\n",
       "      <td>&lt;NA&gt;</td>\n",
       "      <td>&lt;NA&gt;</td>\n",
       "      <td>&lt;NA&gt;</td>\n",
       "      <td>&lt;NA&gt;</td>\n",
       "      <td>&lt;NA&gt;</td>\n",
       "      <td>&lt;NA&gt;</td>\n",
       "      <td>&lt;NA&gt;</td>\n",
       "      <td>&lt;NA&gt;</td>\n",
       "      <td>&lt;NA&gt;</td>\n",
       "      <td>&lt;NA&gt;</td>\n",
       "    </tr>\n",
       "    <tr>\n",
       "      <th>...</th>\n",
       "      <td>...</td>\n",
       "      <td>...</td>\n",
       "      <td>...</td>\n",
       "      <td>...</td>\n",
       "      <td>...</td>\n",
       "      <td>...</td>\n",
       "      <td>...</td>\n",
       "      <td>...</td>\n",
       "      <td>...</td>\n",
       "      <td>...</td>\n",
       "    </tr>\n",
       "    <tr>\n",
       "      <th>670260</th>\n",
       "      <td>&lt;NA&gt;</td>\n",
       "      <td>&lt;NA&gt;</td>\n",
       "      <td>&lt;NA&gt;</td>\n",
       "      <td>&lt;NA&gt;</td>\n",
       "      <td>&lt;NA&gt;</td>\n",
       "      <td>&lt;NA&gt;</td>\n",
       "      <td>&lt;NA&gt;</td>\n",
       "      <td>&lt;NA&gt;</td>\n",
       "      <td>&lt;NA&gt;</td>\n",
       "      <td>&lt;NA&gt;</td>\n",
       "    </tr>\n",
       "    <tr>\n",
       "      <th>670266</th>\n",
       "      <td>&lt;NA&gt;</td>\n",
       "      <td>&lt;NA&gt;</td>\n",
       "      <td>&lt;NA&gt;</td>\n",
       "      <td>&lt;NA&gt;</td>\n",
       "      <td>&lt;NA&gt;</td>\n",
       "      <td>&lt;NA&gt;</td>\n",
       "      <td>&lt;NA&gt;</td>\n",
       "      <td>&lt;NA&gt;</td>\n",
       "      <td>&lt;NA&gt;</td>\n",
       "      <td>&lt;NA&gt;</td>\n",
       "    </tr>\n",
       "    <tr>\n",
       "      <th>670267</th>\n",
       "      <td>&lt;NA&gt;</td>\n",
       "      <td>&lt;NA&gt;</td>\n",
       "      <td>&lt;NA&gt;</td>\n",
       "      <td>&lt;NA&gt;</td>\n",
       "      <td>&lt;NA&gt;</td>\n",
       "      <td>&lt;NA&gt;</td>\n",
       "      <td>&lt;NA&gt;</td>\n",
       "      <td>&lt;NA&gt;</td>\n",
       "      <td>&lt;NA&gt;</td>\n",
       "      <td>&lt;NA&gt;</td>\n",
       "    </tr>\n",
       "    <tr>\n",
       "      <th>670280</th>\n",
       "      <td>&lt;NA&gt;</td>\n",
       "      <td>&lt;NA&gt;</td>\n",
       "      <td>&lt;NA&gt;</td>\n",
       "      <td>&lt;NA&gt;</td>\n",
       "      <td>&lt;NA&gt;</td>\n",
       "      <td>&lt;NA&gt;</td>\n",
       "      <td>&lt;NA&gt;</td>\n",
       "      <td>&lt;NA&gt;</td>\n",
       "      <td>&lt;NA&gt;</td>\n",
       "      <td>&lt;NA&gt;</td>\n",
       "    </tr>\n",
       "    <tr>\n",
       "      <th>670285</th>\n",
       "      <td>&lt;NA&gt;</td>\n",
       "      <td>&lt;NA&gt;</td>\n",
       "      <td>&lt;NA&gt;</td>\n",
       "      <td>&lt;NA&gt;</td>\n",
       "      <td>&lt;NA&gt;</td>\n",
       "      <td>&lt;NA&gt;</td>\n",
       "      <td>&lt;NA&gt;</td>\n",
       "      <td>&lt;NA&gt;</td>\n",
       "      <td>&lt;NA&gt;</td>\n",
       "      <td>&lt;NA&gt;</td>\n",
       "    </tr>\n",
       "  </tbody>\n",
       "</table>\n",
       "<p>4866 rows × 10 columns</p>\n",
       "</div>"
      ],
      "text/plain": [
       "HCAHPS Measure ID  H_CLEAN  H_COMP_1  H_COMP_2  H_COMP_3  H_COMP_5  H_COMP_6  \\\n",
       "Facility ID                                                                    \n",
       "010001                  87        90        91        84        80        90   \n",
       "010005                  85        91        93        83        80        90   \n",
       "010006                  86        90        92        78        76        84   \n",
       "010007                  88        91        92        86        83        90   \n",
       "010008                <NA>      <NA>      <NA>      <NA>      <NA>      <NA>   \n",
       "...                    ...       ...       ...       ...       ...       ...   \n",
       "670260                <NA>      <NA>      <NA>      <NA>      <NA>      <NA>   \n",
       "670266                <NA>      <NA>      <NA>      <NA>      <NA>      <NA>   \n",
       "670267                <NA>      <NA>      <NA>      <NA>      <NA>      <NA>   \n",
       "670280                <NA>      <NA>      <NA>      <NA>      <NA>      <NA>   \n",
       "670285                <NA>      <NA>      <NA>      <NA>      <NA>      <NA>   \n",
       "\n",
       "HCAHPS Measure ID  H_COMP_7  H_HSP_RATING  H_QUIET  H_RECMND  \n",
       "Facility ID                                                   \n",
       "010001                   82            88       86        90  \n",
       "010005                   81            88       85        88  \n",
       "010006                   80            86       87        87  \n",
       "010007                   83            88       88        88  \n",
       "010008                 <NA>          <NA>     <NA>      <NA>  \n",
       "...                     ...           ...      ...       ...  \n",
       "670260                 <NA>          <NA>     <NA>      <NA>  \n",
       "670266                 <NA>          <NA>     <NA>      <NA>  \n",
       "670267                 <NA>          <NA>     <NA>      <NA>  \n",
       "670280                 <NA>          <NA>     <NA>      <NA>  \n",
       "670285                 <NA>          <NA>     <NA>      <NA>  \n",
       "\n",
       "[4866 rows x 10 columns]"
      ]
     },
     "execution_count": 18,
     "metadata": {},
     "output_type": "execute_result"
    }
   ],
   "source": [
    "linear_scores = linear_scores.set_index(['Facility ID', 'HCAHPS Measure ID'])\n",
    "linear_pv = linear_scores.unstack().droplevel(0, axis = 1)\n",
    "linear_pv"
   ]
  },
  {
   "cell_type": "code",
   "execution_count": 19,
   "metadata": {},
   "outputs": [
    {
     "data": {
      "text/plain": [
       "(3445, 10)"
      ]
     },
     "execution_count": 19,
     "metadata": {},
     "output_type": "execute_result"
    }
   ],
   "source": [
    "linear_pv.dropna().shape"
   ]
  },
  {
   "cell_type": "code",
   "execution_count": 20,
   "metadata": {},
   "outputs": [
    {
     "data": {
      "text/html": [
       "<div>\n",
       "<style scoped>\n",
       "    .dataframe tbody tr th:only-of-type {\n",
       "        vertical-align: middle;\n",
       "    }\n",
       "\n",
       "    .dataframe tbody tr th {\n",
       "        vertical-align: top;\n",
       "    }\n",
       "\n",
       "    .dataframe thead th {\n",
       "        text-align: right;\n",
       "    }\n",
       "</style>\n",
       "<table border=\"1\" class=\"dataframe\">\n",
       "  <thead>\n",
       "    <tr style=\"text-align: right;\">\n",
       "      <th></th>\n",
       "      <th>H_CLEAN</th>\n",
       "      <th>H_COMP_1</th>\n",
       "      <th>H_COMP_2</th>\n",
       "      <th>H_COMP_3</th>\n",
       "      <th>H_COMP_5</th>\n",
       "      <th>H_COMP_6</th>\n",
       "      <th>H_COMP_7</th>\n",
       "      <th>H_HSP_RATING</th>\n",
       "      <th>H_QUIET</th>\n",
       "      <th>H_RECMND</th>\n",
       "      <th>READM_RATE</th>\n",
       "    </tr>\n",
       "    <tr>\n",
       "      <th>Facility ID</th>\n",
       "      <th></th>\n",
       "      <th></th>\n",
       "      <th></th>\n",
       "      <th></th>\n",
       "      <th></th>\n",
       "      <th></th>\n",
       "      <th></th>\n",
       "      <th></th>\n",
       "      <th></th>\n",
       "      <th></th>\n",
       "      <th></th>\n",
       "    </tr>\n",
       "  </thead>\n",
       "  <tbody>\n",
       "    <tr>\n",
       "      <th>010001</th>\n",
       "      <td>87</td>\n",
       "      <td>90</td>\n",
       "      <td>91</td>\n",
       "      <td>84</td>\n",
       "      <td>80</td>\n",
       "      <td>90</td>\n",
       "      <td>82</td>\n",
       "      <td>88</td>\n",
       "      <td>86</td>\n",
       "      <td>90</td>\n",
       "      <td>15.5</td>\n",
       "    </tr>\n",
       "    <tr>\n",
       "      <th>010005</th>\n",
       "      <td>85</td>\n",
       "      <td>91</td>\n",
       "      <td>93</td>\n",
       "      <td>83</td>\n",
       "      <td>80</td>\n",
       "      <td>90</td>\n",
       "      <td>81</td>\n",
       "      <td>88</td>\n",
       "      <td>85</td>\n",
       "      <td>88</td>\n",
       "      <td>14.7</td>\n",
       "    </tr>\n",
       "    <tr>\n",
       "      <th>010006</th>\n",
       "      <td>86</td>\n",
       "      <td>90</td>\n",
       "      <td>92</td>\n",
       "      <td>78</td>\n",
       "      <td>76</td>\n",
       "      <td>84</td>\n",
       "      <td>80</td>\n",
       "      <td>86</td>\n",
       "      <td>87</td>\n",
       "      <td>87</td>\n",
       "      <td>15.7</td>\n",
       "    </tr>\n",
       "    <tr>\n",
       "      <th>010007</th>\n",
       "      <td>88</td>\n",
       "      <td>91</td>\n",
       "      <td>92</td>\n",
       "      <td>86</td>\n",
       "      <td>83</td>\n",
       "      <td>90</td>\n",
       "      <td>83</td>\n",
       "      <td>88</td>\n",
       "      <td>88</td>\n",
       "      <td>88</td>\n",
       "      <td>15.7</td>\n",
       "    </tr>\n",
       "    <tr>\n",
       "      <th>010008</th>\n",
       "      <td>&lt;NA&gt;</td>\n",
       "      <td>&lt;NA&gt;</td>\n",
       "      <td>&lt;NA&gt;</td>\n",
       "      <td>&lt;NA&gt;</td>\n",
       "      <td>&lt;NA&gt;</td>\n",
       "      <td>&lt;NA&gt;</td>\n",
       "      <td>&lt;NA&gt;</td>\n",
       "      <td>&lt;NA&gt;</td>\n",
       "      <td>&lt;NA&gt;</td>\n",
       "      <td>&lt;NA&gt;</td>\n",
       "      <td>15.3</td>\n",
       "    </tr>\n",
       "    <tr>\n",
       "      <th>...</th>\n",
       "      <td>...</td>\n",
       "      <td>...</td>\n",
       "      <td>...</td>\n",
       "      <td>...</td>\n",
       "      <td>...</td>\n",
       "      <td>...</td>\n",
       "      <td>...</td>\n",
       "      <td>...</td>\n",
       "      <td>...</td>\n",
       "      <td>...</td>\n",
       "      <td>...</td>\n",
       "    </tr>\n",
       "    <tr>\n",
       "      <th>670116</th>\n",
       "      <td>93</td>\n",
       "      <td>95</td>\n",
       "      <td>94</td>\n",
       "      <td>92</td>\n",
       "      <td>86</td>\n",
       "      <td>91</td>\n",
       "      <td>86</td>\n",
       "      <td>93</td>\n",
       "      <td>92</td>\n",
       "      <td>94</td>\n",
       "      <td>15.9</td>\n",
       "    </tr>\n",
       "    <tr>\n",
       "      <th>670120</th>\n",
       "      <td>89</td>\n",
       "      <td>89</td>\n",
       "      <td>89</td>\n",
       "      <td>83</td>\n",
       "      <td>78</td>\n",
       "      <td>84</td>\n",
       "      <td>80</td>\n",
       "      <td>87</td>\n",
       "      <td>85</td>\n",
       "      <td>87</td>\n",
       "      <td>16.5</td>\n",
       "    </tr>\n",
       "    <tr>\n",
       "      <th>670122</th>\n",
       "      <td>86</td>\n",
       "      <td>91</td>\n",
       "      <td>91</td>\n",
       "      <td>85</td>\n",
       "      <td>77</td>\n",
       "      <td>86</td>\n",
       "      <td>82</td>\n",
       "      <td>92</td>\n",
       "      <td>84</td>\n",
       "      <td>92</td>\n",
       "      <td>16.9</td>\n",
       "    </tr>\n",
       "    <tr>\n",
       "      <th>670124</th>\n",
       "      <td>&lt;NA&gt;</td>\n",
       "      <td>&lt;NA&gt;</td>\n",
       "      <td>&lt;NA&gt;</td>\n",
       "      <td>&lt;NA&gt;</td>\n",
       "      <td>&lt;NA&gt;</td>\n",
       "      <td>&lt;NA&gt;</td>\n",
       "      <td>&lt;NA&gt;</td>\n",
       "      <td>&lt;NA&gt;</td>\n",
       "      <td>&lt;NA&gt;</td>\n",
       "      <td>&lt;NA&gt;</td>\n",
       "      <td>15.5</td>\n",
       "    </tr>\n",
       "    <tr>\n",
       "      <th>670128</th>\n",
       "      <td>&lt;NA&gt;</td>\n",
       "      <td>&lt;NA&gt;</td>\n",
       "      <td>&lt;NA&gt;</td>\n",
       "      <td>&lt;NA&gt;</td>\n",
       "      <td>&lt;NA&gt;</td>\n",
       "      <td>&lt;NA&gt;</td>\n",
       "      <td>&lt;NA&gt;</td>\n",
       "      <td>&lt;NA&gt;</td>\n",
       "      <td>&lt;NA&gt;</td>\n",
       "      <td>&lt;NA&gt;</td>\n",
       "      <td>15.6</td>\n",
       "    </tr>\n",
       "  </tbody>\n",
       "</table>\n",
       "<p>4131 rows × 11 columns</p>\n",
       "</div>"
      ],
      "text/plain": [
       "             H_CLEAN  H_COMP_1  H_COMP_2  H_COMP_3  H_COMP_5  H_COMP_6  \\\n",
       "Facility ID                                                              \n",
       "010001            87        90        91        84        80        90   \n",
       "010005            85        91        93        83        80        90   \n",
       "010006            86        90        92        78        76        84   \n",
       "010007            88        91        92        86        83        90   \n",
       "010008          <NA>      <NA>      <NA>      <NA>      <NA>      <NA>   \n",
       "...              ...       ...       ...       ...       ...       ...   \n",
       "670116            93        95        94        92        86        91   \n",
       "670120            89        89        89        83        78        84   \n",
       "670122            86        91        91        85        77        86   \n",
       "670124          <NA>      <NA>      <NA>      <NA>      <NA>      <NA>   \n",
       "670128          <NA>      <NA>      <NA>      <NA>      <NA>      <NA>   \n",
       "\n",
       "             H_COMP_7  H_HSP_RATING  H_QUIET  H_RECMND  READM_RATE  \n",
       "Facility ID                                                         \n",
       "010001             82            88       86        90        15.5  \n",
       "010005             81            88       85        88        14.7  \n",
       "010006             80            86       87        87        15.7  \n",
       "010007             83            88       88        88        15.7  \n",
       "010008           <NA>          <NA>     <NA>      <NA>        15.3  \n",
       "...               ...           ...      ...       ...         ...  \n",
       "670116             86            93       92        94        15.9  \n",
       "670120             80            87       85        87        16.5  \n",
       "670122             82            92       84        92        16.9  \n",
       "670124           <NA>          <NA>     <NA>      <NA>        15.5  \n",
       "670128           <NA>          <NA>     <NA>      <NA>        15.6  \n",
       "\n",
       "[4131 rows x 11 columns]"
      ]
     },
     "execution_count": 20,
     "metadata": {},
     "output_type": "execute_result"
    }
   ],
   "source": [
    "lin_readm = pd.merge(linear_pv, readm_hw, on='Facility ID')\n",
    "lin_readm"
   ]
  },
  {
   "cell_type": "code",
   "execution_count": 21,
   "metadata": {},
   "outputs": [
    {
     "data": {
      "text/plain": [
       "H_COMP_6       -0.262240\n",
       "H_RECMND       -0.232840\n",
       "H_COMP_1       -0.226153\n",
       "H_HSP_RATING   -0.225432\n",
       "H_COMP_3       -0.212882\n",
       "H_COMP_7       -0.203613\n",
       "H_COMP_2       -0.197653\n",
       "H_CLEAN        -0.193883\n",
       "H_COMP_5       -0.167898\n",
       "H_QUIET        -0.157066\n",
       "Name: READM_RATE, dtype: float64"
      ]
     },
     "execution_count": 21,
     "metadata": {},
     "output_type": "execute_result"
    }
   ],
   "source": [
    "readm_corr = lin_readm.corr()[:-1]['READM_RATE'].sort_values()\n",
    "readm_corr"
   ]
  },
  {
   "cell_type": "code",
   "execution_count": 22,
   "metadata": {
    "scrolled": true
   },
   "outputs": [],
   "source": [
    "X_ = np.array(lin_readm[['H_COMP_6', 'READM_RATE']].dropna()['H_COMP_6']).astype('float')\n",
    "X = X_.reshape(-1,1)\n",
    "y = np.array(lin_readm[['H_COMP_6', 'READM_RATE']].dropna()['READM_RATE']).astype('float')\n",
    "reg_COMP_6 = LinearRegression().fit(X, y)"
   ]
  },
  {
   "cell_type": "code",
   "execution_count": 23,
   "metadata": {
    "scrolled": true
   },
   "outputs": [
    {
     "name": "stdout",
     "output_type": "stream",
     "text": [
      "[-0.05266592]\n",
      "20.08421333096387\n",
      "0.06876971883776373\n"
     ]
    }
   ],
   "source": [
    "print(reg_COMP_6.coef_)\n",
    "print(reg_COMP_6.intercept_)\n",
    "print(reg_COMP_6.score(X, y))"
   ]
  },
  {
   "cell_type": "code",
   "execution_count": 24,
   "metadata": {},
   "outputs": [
    {
     "data": {
      "image/png": "[encoded data removed]",
      "text/plain": [
       "<Figure size 432x288 with 1 Axes>"
      ]
     },
     "metadata": {
      "needs_background": "light"
     },
     "output_type": "display_data"
    }
   ],
   "source": [
    "m = reg_COMP_6.coef_[0]\n",
    "b = reg_COMP_6.intercept_\n",
    "\n",
    "_ = plt.plot(X_, y, 'o', label='Original data', markersize=5)\n",
    "_ = plt.plot(X_, m*X_ + b, 'r', label='Fitted line')\n",
    "_ = plt.legend()\n",
    "plt.show()"
   ]
  },
  {
   "cell_type": "code",
   "execution_count": 25,
   "metadata": {},
   "outputs": [],
   "source": [
    "X2 = sm.add_constant(X_)\n",
    "model = sm.OLS(y, X2)\n",
    "reg2_COMP_6 = model.fit()"
   ]
  },
  {
   "cell_type": "code",
   "execution_count": 26,
   "metadata": {},
   "outputs": [
    {
     "name": "stdout",
     "output_type": "stream",
     "text": [
      "                            OLS Regression Results                            \n",
      "==============================================================================\n",
      "Dep. Variable:                      y   R-squared:                       0.069\n",
      "Model:                            OLS   Adj. R-squared:                  0.068\n",
      "Method:                 Least Squares   F-statistic:                     249.8\n",
      "Date:                Fri, 23 Jul 2021   Prob (F-statistic):           2.47e-54\n",
      "Time:                        13:04:09   Log-Likelihood:                -3652.0\n",
      "No. Observations:                3384   AIC:                             7308.\n",
      "Df Residuals:                    3382   BIC:                             7320.\n",
      "Df Model:                           1                                         \n",
      "Covariance Type:            nonrobust                                         \n",
      "==============================================================================\n",
      "                 coef    std err          t      P>|t|      [0.025      0.975]\n",
      "------------------------------------------------------------------------------\n",
      "const         20.0842      0.290     69.149      0.000      19.515      20.654\n",
      "x1            -0.0527      0.003    -15.804      0.000      -0.059      -0.046\n",
      "==============================================================================\n",
      "Omnibus:                      612.622   Durbin-Watson:                   1.813\n",
      "Prob(Omnibus):                  0.000   Jarque-Bera (JB):             3096.156\n",
      "Skew:                           0.774   Prob(JB):                         0.00\n",
      "Kurtosis:                       7.423   Cond. No.                     2.07e+03\n",
      "==============================================================================\n",
      "\n",
      "Notes:\n",
      "[1] Standard Errors assume that the covariance matrix of the errors is correctly specified.\n",
      "[2] The condition number is large, 2.07e+03. This might indicate that there are\n",
      "strong multicollinearity or other numerical problems.\n"
     ]
    }
   ],
   "source": [
    "print(reg2_COMP_6.summary())"
   ]
  },
  {
   "cell_type": "code",
   "execution_count": 27,
   "metadata": {},
   "outputs": [
    {
     "data": {
      "text/plain": [
       "[(0, 'H_CLEAN'),\n",
       " (1, 'H_COMP_1'),\n",
       " (2, 'H_COMP_2'),\n",
       " (3, 'H_COMP_3'),\n",
       " (4, 'H_COMP_5'),\n",
       " (5, 'H_COMP_6'),\n",
       " (6, 'H_COMP_7'),\n",
       " (7, 'H_HSP_RATING'),\n",
       " (8, 'H_QUIET'),\n",
       " (9, 'H_RECMND'),\n",
       " (10, 'READM_RATE')]"
      ]
     },
     "execution_count": 27,
     "metadata": {},
     "output_type": "execute_result"
    }
   ],
   "source": [
    "list(enumerate(lin_readm.columns.tolist()))"
   ]
  },
  {
   "cell_type": "code",
   "execution_count": 28,
   "metadata": {
    "scrolled": false
   },
   "outputs": [
    {
     "name": "stdout",
     "output_type": "stream",
     "text": [
      "                            OLS Regression Results                            \n",
      "==============================================================================\n",
      "Dep. Variable:                      y   R-squared:                       0.091\n",
      "Model:                            OLS   Adj. R-squared:                  0.088\n",
      "Method:                 Least Squares   F-statistic:                     33.81\n",
      "Date:                Fri, 23 Jul 2021   Prob (F-statistic):           2.58e-63\n",
      "Time:                        13:04:09   Log-Likelihood:                -3610.9\n",
      "No. Observations:                3384   AIC:                             7244.\n",
      "Df Residuals:                    3373   BIC:                             7311.\n",
      "Df Model:                          10                                         \n",
      "Covariance Type:            nonrobust                                         \n",
      "==============================================================================\n",
      "                 coef    std err          t      P>|t|      [0.025      0.975]\n",
      "------------------------------------------------------------------------------\n",
      "const         20.6760      0.617     33.484      0.000      19.465      21.887\n",
      "x1            -0.0150      0.005     -3.141      0.002      -0.024      -0.006\n",
      "x2            -0.0090      0.012     -0.734      0.463      -0.033       0.015\n",
      "x3            -0.0164      0.009     -1.743      0.081      -0.035       0.002\n",
      "x4            -0.0126      0.006     -2.181      0.029      -0.024      -0.001\n",
      "x5             0.0206      0.005      3.818      0.000       0.010       0.031\n",
      "x6            -0.0469      0.005     -8.998      0.000      -0.057      -0.037\n",
      "x7             0.0407      0.011      3.763      0.000       0.019       0.062\n",
      "x8             0.0392      0.015      2.539      0.011       0.009       0.069\n",
      "x9            -0.0079      0.003     -2.309      0.021      -0.015      -0.001\n",
      "x10           -0.0470      0.009     -5.009      0.000      -0.065      -0.029\n",
      "==============================================================================\n",
      "Omnibus:                      537.283   Durbin-Watson:                   1.803\n",
      "Prob(Omnibus):                  0.000   Jarque-Bera (JB):             2526.924\n",
      "Skew:                           0.688   Prob(JB):                         0.00\n",
      "Kurtosis:                       7.004   Cond. No.                     1.39e+04\n",
      "==============================================================================\n",
      "\n",
      "Notes:\n",
      "[1] Standard Errors assume that the covariance matrix of the errors is correctly specified.\n",
      "[2] The condition number is large, 1.39e+04. This might indicate that there are\n",
      "strong multicollinearity or other numerical problems.\n"
     ]
    }
   ],
   "source": [
    "X_all = np.array(lin_readm.dropna().iloc[:, range(10)]).astype(float)\n",
    "X_all = sm.add_constant(X_all)\n",
    "y_all = np.array(lin_readm.dropna()['READM_RATE']).astype(float)\n",
    "model_all = sm.OLS(y_all, X_all)\n",
    "reg_all = model_all.fit()\n",
    "print(reg_all.summary())"
   ]
  },
  {
   "cell_type": "markdown",
   "metadata": {},
   "source": [
    "Predictor variable dictionary: {\n",
    "'x1':'H_CLEAN', \n",
    "'x2':'H_COMP_1', \n",
    "'x3:'H_COMP_2', \n",
    "'x4':'H_COMP_3', \n",
    "'x5':'H_COMP_5', \n",
    "'x6':'H_COMP_6', \n",
    "'x7':'H_COMP_7', \n",
    "'x8':'H_HSP_RATING', \n",
    "'x9':'H_QUIET', \n",
    "'x10':'H_RECMND'\n",
    "}"
   ]
  },
  {
   "cell_type": "markdown",
   "metadata": {},
   "source": [
    "Measure Id dictionary: {\n",
    "'H_CLEAN':'Cleanliness'\n",
    "'H_COMP_1':'Nurse communication', \n",
    "'H_COMP_2':'Doctor communication', \n",
    "'H_COMP_3':'Staff responsiveness', \n",
    "'H_COMP_5':'Communication about medicine', \n",
    "'H_COMP_6':'Discharge information', \n",
    "'H_COMP_7':'Care transition', \n",
    "'H_HSP_RATING':'Overall hospital rating', \n",
    "'H_QUIET':'Quietness', \n",
    "'H_RECMND':'Recommend hospital'\n",
    "}"
   ]
  },
  {
   "cell_type": "code",
   "execution_count": 55,
   "metadata": {},
   "outputs": [],
   "source": [
    "hac = pd.read_csv('FY_2021_HAC_Reduction_Program_Hospital.csv', low_memory = False, usecols = [1, 20, 22], \\\n",
    "                  dtype = {'Facility ID':'string', 'Total HAC Score':'float', 'Payment Reduction':'string'}).set_index('Facility ID')"
   ]
  },
  {
   "cell_type": "code",
   "execution_count": 56,
   "metadata": {
    "scrolled": true
   },
   "outputs": [
    {
     "data": {
      "text/html": [
       "<div>\n",
       "<style scoped>\n",
       "    .dataframe tbody tr th:only-of-type {\n",
       "        vertical-align: middle;\n",
       "    }\n",
       "\n",
       "    .dataframe tbody tr th {\n",
       "        vertical-align: top;\n",
       "    }\n",
       "\n",
       "    .dataframe thead th {\n",
       "        text-align: right;\n",
       "    }\n",
       "</style>\n",
       "<table border=\"1\" class=\"dataframe\">\n",
       "  <thead>\n",
       "    <tr style=\"text-align: right;\">\n",
       "      <th></th>\n",
       "      <th>Total HAC Score</th>\n",
       "      <th>Payment Reduction</th>\n",
       "    </tr>\n",
       "    <tr>\n",
       "      <th>Facility ID</th>\n",
       "      <th></th>\n",
       "      <th></th>\n",
       "    </tr>\n",
       "  </thead>\n",
       "  <tbody>\n",
       "    <tr>\n",
       "      <th>010001</th>\n",
       "      <td>-0.3958</td>\n",
       "      <td>No</td>\n",
       "    </tr>\n",
       "    <tr>\n",
       "      <th>010005</th>\n",
       "      <td>0.5547</td>\n",
       "      <td>Yes</td>\n",
       "    </tr>\n",
       "    <tr>\n",
       "      <th>010006</th>\n",
       "      <td>-0.0853</td>\n",
       "      <td>No</td>\n",
       "    </tr>\n",
       "    <tr>\n",
       "      <th>010007</th>\n",
       "      <td>-0.7965</td>\n",
       "      <td>No</td>\n",
       "    </tr>\n",
       "    <tr>\n",
       "      <th>010008</th>\n",
       "      <td>0.0247</td>\n",
       "      <td>No</td>\n",
       "    </tr>\n",
       "    <tr>\n",
       "      <th>...</th>\n",
       "      <td>...</td>\n",
       "      <td>...</td>\n",
       "    </tr>\n",
       "    <tr>\n",
       "      <th>670133</th>\n",
       "      <td>NaN</td>\n",
       "      <td>No</td>\n",
       "    </tr>\n",
       "    <tr>\n",
       "      <th>670134</th>\n",
       "      <td>NaN</td>\n",
       "      <td>No</td>\n",
       "    </tr>\n",
       "    <tr>\n",
       "      <th>670135</th>\n",
       "      <td>NaN</td>\n",
       "      <td>No</td>\n",
       "    </tr>\n",
       "    <tr>\n",
       "      <th>670136</th>\n",
       "      <td>NaN</td>\n",
       "      <td>No</td>\n",
       "    </tr>\n",
       "    <tr>\n",
       "      <th>670143</th>\n",
       "      <td>NaN</td>\n",
       "      <td>No</td>\n",
       "    </tr>\n",
       "  </tbody>\n",
       "</table>\n",
       "<p>3204 rows × 2 columns</p>\n",
       "</div>"
      ],
      "text/plain": [
       "             Total HAC Score Payment Reduction\n",
       "Facility ID                                   \n",
       "010001               -0.3958                No\n",
       "010005                0.5547               Yes\n",
       "010006               -0.0853                No\n",
       "010007               -0.7965                No\n",
       "010008                0.0247                No\n",
       "...                      ...               ...\n",
       "670133                   NaN                No\n",
       "670134                   NaN                No\n",
       "670135                   NaN                No\n",
       "670136                   NaN                No\n",
       "670143                   NaN                No\n",
       "\n",
       "[3204 rows x 2 columns]"
      ]
     },
     "execution_count": 56,
     "metadata": {},
     "output_type": "execute_result"
    }
   ],
   "source": [
    "hac"
   ]
  },
  {
   "cell_type": "code",
   "execution_count": 86,
   "metadata": {
    "scrolled": true
   },
   "outputs": [
    {
     "data": {
      "image/png": "[encoded data removed]",
      "text/plain": [
       "<Figure size 432x288 with 1 Axes>"
      ]
     },
     "metadata": {
      "needs_background": "light"
     },
     "output_type": "display_data"
    }
   ],
   "source": [
    "_ = sns.boxplot(x='Payment Reduction', y='Total HAC Score', data=hac, width=0.38, palette='viridis')\n",
    "_.set_title('Total HAC Score vs Payment Reduction')\n",
    "plt.show()"
   ]
  },
  {
   "cell_type": "code",
   "execution_count": 58,
   "metadata": {
    "scrolled": true
   },
   "outputs": [
    {
     "data": {
      "text/html": [
       "<div>\n",
       "<style scoped>\n",
       "    .dataframe tbody tr th:only-of-type {\n",
       "        vertical-align: middle;\n",
       "    }\n",
       "\n",
       "    .dataframe tbody tr th {\n",
       "        vertical-align: top;\n",
       "    }\n",
       "\n",
       "    .dataframe thead th {\n",
       "        text-align: right;\n",
       "    }\n",
       "</style>\n",
       "<table border=\"1\" class=\"dataframe\">\n",
       "  <thead>\n",
       "    <tr style=\"text-align: right;\">\n",
       "      <th></th>\n",
       "      <th>H_CLEAN</th>\n",
       "      <th>H_COMP_1</th>\n",
       "      <th>H_COMP_2</th>\n",
       "      <th>H_COMP_3</th>\n",
       "      <th>H_COMP_5</th>\n",
       "      <th>H_COMP_6</th>\n",
       "      <th>H_COMP_7</th>\n",
       "      <th>H_HSP_RATING</th>\n",
       "      <th>H_QUIET</th>\n",
       "      <th>H_RECMND</th>\n",
       "      <th>Total HAC Score</th>\n",
       "    </tr>\n",
       "    <tr>\n",
       "      <th>Facility ID</th>\n",
       "      <th></th>\n",
       "      <th></th>\n",
       "      <th></th>\n",
       "      <th></th>\n",
       "      <th></th>\n",
       "      <th></th>\n",
       "      <th></th>\n",
       "      <th></th>\n",
       "      <th></th>\n",
       "      <th></th>\n",
       "      <th></th>\n",
       "    </tr>\n",
       "  </thead>\n",
       "  <tbody>\n",
       "    <tr>\n",
       "      <th>010001</th>\n",
       "      <td>87</td>\n",
       "      <td>90</td>\n",
       "      <td>91</td>\n",
       "      <td>84</td>\n",
       "      <td>80</td>\n",
       "      <td>90</td>\n",
       "      <td>82</td>\n",
       "      <td>88</td>\n",
       "      <td>86</td>\n",
       "      <td>90</td>\n",
       "      <td>-0.3958</td>\n",
       "    </tr>\n",
       "    <tr>\n",
       "      <th>010005</th>\n",
       "      <td>85</td>\n",
       "      <td>91</td>\n",
       "      <td>93</td>\n",
       "      <td>83</td>\n",
       "      <td>80</td>\n",
       "      <td>90</td>\n",
       "      <td>81</td>\n",
       "      <td>88</td>\n",
       "      <td>85</td>\n",
       "      <td>88</td>\n",
       "      <td>0.5547</td>\n",
       "    </tr>\n",
       "    <tr>\n",
       "      <th>010006</th>\n",
       "      <td>86</td>\n",
       "      <td>90</td>\n",
       "      <td>92</td>\n",
       "      <td>78</td>\n",
       "      <td>76</td>\n",
       "      <td>84</td>\n",
       "      <td>80</td>\n",
       "      <td>86</td>\n",
       "      <td>87</td>\n",
       "      <td>87</td>\n",
       "      <td>-0.0853</td>\n",
       "    </tr>\n",
       "    <tr>\n",
       "      <th>010007</th>\n",
       "      <td>88</td>\n",
       "      <td>91</td>\n",
       "      <td>92</td>\n",
       "      <td>86</td>\n",
       "      <td>83</td>\n",
       "      <td>90</td>\n",
       "      <td>83</td>\n",
       "      <td>88</td>\n",
       "      <td>88</td>\n",
       "      <td>88</td>\n",
       "      <td>-0.7965</td>\n",
       "    </tr>\n",
       "    <tr>\n",
       "      <th>010008</th>\n",
       "      <td>&lt;NA&gt;</td>\n",
       "      <td>&lt;NA&gt;</td>\n",
       "      <td>&lt;NA&gt;</td>\n",
       "      <td>&lt;NA&gt;</td>\n",
       "      <td>&lt;NA&gt;</td>\n",
       "      <td>&lt;NA&gt;</td>\n",
       "      <td>&lt;NA&gt;</td>\n",
       "      <td>&lt;NA&gt;</td>\n",
       "      <td>&lt;NA&gt;</td>\n",
       "      <td>&lt;NA&gt;</td>\n",
       "      <td>0.0247</td>\n",
       "    </tr>\n",
       "    <tr>\n",
       "      <th>...</th>\n",
       "      <td>...</td>\n",
       "      <td>...</td>\n",
       "      <td>...</td>\n",
       "      <td>...</td>\n",
       "      <td>...</td>\n",
       "      <td>...</td>\n",
       "      <td>...</td>\n",
       "      <td>...</td>\n",
       "      <td>...</td>\n",
       "      <td>...</td>\n",
       "      <td>...</td>\n",
       "    </tr>\n",
       "    <tr>\n",
       "      <th>670133</th>\n",
       "      <td>&lt;NA&gt;</td>\n",
       "      <td>&lt;NA&gt;</td>\n",
       "      <td>&lt;NA&gt;</td>\n",
       "      <td>&lt;NA&gt;</td>\n",
       "      <td>&lt;NA&gt;</td>\n",
       "      <td>&lt;NA&gt;</td>\n",
       "      <td>&lt;NA&gt;</td>\n",
       "      <td>&lt;NA&gt;</td>\n",
       "      <td>&lt;NA&gt;</td>\n",
       "      <td>&lt;NA&gt;</td>\n",
       "      <td>NaN</td>\n",
       "    </tr>\n",
       "    <tr>\n",
       "      <th>670134</th>\n",
       "      <td>&lt;NA&gt;</td>\n",
       "      <td>&lt;NA&gt;</td>\n",
       "      <td>&lt;NA&gt;</td>\n",
       "      <td>&lt;NA&gt;</td>\n",
       "      <td>&lt;NA&gt;</td>\n",
       "      <td>&lt;NA&gt;</td>\n",
       "      <td>&lt;NA&gt;</td>\n",
       "      <td>&lt;NA&gt;</td>\n",
       "      <td>&lt;NA&gt;</td>\n",
       "      <td>&lt;NA&gt;</td>\n",
       "      <td>NaN</td>\n",
       "    </tr>\n",
       "    <tr>\n",
       "      <th>670135</th>\n",
       "      <td>&lt;NA&gt;</td>\n",
       "      <td>&lt;NA&gt;</td>\n",
       "      <td>&lt;NA&gt;</td>\n",
       "      <td>&lt;NA&gt;</td>\n",
       "      <td>&lt;NA&gt;</td>\n",
       "      <td>&lt;NA&gt;</td>\n",
       "      <td>&lt;NA&gt;</td>\n",
       "      <td>&lt;NA&gt;</td>\n",
       "      <td>&lt;NA&gt;</td>\n",
       "      <td>&lt;NA&gt;</td>\n",
       "      <td>NaN</td>\n",
       "    </tr>\n",
       "    <tr>\n",
       "      <th>670136</th>\n",
       "      <td>&lt;NA&gt;</td>\n",
       "      <td>&lt;NA&gt;</td>\n",
       "      <td>&lt;NA&gt;</td>\n",
       "      <td>&lt;NA&gt;</td>\n",
       "      <td>&lt;NA&gt;</td>\n",
       "      <td>&lt;NA&gt;</td>\n",
       "      <td>&lt;NA&gt;</td>\n",
       "      <td>&lt;NA&gt;</td>\n",
       "      <td>&lt;NA&gt;</td>\n",
       "      <td>&lt;NA&gt;</td>\n",
       "      <td>NaN</td>\n",
       "    </tr>\n",
       "    <tr>\n",
       "      <th>670143</th>\n",
       "      <td>&lt;NA&gt;</td>\n",
       "      <td>&lt;NA&gt;</td>\n",
       "      <td>&lt;NA&gt;</td>\n",
       "      <td>&lt;NA&gt;</td>\n",
       "      <td>&lt;NA&gt;</td>\n",
       "      <td>&lt;NA&gt;</td>\n",
       "      <td>&lt;NA&gt;</td>\n",
       "      <td>&lt;NA&gt;</td>\n",
       "      <td>&lt;NA&gt;</td>\n",
       "      <td>&lt;NA&gt;</td>\n",
       "      <td>NaN</td>\n",
       "    </tr>\n",
       "  </tbody>\n",
       "</table>\n",
       "<p>3171 rows × 11 columns</p>\n",
       "</div>"
      ],
      "text/plain": [
       "             H_CLEAN  H_COMP_1  H_COMP_2  H_COMP_3  H_COMP_5  H_COMP_6  \\\n",
       "Facility ID                                                              \n",
       "010001            87        90        91        84        80        90   \n",
       "010005            85        91        93        83        80        90   \n",
       "010006            86        90        92        78        76        84   \n",
       "010007            88        91        92        86        83        90   \n",
       "010008          <NA>      <NA>      <NA>      <NA>      <NA>      <NA>   \n",
       "...              ...       ...       ...       ...       ...       ...   \n",
       "670133          <NA>      <NA>      <NA>      <NA>      <NA>      <NA>   \n",
       "670134          <NA>      <NA>      <NA>      <NA>      <NA>      <NA>   \n",
       "670135          <NA>      <NA>      <NA>      <NA>      <NA>      <NA>   \n",
       "670136          <NA>      <NA>      <NA>      <NA>      <NA>      <NA>   \n",
       "670143          <NA>      <NA>      <NA>      <NA>      <NA>      <NA>   \n",
       "\n",
       "             H_COMP_7  H_HSP_RATING  H_QUIET  H_RECMND  Total HAC Score  \n",
       "Facility ID                                                              \n",
       "010001             82            88       86        90          -0.3958  \n",
       "010005             81            88       85        88           0.5547  \n",
       "010006             80            86       87        87          -0.0853  \n",
       "010007             83            88       88        88          -0.7965  \n",
       "010008           <NA>          <NA>     <NA>      <NA>           0.0247  \n",
       "...               ...           ...      ...       ...              ...  \n",
       "670133           <NA>          <NA>     <NA>      <NA>              NaN  \n",
       "670134           <NA>          <NA>     <NA>      <NA>              NaN  \n",
       "670135           <NA>          <NA>     <NA>      <NA>              NaN  \n",
       "670136           <NA>          <NA>     <NA>      <NA>              NaN  \n",
       "670143           <NA>          <NA>     <NA>      <NA>              NaN  \n",
       "\n",
       "[3171 rows x 11 columns]"
      ]
     },
     "execution_count": 58,
     "metadata": {},
     "output_type": "execute_result"
    }
   ],
   "source": [
    "lin_hac = pd.merge(linear_pv, hac, on='Facility ID').drop(columns='Payment Reduction')\n",
    "lin_hac"
   ]
  },
  {
   "cell_type": "code",
   "execution_count": 61,
   "metadata": {
    "scrolled": true
   },
   "outputs": [
    {
     "data": {
      "text/plain": [
       "H_COMP_3       -0.227254\n",
       "H_CLEAN        -0.211575\n",
       "H_QUIET        -0.202352\n",
       "H_COMP_5       -0.191847\n",
       "H_COMP_7       -0.180225\n",
       "H_COMP_1       -0.179704\n",
       "H_HSP_RATING   -0.173021\n",
       "H_COMP_2       -0.165452\n",
       "H_COMP_6       -0.143240\n",
       "H_RECMND       -0.138713\n",
       "Name: Total HAC Score, dtype: float64"
      ]
     },
     "execution_count": 61,
     "metadata": {},
     "output_type": "execute_result"
    }
   ],
   "source": [
    "hac_corr = lin_hac.corr()[:-1]['Total HAC Score'].sort_values()\n",
    "hac_corr"
   ]
  },
  {
   "cell_type": "code",
   "execution_count": 90,
   "metadata": {
    "scrolled": false
   },
   "outputs": [
    {
     "name": "stdout",
     "output_type": "stream",
     "text": [
      "                            OLS Regression Results                            \n",
      "==============================================================================\n",
      "Dep. Variable:                      y   R-squared:                       0.052\n",
      "Model:                            OLS   Adj. R-squared:                  0.051\n",
      "Method:                 Least Squares   F-statistic:                     156.9\n",
      "Date:                Fri, 23 Jul 2021   Prob (F-statistic):           4.36e-35\n",
      "Time:                        15:41:24   Log-Likelihood:                -2365.6\n",
      "No. Observations:                2883   AIC:                             4735.\n",
      "Df Residuals:                    2881   BIC:                             4747.\n",
      "Df Model:                           1                                         \n",
      "Covariance Type:            nonrobust                                         \n",
      "==============================================================================\n",
      "                 coef    std err          t      P>|t|      [0.025      0.975]\n",
      "------------------------------------------------------------------------------\n",
      "const          2.6586      0.215     12.340      0.000       2.236       3.081\n",
      "x1            -0.0317      0.003    -12.526      0.000      -0.037      -0.027\n",
      "==============================================================================\n",
      "Omnibus:                       17.434   Durbin-Watson:                   1.967\n",
      "Prob(Omnibus):                  0.000   Jarque-Bera (JB):               18.943\n",
      "Skew:                           0.147   Prob(JB):                     7.70e-05\n",
      "Kurtosis:                       3.267   Cond. No.                     1.79e+03\n",
      "==============================================================================\n",
      "\n",
      "Notes:\n",
      "[1] Standard Errors assume that the covariance matrix of the errors is correctly specified.\n",
      "[2] The condition number is large, 1.79e+03. This might indicate that there are\n",
      "strong multicollinearity or other numerical problems.\n"
     ]
    }
   ],
   "source": [
    "hac_C3_X_ = np.array(lin_hac[['H_COMP_3', 'Total HAC Score']].dropna()['H_COMP_3']).astype('float')\n",
    "hac_C3_X = sm.add_constant(hac_C3_X_)\n",
    "hac_C3_y = np.array(lin_hac[['H_COMP_3', 'Total HAC Score']].dropna()['Total HAC Score']).astype('float')\n",
    "hac_C3_m = sm.OLS(hac_C3_y, hac_C3_X)\n",
    "hac_C3_reg = hac_C3_m.fit()\n",
    "print(hac_C3_reg.summary())"
   ]
  },
  {
   "cell_type": "code",
   "execution_count": 91,
   "metadata": {
    "scrolled": true
   },
   "outputs": [
    {
     "data": {
      "image/png": "[encoded data removed]",
      "text/plain": [
       "<Figure size 432x288 with 1 Axes>"
      ]
     },
     "metadata": {
      "needs_background": "light"
     },
     "output_type": "display_data"
    }
   ],
   "source": [
    "_ = sns.regplot(x = hac_C3_X_, y = hac_C3_y, scatter_kws={'color':'slategrey', 'alpha':0.25}, line_kws={\"color\": \"goldenrod\"})\n",
    "_.set_title('Total HAC Score vs Staff Responsiveness')\n",
    "_.set_xlabel('Staff Responsiveness Linear Score')\n",
    "_.set_ylabel('Total HAC Score')\n",
    "plt.show()"
   ]
  },
  {
   "cell_type": "code",
   "execution_count": 92,
   "metadata": {
    "scrolled": true
   },
   "outputs": [
    {
     "name": "stdout",
     "output_type": "stream",
     "text": [
      "                            OLS Regression Results                            \n",
      "==============================================================================\n",
      "Dep. Variable:                      y   R-squared:                       0.066\n",
      "Model:                            OLS   Adj. R-squared:                  0.063\n",
      "Method:                 Least Squares   F-statistic:                     20.31\n",
      "Date:                Fri, 23 Jul 2021   Prob (F-statistic):           8.51e-37\n",
      "Time:                        15:44:55   Log-Likelihood:                -2343.5\n",
      "No. Observations:                2883   AIC:                             4709.\n",
      "Df Residuals:                    2872   BIC:                             4775.\n",
      "Df Model:                          10                                         \n",
      "Covariance Type:            nonrobust                                         \n",
      "==============================================================================\n",
      "                 coef    std err          t      P>|t|      [0.025      0.975]\n",
      "------------------------------------------------------------------------------\n",
      "const          2.7579      0.528      5.222      0.000       1.722       3.793\n",
      "x1            -0.0154      0.004     -3.857      0.000      -0.023      -0.008\n",
      "x2             0.0162      0.010      1.565      0.118      -0.004       0.037\n",
      "x3             0.0009      0.008      0.106      0.915      -0.015       0.017\n",
      "x4            -0.0231      0.005     -4.575      0.000      -0.033      -0.013\n",
      "x5            -0.0005      0.005     -0.106      0.916      -0.010       0.009\n",
      "x6            -0.0011      0.005     -0.242      0.808      -0.010       0.008\n",
      "x7            -0.0072      0.010     -0.754      0.451      -0.026       0.012\n",
      "x8            -0.0019      0.013     -0.146      0.884      -0.028       0.024\n",
      "x9            -0.0107      0.003     -3.704      0.000      -0.016      -0.005\n",
      "x10            0.0082      0.008      1.015      0.310      -0.008       0.024\n",
      "==============================================================================\n",
      "Omnibus:                       27.979   Durbin-Watson:                   1.977\n",
      "Prob(Omnibus):                  0.000   Jarque-Bera (JB):               30.612\n",
      "Skew:                           0.199   Prob(JB):                     2.25e-07\n",
      "Kurtosis:                       3.311   Cond. No.                     1.41e+04\n",
      "==============================================================================\n",
      "\n",
      "Notes:\n",
      "[1] Standard Errors assume that the covariance matrix of the errors is correctly specified.\n",
      "[2] The condition number is large, 1.41e+04. This might indicate that there are\n",
      "strong multicollinearity or other numerical problems.\n"
     ]
    }
   ],
   "source": [
    "hac_all_X = np.array(lin_hac.dropna().iloc[:, range(10)]).astype(float)\n",
    "hac_all_X = sm.add_constant(hac_all_X)\n",
    "hac_all_y = np.array(lin_hac.dropna()['Total HAC Score']).astype(float)\n",
    "hac_all_m = sm.OLS(hac_all_y, hac_all_X)\n",
    "hac_all_reg = hac_all_m.fit()\n",
    "print(hac_all_reg.summary())"
   ]
  },
  {
   "cell_type": "code",
   "execution_count": 104,
   "metadata": {
    "scrolled": false
   },
   "outputs": [
    {
     "data": {
      "text/plain": [
       "<seaborn.axisgrid.FacetGrid at 0x266f2ebc880>"
      ]
     },
     "execution_count": 104,
     "metadata": {},
     "output_type": "execute_result"
    },
    {
     "data": {
      "image/png": "[encoded data removed]",
      "text/plain": [
       "<Figure size 360x360 with 1 Axes>"
      ]
     },
     "metadata": {
      "needs_background": "light"
     },
     "output_type": "display_data"
    }
   ],
   "source": [
    "sns.displot(x=readm_hw['READM_RATE'], kde=True, palette='viridis', stat='density', bins=24)"
   ]
  },
  {
   "cell_type": "code",
   "execution_count": 105,
   "metadata": {},
   "outputs": [
    {
     "data": {
      "text/plain": [
       "<seaborn.axisgrid.FacetGrid at 0x266f31f6640>"
      ]
     },
     "execution_count": 105,
     "metadata": {},
     "output_type": "execute_result"
    },
    {
     "data": {
      "image/png": "[encoded data removed]",
      "text/plain": [
       "<Figure size 360x360 with 1 Axes>"
      ]
     },
     "metadata": {
      "needs_background": "light"
     },
     "output_type": "display_data"
    }
   ],
   "source": [
    "sns.displot(x=hac['Total HAC Score'], kde=True, palette='viridis', stat='density', bins=24)"
   ]
  },
  {
   "cell_type": "code",
   "execution_count": 110,
   "metadata": {
    "scrolled": true
   },
   "outputs": [
    {
     "data": {
      "text/html": [
       "<div>\n",
       "<style scoped>\n",
       "    .dataframe tbody tr th:only-of-type {\n",
       "        vertical-align: middle;\n",
       "    }\n",
       "\n",
       "    .dataframe tbody tr th {\n",
       "        vertical-align: top;\n",
       "    }\n",
       "\n",
       "    .dataframe thead th {\n",
       "        text-align: right;\n",
       "    }\n",
       "</style>\n",
       "<table border=\"1\" class=\"dataframe\">\n",
       "  <thead>\n",
       "    <tr style=\"text-align: right;\">\n",
       "      <th></th>\n",
       "      <th>READM_RATE</th>\n",
       "      <th>Total HAC Score</th>\n",
       "    </tr>\n",
       "    <tr>\n",
       "      <th>Facility ID</th>\n",
       "      <th></th>\n",
       "      <th></th>\n",
       "    </tr>\n",
       "  </thead>\n",
       "  <tbody>\n",
       "    <tr>\n",
       "      <th>010001</th>\n",
       "      <td>15.5</td>\n",
       "      <td>-0.3958</td>\n",
       "    </tr>\n",
       "    <tr>\n",
       "      <th>010005</th>\n",
       "      <td>14.7</td>\n",
       "      <td>0.5547</td>\n",
       "    </tr>\n",
       "    <tr>\n",
       "      <th>010006</th>\n",
       "      <td>15.7</td>\n",
       "      <td>-0.0853</td>\n",
       "    </tr>\n",
       "    <tr>\n",
       "      <th>010007</th>\n",
       "      <td>15.7</td>\n",
       "      <td>-0.7965</td>\n",
       "    </tr>\n",
       "    <tr>\n",
       "      <th>010008</th>\n",
       "      <td>15.3</td>\n",
       "      <td>0.0247</td>\n",
       "    </tr>\n",
       "    <tr>\n",
       "      <th>...</th>\n",
       "      <td>...</td>\n",
       "      <td>...</td>\n",
       "    </tr>\n",
       "    <tr>\n",
       "      <th>670112</th>\n",
       "      <td>14.5</td>\n",
       "      <td>-0.0149</td>\n",
       "    </tr>\n",
       "    <tr>\n",
       "      <th>670116</th>\n",
       "      <td>15.9</td>\n",
       "      <td>-0.3018</td>\n",
       "    </tr>\n",
       "    <tr>\n",
       "      <th>670120</th>\n",
       "      <td>16.5</td>\n",
       "      <td>-0.6383</td>\n",
       "    </tr>\n",
       "    <tr>\n",
       "      <th>670122</th>\n",
       "      <td>16.9</td>\n",
       "      <td>-1.1071</td>\n",
       "    </tr>\n",
       "    <tr>\n",
       "      <th>670124</th>\n",
       "      <td>15.5</td>\n",
       "      <td>0.1084</td>\n",
       "    </tr>\n",
       "  </tbody>\n",
       "</table>\n",
       "<p>3032 rows × 2 columns</p>\n",
       "</div>"
      ],
      "text/plain": [
       "             READM_RATE  Total HAC Score\n",
       "Facility ID                             \n",
       "010001             15.5          -0.3958\n",
       "010005             14.7           0.5547\n",
       "010006             15.7          -0.0853\n",
       "010007             15.7          -0.7965\n",
       "010008             15.3           0.0247\n",
       "...                 ...              ...\n",
       "670112             14.5          -0.0149\n",
       "670116             15.9          -0.3018\n",
       "670120             16.5          -0.6383\n",
       "670122             16.9          -1.1071\n",
       "670124             15.5           0.1084\n",
       "\n",
       "[3032 rows x 2 columns]"
      ]
     },
     "execution_count": 110,
     "metadata": {},
     "output_type": "execute_result"
    }
   ],
   "source": [
    "readm_hac = pd.merge(readm_hw, hac, on='Facility ID').drop(columns='Payment Reduction').dropna()\n",
    "readm_hac"
   ]
  },
  {
   "cell_type": "code",
   "execution_count": 109,
   "metadata": {},
   "outputs": [
    {
     "data": {
      "text/plain": [
       "READM_RATE         float64\n",
       "Total HAC Score    float64\n",
       "dtype: object"
      ]
     },
     "execution_count": 109,
     "metadata": {},
     "output_type": "execute_result"
    }
   ],
   "source": [
    "readm_hac.dtypes"
   ]
  },
  {
   "cell_type": "code",
   "execution_count": 113,
   "metadata": {},
   "outputs": [
    {
     "data": {
      "text/plain": [
       "<seaborn.axisgrid.FacetGrid at 0x266f3206f10>"
      ]
     },
     "execution_count": 113,
     "metadata": {},
     "output_type": "execute_result"
    },
    {
     "data": {
      "image/png": "[encoded data removed]",
      "text/plain": [
       "<Figure size 360x360 with 1 Axes>"
      ]
     },
     "metadata": {
      "needs_background": "light"
     },
     "output_type": "display_data"
    }
   ],
   "source": [
    "sns.displot(data=readm_hac, x='READM_RATE', y='Total HAC Score', palette='viridis')"
   ]
  },
  {
   "cell_type": "code",
   "execution_count": 114,
   "metadata": {},
   "outputs": [
    {
     "data": {
      "text/plain": [
       "<AxesSubplot:xlabel='READM_RATE', ylabel='Total HAC Score'>"
      ]
     },
     "execution_count": 114,
     "metadata": {},
     "output_type": "execute_result"
    },
    {
     "data": {
      "image/png": "[encoded data removed]",
      "text/plain": [
       "<Figure size 432x288 with 1 Axes>"
      ]
     },
     "metadata": {
      "needs_background": "light"
     },
     "output_type": "display_data"
    }
   ],
   "source": [
    "sns.scatterplot(data=readm_hac, x='READM_RATE', y='Total HAC Score', palette='viridis')"
   ]
  }
 ],
 "metadata": {
  "kernelspec": {
   "display_name": "Python 3",
   "language": "python",
   "name": "python3"
  },
  "language_info": {
   "codemirror_mode": {
    "name": "ipython",
    "version": 3
   },
   "file_extension": ".py",
   "mimetype": "text/x-python",
   "name": "python",
   "nbconvert_exporter": "python",
   "pygments_lexer": "ipython3",
   "version": "3.8.5"
  }
 },
 "nbformat": 4,
 "nbformat_minor": 4
}
