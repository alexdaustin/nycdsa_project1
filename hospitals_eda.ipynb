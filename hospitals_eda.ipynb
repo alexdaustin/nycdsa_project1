{
 "cells": [
  {
   "cell_type": "markdown",
   "metadata": {},
   "source": [
    "## Working notebook for Python data analysis project"
   ]
  },
  {
   "cell_type": "code",
   "execution_count": 47,
   "metadata": {},
   "outputs": [],
   "source": [
    "import numpy as np\n",
    "import pandas as pd\n",
    "import re"
   ]
  },
  {
   "cell_type": "code",
   "execution_count": 67,
   "metadata": {},
   "outputs": [],
   "source": [
    "surveys_dtypes = {'Facility ID':'string',\n",
    " 'Facility Name':'string',\n",
    " 'Address':'string',\n",
    " 'City':'string',\n",
    " 'State':'string',\n",
    " 'ZIP Code':'string',\n",
    " 'County Name':'string',\n",
    " 'Phone Number':'string',\n",
    " 'HCAHPS Measure ID':'string',\n",
    " 'HCAHPS Question':'string',\n",
    " 'HCAHPS Answer Description':'string',\n",
    " 'Patient Survey Star Rating':'Int32',\n",
    " 'Patient Survey Star Rating Footnote':'string',\n",
    " 'HCAHPS Answer Percent':'Int32',\n",
    " 'HCAHPS Answer Percent Footnote':'string',\n",
    " 'HCAHPS Linear Mean Value':'Int32',\n",
    " 'Number of Completed Surveys':'Int32',\n",
    " 'Number of Completed Surveys Footnote':'string',\n",
    " 'Survey Response Rate Percent':'Int32',\n",
    " 'Survey Response Rate Percent Footnote':'string',\n",
    " 'Start Date':'string',\n",
    " 'End Date':'string'}"
   ]
  },
  {
   "cell_type": "code",
   "execution_count": 68,
   "metadata": {},
   "outputs": [],
   "source": [
    "surveys = pd.read_csv('HCAHPS-Hospital.csv', low_memory = False, \n",
    "                      dtype = surveys_dtypes, na_values = ['Not Available', 'Not Applicable'])"
   ]
  },
  {
   "cell_type": "code",
   "execution_count": 72,
   "metadata": {},
   "outputs": [],
   "source": [
    "unpland_dtypes = {'Facility ID':'string',\n",
    " 'Facility Name':'string',\n",
    " 'Address':'string',\n",
    " 'City':'string',\n",
    " 'State':'string',\n",
    " 'ZIP Code':'string',\n",
    " 'County Name':'string',\n",
    " 'Phone Number':'string',\n",
    " 'Measure ID':'string',\n",
    " 'Measure Name':'string',\n",
    " 'Compared to National':'string',\n",
    " 'Denominator':'float',\n",
    " 'Score':'float',\n",
    " 'Lower Estimate':'float',\n",
    " 'Higher Estimate':'float',\n",
    " 'Number of Patients':'Int32',\n",
    " 'Number of Patients Returned':'Int32',\n",
    " 'Footnote':'string',\n",
    " 'Start Date':'string',\n",
    " 'End Date':'string'}"
   ]
  },
  {
   "cell_type": "code",
   "execution_count": 73,
   "metadata": {},
   "outputs": [],
   "source": [
    "unpland = pd.read_csv('Unplanned_Hospital_Visits-Hospital.csv', \n",
    "                      low_memory = False, \n",
    "                      dtype = unpland_dtypes, na_values = ['Not Available', 'Not Applicable'])"
   ]
  },
  {
   "cell_type": "code",
   "execution_count": 15,
   "metadata": {},
   "outputs": [
    {
     "name": "stdout",
     "output_type": "stream",
     "text": [
      "(452538, 22)\n",
      "4866\n",
      "1\n",
      "1\n",
      "01/01/2019\n",
      "12/31/2019\n"
     ]
    }
   ],
   "source": [
    "print(surveys.shape)\n",
    "print(surveys['Facility ID'].unique().size)\n",
    "print(surveys['Start Date'].unique().size)\n",
    "print(surveys['End Date'].unique().size)\n",
    "print(surveys['Start Date'].unique()[0])\n",
    "print(surveys['End Date'].unique()[0])"
   ]
  },
  {
   "cell_type": "code",
   "execution_count": 50,
   "metadata": {},
   "outputs": [
    {
     "name": "stdout",
     "output_type": "stream",
     "text": [
      "(68124, 20)\n",
      "4866\n",
      "4\n",
      "2\n",
      "['07/01/2017' '01/01/2017' '01/01/2019' '07/01/2019']\n",
      "['12/01/2019' '12/24/2019']\n"
     ]
    }
   ],
   "source": [
    "print(unpland.shape)\n",
    "print(unpland['Facility ID'].unique().size)\n",
    "print(unpland['Start Date'].unique().size)\n",
    "print(unpland['End Date'].unique().size)\n",
    "print(unpland['Start Date'].unique())\n",
    "print(unpland['End Date'].unique())"
   ]
  },
  {
   "cell_type": "markdown",
   "metadata": {},
   "source": [
    "#### Note that the survey data is for 2019 only, whereas the unplanned visits data can span periods beginning in 2017. It is impossible (or at least problematic) to extract only 2019 data from unplanned visits because a single measure (single row) can have a start date in 2017 and an end date in 2019. We will continue with the analysis but this is certainly an issue to be aware of and communicated along with the results."
   ]
  },
  {
   "cell_type": "code",
   "execution_count": 18,
   "metadata": {
    "scrolled": false
   },
   "outputs": [
    {
     "data": {
      "text/plain": [
       "[(0, 'Facility ID'),\n",
       " (1, 'Facility Name'),\n",
       " (2, 'Address'),\n",
       " (3, 'City'),\n",
       " (4, 'State'),\n",
       " (5, 'ZIP Code'),\n",
       " (6, 'County Name'),\n",
       " (7, 'Phone Number'),\n",
       " (8, 'HCAHPS Measure ID'),\n",
       " (9, 'HCAHPS Question'),\n",
       " (10, 'HCAHPS Answer Description'),\n",
       " (11, 'Patient Survey Star Rating'),\n",
       " (12, 'Patient Survey Star Rating Footnote'),\n",
       " (13, 'HCAHPS Answer Percent'),\n",
       " (14, 'HCAHPS Answer Percent Footnote'),\n",
       " (15, 'HCAHPS Linear Mean Value'),\n",
       " (16, 'Number of Completed Surveys'),\n",
       " (17, 'Number of Completed Surveys Footnote'),\n",
       " (18, 'Survey Response Rate Percent'),\n",
       " (19, 'Survey Response Rate Percent Footnote'),\n",
       " (20, 'Start Date'),\n",
       " (21, 'End Date')]"
      ]
     },
     "execution_count": 18,
     "metadata": {},
     "output_type": "execute_result"
    }
   ],
   "source": [
    "list(enumerate(surveys.columns.tolist()))"
   ]
  },
  {
   "cell_type": "code",
   "execution_count": 30,
   "metadata": {},
   "outputs": [],
   "source": [
    "surv_red_ = surveys.iloc[:,[0, 8, 11, 13, 15, 16, 18]]"
   ]
  },
  {
   "cell_type": "code",
   "execution_count": 31,
   "metadata": {
    "scrolled": true
   },
   "outputs": [
    {
     "data": {
      "text/html": [
       "<div>\n",
       "<style scoped>\n",
       "    .dataframe tbody tr th:only-of-type {\n",
       "        vertical-align: middle;\n",
       "    }\n",
       "\n",
       "    .dataframe tbody tr th {\n",
       "        vertical-align: top;\n",
       "    }\n",
       "\n",
       "    .dataframe thead th {\n",
       "        text-align: right;\n",
       "    }\n",
       "</style>\n",
       "<table border=\"1\" class=\"dataframe\">\n",
       "  <thead>\n",
       "    <tr style=\"text-align: right;\">\n",
       "      <th></th>\n",
       "      <th>Facility ID</th>\n",
       "      <th>HCAHPS Measure ID</th>\n",
       "      <th>Patient Survey Star Rating</th>\n",
       "      <th>HCAHPS Answer Percent</th>\n",
       "      <th>HCAHPS Linear Mean Value</th>\n",
       "      <th>Number of Completed Surveys</th>\n",
       "      <th>Survey Response Rate Percent</th>\n",
       "    </tr>\n",
       "  </thead>\n",
       "  <tbody>\n",
       "    <tr>\n",
       "      <th>0</th>\n",
       "      <td>010001</td>\n",
       "      <td>H_COMP_1_A_P</td>\n",
       "      <td>Not Applicable</td>\n",
       "      <td>77</td>\n",
       "      <td>Not Applicable</td>\n",
       "      <td>507</td>\n",
       "      <td>21</td>\n",
       "    </tr>\n",
       "    <tr>\n",
       "      <th>1</th>\n",
       "      <td>010001</td>\n",
       "      <td>H_COMP_1_SN_P</td>\n",
       "      <td>Not Applicable</td>\n",
       "      <td>7</td>\n",
       "      <td>Not Applicable</td>\n",
       "      <td>507</td>\n",
       "      <td>21</td>\n",
       "    </tr>\n",
       "    <tr>\n",
       "      <th>2</th>\n",
       "      <td>010001</td>\n",
       "      <td>H_COMP_1_U_P</td>\n",
       "      <td>Not Applicable</td>\n",
       "      <td>16</td>\n",
       "      <td>Not Applicable</td>\n",
       "      <td>507</td>\n",
       "      <td>21</td>\n",
       "    </tr>\n",
       "    <tr>\n",
       "      <th>3</th>\n",
       "      <td>010001</td>\n",
       "      <td>H_COMP_1_LINEAR_SCORE</td>\n",
       "      <td>Not Applicable</td>\n",
       "      <td>Not Applicable</td>\n",
       "      <td>90</td>\n",
       "      <td>507</td>\n",
       "      <td>21</td>\n",
       "    </tr>\n",
       "    <tr>\n",
       "      <th>4</th>\n",
       "      <td>010001</td>\n",
       "      <td>H_COMP_1_STAR_RATING</td>\n",
       "      <td>3</td>\n",
       "      <td>Not Applicable</td>\n",
       "      <td>Not Applicable</td>\n",
       "      <td>507</td>\n",
       "      <td>21</td>\n",
       "    </tr>\n",
       "  </tbody>\n",
       "</table>\n",
       "</div>"
      ],
      "text/plain": [
       "  Facility ID      HCAHPS Measure ID Patient Survey Star Rating  \\\n",
       "0      010001           H_COMP_1_A_P             Not Applicable   \n",
       "1      010001          H_COMP_1_SN_P             Not Applicable   \n",
       "2      010001           H_COMP_1_U_P             Not Applicable   \n",
       "3      010001  H_COMP_1_LINEAR_SCORE             Not Applicable   \n",
       "4      010001   H_COMP_1_STAR_RATING                          3   \n",
       "\n",
       "  HCAHPS Answer Percent HCAHPS Linear Mean Value Number of Completed Surveys  \\\n",
       "0                    77           Not Applicable                         507   \n",
       "1                     7           Not Applicable                         507   \n",
       "2                    16           Not Applicable                         507   \n",
       "3        Not Applicable                       90                         507   \n",
       "4        Not Applicable           Not Applicable                         507   \n",
       "\n",
       "  Survey Response Rate Percent  \n",
       "0                           21  \n",
       "1                           21  \n",
       "2                           21  \n",
       "3                           21  \n",
       "4                           21  "
      ]
     },
     "execution_count": 31,
     "metadata": {},
     "output_type": "execute_result"
    }
   ],
   "source": [
    "surv_red_.head()"
   ]
  },
  {
   "cell_type": "code",
   "execution_count": 54,
   "metadata": {
    "scrolled": true
   },
   "outputs": [
    {
     "data": {
      "text/plain": [
       "False"
      ]
     },
     "execution_count": 54,
     "metadata": {},
     "output_type": "execute_result"
    }
   ],
   "source": [
    "re.search('LINEAR_SCORE$', 'H_COMP_1_LINEAR_SCORE') != None"
   ]
  },
  {
   "cell_type": "code",
   "execution_count": 41,
   "metadata": {},
   "outputs": [],
   "source": [
    "surv_red = surv_red_.astype('string')"
   ]
  },
  {
   "cell_type": "code",
   "execution_count": 56,
   "metadata": {
    "scrolled": true
   },
   "outputs": [
    {
     "data": {
      "text/plain": [
       "[(0, 'Facility ID'),\n",
       " (1, 'HCAHPS Measure ID'),\n",
       " (2, 'Patient Survey Star Rating'),\n",
       " (3, 'HCAHPS Answer Percent'),\n",
       " (4, 'HCAHPS Linear Mean Value'),\n",
       " (5, 'Number of Completed Surveys'),\n",
       " (6, 'Survey Response Rate Percent')]"
      ]
     },
     "execution_count": 56,
     "metadata": {},
     "output_type": "execute_result"
    }
   ],
   "source": [
    "list(enumerate(surv_red.columns.tolist()))"
   ]
  },
  {
   "cell_type": "code",
   "execution_count": 58,
   "metadata": {},
   "outputs": [
    {
     "data": {
      "text/plain": [
       "0         False\n",
       "1         False\n",
       "2         False\n",
       "3         False\n",
       "4          True\n",
       "          ...  \n",
       "452533    False\n",
       "452534    False\n",
       "452535    False\n",
       "452536     True\n",
       "452537     True\n",
       "Name: HCAHPS Measure ID, Length: 452538, dtype: bool"
      ]
     },
     "execution_count": 58,
     "metadata": {},
     "output_type": "execute_result"
    }
   ],
   "source": [
    "surv_red['HCAHPS Measure ID'].apply(lambda x: re.search('STAR_RATING$', x) != None)"
   ]
  },
  {
   "cell_type": "code",
   "execution_count": 59,
   "metadata": {},
   "outputs": [],
   "source": [
    "star_ratings = surv_red.iloc[:, [0, 1, 2]][surv_red['HCAHPS Measure ID'].apply(lambda x: re.search('STAR_RATING$', x) != None)]"
   ]
  },
  {
   "cell_type": "code",
   "execution_count": 60,
   "metadata": {},
   "outputs": [
    {
     "data": {
      "text/html": [
       "<div>\n",
       "<style scoped>\n",
       "    .dataframe tbody tr th:only-of-type {\n",
       "        vertical-align: middle;\n",
       "    }\n",
       "\n",
       "    .dataframe tbody tr th {\n",
       "        vertical-align: top;\n",
       "    }\n",
       "\n",
       "    .dataframe thead th {\n",
       "        text-align: right;\n",
       "    }\n",
       "</style>\n",
       "<table border=\"1\" class=\"dataframe\">\n",
       "  <thead>\n",
       "    <tr style=\"text-align: right;\">\n",
       "      <th></th>\n",
       "      <th>Facility ID</th>\n",
       "      <th>HCAHPS Measure ID</th>\n",
       "      <th>Patient Survey Star Rating</th>\n",
       "    </tr>\n",
       "  </thead>\n",
       "  <tbody>\n",
       "    <tr>\n",
       "      <th>4</th>\n",
       "      <td>010001</td>\n",
       "      <td>H_COMP_1_STAR_RATING</td>\n",
       "      <td>3</td>\n",
       "    </tr>\n",
       "    <tr>\n",
       "      <th>18</th>\n",
       "      <td>010001</td>\n",
       "      <td>H_COMP_2_STAR_RATING</td>\n",
       "      <td>3</td>\n",
       "    </tr>\n",
       "    <tr>\n",
       "      <th>32</th>\n",
       "      <td>010001</td>\n",
       "      <td>H_COMP_3_STAR_RATING</td>\n",
       "      <td>3</td>\n",
       "    </tr>\n",
       "    <tr>\n",
       "      <th>43</th>\n",
       "      <td>010001</td>\n",
       "      <td>H_COMP_5_STAR_RATING</td>\n",
       "      <td>3</td>\n",
       "    </tr>\n",
       "    <tr>\n",
       "      <th>53</th>\n",
       "      <td>010001</td>\n",
       "      <td>H_COMP_6_STAR_RATING</td>\n",
       "      <td>4</td>\n",
       "    </tr>\n",
       "    <tr>\n",
       "      <th>...</th>\n",
       "      <td>...</td>\n",
       "      <td>...</td>\n",
       "      <td>...</td>\n",
       "    </tr>\n",
       "    <tr>\n",
       "      <th>452521</th>\n",
       "      <td>670285</td>\n",
       "      <td>H_CLEAN_STAR_RATING</td>\n",
       "      <td>Not Available</td>\n",
       "    </tr>\n",
       "    <tr>\n",
       "      <th>452526</th>\n",
       "      <td>670285</td>\n",
       "      <td>H_QUIET_STAR_RATING</td>\n",
       "      <td>Not Available</td>\n",
       "    </tr>\n",
       "    <tr>\n",
       "      <th>452531</th>\n",
       "      <td>670285</td>\n",
       "      <td>H_HSP_RATING_STAR_RATING</td>\n",
       "      <td>Not Available</td>\n",
       "    </tr>\n",
       "    <tr>\n",
       "      <th>452536</th>\n",
       "      <td>670285</td>\n",
       "      <td>H_RECMND_STAR_RATING</td>\n",
       "      <td>Not Available</td>\n",
       "    </tr>\n",
       "    <tr>\n",
       "      <th>452537</th>\n",
       "      <td>670285</td>\n",
       "      <td>H_STAR_RATING</td>\n",
       "      <td>Not Available</td>\n",
       "    </tr>\n",
       "  </tbody>\n",
       "</table>\n",
       "<p>53526 rows × 3 columns</p>\n",
       "</div>"
      ],
      "text/plain": [
       "       Facility ID         HCAHPS Measure ID Patient Survey Star Rating\n",
       "4           010001      H_COMP_1_STAR_RATING                          3\n",
       "18          010001      H_COMP_2_STAR_RATING                          3\n",
       "32          010001      H_COMP_3_STAR_RATING                          3\n",
       "43          010001      H_COMP_5_STAR_RATING                          3\n",
       "53          010001      H_COMP_6_STAR_RATING                          4\n",
       "...            ...                       ...                        ...\n",
       "452521      670285       H_CLEAN_STAR_RATING              Not Available\n",
       "452526      670285       H_QUIET_STAR_RATING              Not Available\n",
       "452531      670285  H_HSP_RATING_STAR_RATING              Not Available\n",
       "452536      670285      H_RECMND_STAR_RATING              Not Available\n",
       "452537      670285             H_STAR_RATING              Not Available\n",
       "\n",
       "[53526 rows x 3 columns]"
      ]
     },
     "execution_count": 60,
     "metadata": {},
     "output_type": "execute_result"
    }
   ],
   "source": [
    "star_ratings"
   ]
  },
  {
   "cell_type": "code",
   "execution_count": 61,
   "metadata": {},
   "outputs": [],
   "source": [
    "linear_scores = surv_red.iloc[:, [0, 1, 4]][surv_red['HCAHPS Measure ID'].apply(lambda x: re.search('LINEAR_SCORE$', x) != None)]"
   ]
  },
  {
   "cell_type": "code",
   "execution_count": 62,
   "metadata": {},
   "outputs": [
    {
     "data": {
      "text/html": [
       "<div>\n",
       "<style scoped>\n",
       "    .dataframe tbody tr th:only-of-type {\n",
       "        vertical-align: middle;\n",
       "    }\n",
       "\n",
       "    .dataframe tbody tr th {\n",
       "        vertical-align: top;\n",
       "    }\n",
       "\n",
       "    .dataframe thead th {\n",
       "        text-align: right;\n",
       "    }\n",
       "</style>\n",
       "<table border=\"1\" class=\"dataframe\">\n",
       "  <thead>\n",
       "    <tr style=\"text-align: right;\">\n",
       "      <th></th>\n",
       "      <th>Facility ID</th>\n",
       "      <th>HCAHPS Measure ID</th>\n",
       "      <th>HCAHPS Linear Mean Value</th>\n",
       "    </tr>\n",
       "  </thead>\n",
       "  <tbody>\n",
       "    <tr>\n",
       "      <th>3</th>\n",
       "      <td>010001</td>\n",
       "      <td>H_COMP_1_LINEAR_SCORE</td>\n",
       "      <td>90</td>\n",
       "    </tr>\n",
       "    <tr>\n",
       "      <th>17</th>\n",
       "      <td>010001</td>\n",
       "      <td>H_COMP_2_LINEAR_SCORE</td>\n",
       "      <td>91</td>\n",
       "    </tr>\n",
       "    <tr>\n",
       "      <th>31</th>\n",
       "      <td>010001</td>\n",
       "      <td>H_COMP_3_LINEAR_SCORE</td>\n",
       "      <td>84</td>\n",
       "    </tr>\n",
       "    <tr>\n",
       "      <th>42</th>\n",
       "      <td>010001</td>\n",
       "      <td>H_COMP_5_LINEAR_SCORE</td>\n",
       "      <td>80</td>\n",
       "    </tr>\n",
       "    <tr>\n",
       "      <th>52</th>\n",
       "      <td>010001</td>\n",
       "      <td>H_COMP_6_LINEAR_SCORE</td>\n",
       "      <td>90</td>\n",
       "    </tr>\n",
       "    <tr>\n",
       "      <th>...</th>\n",
       "      <td>...</td>\n",
       "      <td>...</td>\n",
       "      <td>...</td>\n",
       "    </tr>\n",
       "    <tr>\n",
       "      <th>452506</th>\n",
       "      <td>670285</td>\n",
       "      <td>H_COMP_7_LINEAR_SCORE</td>\n",
       "      <td>Not Available</td>\n",
       "    </tr>\n",
       "    <tr>\n",
       "      <th>452520</th>\n",
       "      <td>670285</td>\n",
       "      <td>H_CLEAN_LINEAR_SCORE</td>\n",
       "      <td>Not Available</td>\n",
       "    </tr>\n",
       "    <tr>\n",
       "      <th>452525</th>\n",
       "      <td>670285</td>\n",
       "      <td>H_QUIET_LINEAR_SCORE</td>\n",
       "      <td>Not Available</td>\n",
       "    </tr>\n",
       "    <tr>\n",
       "      <th>452530</th>\n",
       "      <td>670285</td>\n",
       "      <td>H_HSP_RATING_LINEAR_SCORE</td>\n",
       "      <td>Not Available</td>\n",
       "    </tr>\n",
       "    <tr>\n",
       "      <th>452535</th>\n",
       "      <td>670285</td>\n",
       "      <td>H_RECMND_LINEAR_SCORE</td>\n",
       "      <td>Not Available</td>\n",
       "    </tr>\n",
       "  </tbody>\n",
       "</table>\n",
       "<p>48660 rows × 3 columns</p>\n",
       "</div>"
      ],
      "text/plain": [
       "       Facility ID          HCAHPS Measure ID HCAHPS Linear Mean Value\n",
       "3           010001      H_COMP_1_LINEAR_SCORE                       90\n",
       "17          010001      H_COMP_2_LINEAR_SCORE                       91\n",
       "31          010001      H_COMP_3_LINEAR_SCORE                       84\n",
       "42          010001      H_COMP_5_LINEAR_SCORE                       80\n",
       "52          010001      H_COMP_6_LINEAR_SCORE                       90\n",
       "...            ...                        ...                      ...\n",
       "452506      670285      H_COMP_7_LINEAR_SCORE            Not Available\n",
       "452520      670285       H_CLEAN_LINEAR_SCORE            Not Available\n",
       "452525      670285       H_QUIET_LINEAR_SCORE            Not Available\n",
       "452530      670285  H_HSP_RATING_LINEAR_SCORE            Not Available\n",
       "452535      670285      H_RECMND_LINEAR_SCORE            Not Available\n",
       "\n",
       "[48660 rows x 3 columns]"
      ]
     },
     "execution_count": 62,
     "metadata": {},
     "output_type": "execute_result"
    }
   ],
   "source": [
    "linear_scores"
   ]
  },
  {
   "cell_type": "code",
   "execution_count": 45,
   "metadata": {},
   "outputs": [
    {
     "data": {
      "text/plain": [
       "array([93], dtype=int64)"
      ]
     },
     "execution_count": 45,
     "metadata": {},
     "output_type": "execute_result"
    }
   ],
   "source": [
    "surv_red.groupby('Facility ID').count()['HCAHPS Measure ID'].unique()"
   ]
  },
  {
   "cell_type": "code",
   "execution_count": 46,
   "metadata": {},
   "outputs": [],
   "source": [
    "surv_red[surv_red['Facility ID'] == '010001'].to_csv('all_meas.csv')"
   ]
  },
  {
   "cell_type": "code",
   "execution_count": 8,
   "metadata": {
    "scrolled": true
   },
   "outputs": [
    {
     "data": {
      "text/plain": [
       "['Facility ID',\n",
       " 'Facility Name',\n",
       " 'Address',\n",
       " 'City',\n",
       " 'State',\n",
       " 'ZIP Code',\n",
       " 'County Name',\n",
       " 'Phone Number',\n",
       " 'Measure ID',\n",
       " 'Measure Name',\n",
       " 'Compared to National',\n",
       " 'Denominator',\n",
       " 'Score',\n",
       " 'Lower Estimate',\n",
       " 'Higher Estimate',\n",
       " 'Number of Patients',\n",
       " 'Number of Patients Returned',\n",
       " 'Footnote',\n",
       " 'Start Date',\n",
       " 'End Date']"
      ]
     },
     "execution_count": 8,
     "metadata": {},
     "output_type": "execute_result"
    }
   ],
   "source": [
    "unpland.columns.tolist()"
   ]
  },
  {
   "cell_type": "markdown",
   "metadata": {},
   "source": [
    "#### For the most part footnotes explain why a value is missing, or give information on a restriction that applies to a measure. At this time they are deemed unimportant. "
   ]
  }
 ],
 "metadata": {
  "kernelspec": {
   "display_name": "Python 3",
   "language": "python",
   "name": "python3"
  },
  "language_info": {
   "codemirror_mode": {
    "name": "ipython",
    "version": 3
   },
   "file_extension": ".py",
   "mimetype": "text/x-python",
   "name": "python",
   "nbconvert_exporter": "python",
   "pygments_lexer": "ipython3",
   "version": "3.8.5"
  }
 },
 "nbformat": 4,
 "nbformat_minor": 4
}
